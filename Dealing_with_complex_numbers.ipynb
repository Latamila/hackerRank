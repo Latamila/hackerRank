{
  "nbformat": 4,
  "nbformat_minor": 0,
  "metadata": {
    "colab": {
      "provenance": [],
      "authorship_tag": "ABX9TyPjP2ZSAhJp5L1BSvI8OZYw",
      "include_colab_link": true
    },
    "kernelspec": {
      "name": "python3",
      "display_name": "Python 3"
    },
    "language_info": {
      "name": "python"
    }
  },
  "cells": [
    {
      "cell_type": "markdown",
      "metadata": {
        "id": "view-in-github",
        "colab_type": "text"
      },
      "source": [
        "<a href=\"https://colab.research.google.com/github/Latamila/hackerRank/blob/main/Dealing_with_complex_numbers.ipynb\" target=\"_parent\"><img src=\"https://colab.research.google.com/assets/colab-badge.svg\" alt=\"Open In Colab\"/></a>"
      ]
    },
    {
      "cell_type": "markdown",
      "source": [
        "Para este desafio, você recebe dois números complexos e deve imprimir o resultado de suas operações de adição, subtração, multiplicação, divisão e módulo.\n",
        "\n",
        "A parte de precisão real e imaginária deverá estar correta até duas casas decimais.\n",
        "\n",
        "Formato de entrada\n",
        "\n",
        "Uma linha de entrada: a parte real e imaginária de um número separada por um espaço.\n",
        "\n",
        "\n",
        "- Métodos com um sublinhado duplo antes e depois do nome são considerados métodos integrados. Eles são usados ​​por intérpretes e geralmente são usados ​​na implementação de operadores sobrecarregados ou outras funcionalidades integradas."
      ],
      "metadata": {
        "id": "P9ylIMR_k_Kj"
      }
    },
    {
      "cell_type": "code",
      "source": [
        "import math\n",
        "\n",
        "class Complex(object):\n",
        "    def __init__(self, real, imaginary):\n",
        "        self.real = real\n",
        "        self.imaginary = imaginary\n",
        "\n",
        "    def __add__(self, no):\n",
        "        return Complex(self.real + no.real, self.imaginary + no.imaginary)\n",
        "\n",
        "    def __sub__(self, no):\n",
        "        return Complex(self.real - no.real, self.imaginary - no.imaginary)\n",
        "\n",
        "    def __mul__(self, no):\n",
        "        produto = complex(self.real, self.imaginary)*complex(no.real, no.imaginary)\n",
        "        return Complex(produto.real, produto.imag)\n",
        "\n",
        "    def __truediv__(self, no):\n",
        "        div = complex(self.real, self.imaginary)/complex(no.real, no.imaginary)\n",
        "        return Complex(div.real, div.imag)\n",
        "\n",
        "    def mod(self):\n",
        "        m = math.sqrt(self.real**2 + self.imaginary**2)\n",
        "        return Complex(m,0)\n",
        "\n",
        "    def __str__(self):\n",
        "        if self.imaginary == 0:\n",
        "            result = \"%.2f+0.00i\" % (self.real)\n",
        "        elif self.real == 0:\n",
        "            if self.imaginary >= 0:\n",
        "                result = \"0.00+%.2fi\" % (self.imaginary)\n",
        "            else:\n",
        "                result = \"0.00-%.2fi\" % (abs(self.imaginary))\n",
        "        elif self.imaginary > 0:\n",
        "            result = \"%.2f+%.2fi\" % (self.real, self.imaginary)\n",
        "        else:\n",
        "            result = \"%.2f-%.2fi\" % (self.real, abs(self.imaginary))\n",
        "        return result"
      ],
      "metadata": {
        "id": "NPlUqUDzlE0B"
      },
      "execution_count": 1,
      "outputs": []
    },
    {
      "cell_type": "code",
      "source": [],
      "metadata": {
        "id": "JGFPvDZzpVPv"
      },
      "execution_count": null,
      "outputs": []
    }
  ]
}