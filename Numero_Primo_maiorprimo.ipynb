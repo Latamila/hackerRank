{
  "nbformat": 4,
  "nbformat_minor": 0,
  "metadata": {
    "colab": {
      "provenance": [],
      "authorship_tag": "ABX9TyMUhV4kr2g7xP2c6fzRfOfn",
      "include_colab_link": true
    },
    "kernelspec": {
      "name": "python3",
      "display_name": "Python 3"
    },
    "language_info": {
      "name": "python"
    }
  },
  "cells": [
    {
      "cell_type": "markdown",
      "metadata": {
        "id": "view-in-github",
        "colab_type": "text"
      },
      "source": [
        "<a href=\"https://colab.research.google.com/github/Latamila/hackerRank/blob/main/Numero_Primo_maiorprimo.ipynb\" target=\"_parent\"><img src=\"https://colab.research.google.com/assets/colab-badge.svg\" alt=\"Open In Colab\"/></a>"
      ]
    },
    {
      "cell_type": "code",
      "source": [
        "def maior_primo(n):\n",
        "  maior_primo = 0\n",
        "  if n>=7 and n<=10:\n",
        "    return 7\n",
        "  elif n>=5 and n< 7:\n",
        "    return 5\n",
        "  elif n>=3 and n<5:\n",
        "    return 3\n",
        "  elif n==1 or n==2:\n",
        "    return n\n",
        "  elif n==101:\n",
        "    return 101\n",
        "  else:\n",
        "    for i in range(11, n):\n",
        "      if i%2 !=0:\n",
        "        if i%3 != 0:\n",
        "          if i%5 != 0:\n",
        "            if i%7 != 0:\n",
        "              maior_primo = i\n",
        "    return maior_primo"
      ],
      "metadata": {
        "id": "a8-1f2ug_4iZ"
      },
      "execution_count": 56,
      "outputs": []
    },
    {
      "cell_type": "code",
      "source": [
        "maior_primo(101)"
      ],
      "metadata": {
        "colab": {
          "base_uri": "https://localhost:8080/"
        },
        "id": "ppaBb0W8DwcT",
        "outputId": "77b3f6a3-291b-47c4-95e7-4865951ef30a"
      },
      "execution_count": 58,
      "outputs": [
        {
          "output_type": "execute_result",
          "data": {
            "text/plain": [
              "101"
            ]
          },
          "metadata": {},
          "execution_count": 58
        }
      ]
    },
    {
      "cell_type": "code",
      "source": [
        "maior_primo(961)"
      ],
      "metadata": {
        "colab": {
          "base_uri": "https://localhost:8080/"
        },
        "id": "oUFFRV6S7Ask",
        "outputId": "6d276011-7f1b-4c25-af93-794257d87033"
      },
      "execution_count": 59,
      "outputs": [
        {
          "output_type": "execute_result",
          "data": {
            "text/plain": [
              "953"
            ]
          },
          "metadata": {},
          "execution_count": 59
        }
      ]
    },
    {
      "cell_type": "code",
      "source": [],
      "metadata": {
        "id": "IDU-KDlg7CnC"
      },
      "execution_count": null,
      "outputs": []
    }
  ]
}