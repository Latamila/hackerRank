{
  "nbformat": 4,
  "nbformat_minor": 0,
  "metadata": {
    "colab": {
      "provenance": [],
      "authorship_tag": "ABX9TyNuGQqrlO9hFH1tVbdcLPJM",
      "include_colab_link": true
    },
    "kernelspec": {
      "name": "python3",
      "display_name": "Python 3"
    },
    "language_info": {
      "name": "python"
    }
  },
  "cells": [
    {
      "cell_type": "markdown",
      "metadata": {
        "id": "view-in-github",
        "colab_type": "text"
      },
      "source": [
        "<a href=\"https://colab.research.google.com/github/Latamila/hackerRank/blob/main/ALGKangaroo.ipynb\" target=\"_parent\"><img src=\"https://colab.research.google.com/assets/colab-badge.svg\" alt=\"Open In Colab\"/></a>"
      ]
    },
    {
      "cell_type": "markdown",
      "source": [
        "Este código Python é uma implementação de uma função chamada kangaroo que verifica se dois cangurus em uma linha reta com posições iniciais x1 e x2 e taxas de pulo v1 e v2 podem pular na mesma posição ao mesmo tempo.\n",
        "\n",
        "A lógica do código é a seguinte:\n",
        "\n",
        "Se o segundo canguru (x2) começar à frente do primeiro (x1) e sua taxa de pulo (v2) for maior ou igual à taxa de pulo do primeiro (v1), então não é possível que os cangurus se encontrem. Portanto, a função retorna \"NO\".\n",
        "\n",
        "Se as velocidades dos dois cangurus forem iguais (v1 é igual a v2), então eles continuarão sempre à mesma distância um do outro, e nunca se encontrarão. Nesse caso, a função também retorna \"NO\".\n",
        "\n",
        "##Caso contrário, a função verifica se a diferença entre as posições iniciais (x1 e x2) é divisível pela diferença das taxas de pulo (v2 - v1). Se for divisível, então em algum ponto no futuro os cangurus estarão na mesma posição ao mesmo tempo, e a função retorna \"YES\". Caso contrário, retorna \"NO\".\n",
        "\n",
        "Em resumo, a função kangaroo determina se dois cangurus podem estar na mesma posição ao mesmo tempo, com base em suas posições iniciais e taxas de pulo.\n",
        "\n",
        "\n",
        "\n",
        "\n",
        "\n",
        "\n"
      ],
      "metadata": {
        "id": "-PNw28UsrrUD"
      }
    },
    {
      "cell_type": "code",
      "execution_count": null,
      "metadata": {
        "id": "6dVIENHP4LyH"
      },
      "outputs": [],
      "source": [
        "x1= 1571\n",
        "v1 = 4240\n",
        "x2 = 9023\n",
        "v2 = 4234\n",
        "res= []"
      ]
    },
    {
      "cell_type": "code",
      "source": [
        "def kangaroo(x1, v1, x2, v2):\n",
        "    if x2 > x1 and v2 > v1:\n",
        "        return 'NO'\n",
        "\n",
        "    else:\n",
        "        if v2 - v1 == 0:\n",
        "            return 'NO'\n",
        "        else:\n",
        "            result = (x1-x2) % (v2-v1)\n",
        "            if result == 0:\n",
        "                return 'YES'\n",
        "            else:\n",
        "                return 'NO'\n",
        "\n",
        "kangaroo(4602,8519,7585,8362)"
      ],
      "metadata": {
        "colab": {
          "base_uri": "https://localhost:8080/",
          "height": 35
        },
        "id": "x2DbUuh4UBBy",
        "outputId": "6f009cb6-1391-469c-b048-4f51eb5306af"
      },
      "execution_count": null,
      "outputs": [
        {
          "output_type": "execute_result",
          "data": {
            "text/plain": [
              "'YES'"
            ],
            "application/vnd.google.colaboratory.intrinsic+json": {
              "type": "string"
            }
          },
          "metadata": {},
          "execution_count": 2
        }
      ]
    },
    {
      "cell_type": "code",
      "source": [
        "kangaroo(55,8223,5803,6509)"
      ],
      "metadata": {
        "colab": {
          "base_uri": "https://localhost:8080/",
          "height": 35
        },
        "id": "8PxtSTTWhHz_",
        "outputId": "e3c1312c-6f64-4385-b7fc-fdd9ac3ea1bf"
      },
      "execution_count": null,
      "outputs": [
        {
          "output_type": "execute_result",
          "data": {
            "text/plain": [
              "'NO'"
            ],
            "application/vnd.google.colaboratory.intrinsic+json": {
              "type": "string"
            }
          },
          "metadata": {},
          "execution_count": 3
        }
      ]
    },
    {
      "cell_type": "code",
      "source": [
        "kangaroo(4523,8092,9419,8076)"
      ],
      "metadata": {
        "colab": {
          "base_uri": "https://localhost:8080/",
          "height": 35
        },
        "id": "r-5RUpCTfXbG",
        "outputId": "4ee38ba5-f8c9-4d3c-8fdf-4d86f9806367"
      },
      "execution_count": null,
      "outputs": [
        {
          "output_type": "execute_result",
          "data": {
            "text/plain": [
              "'YES'"
            ],
            "application/vnd.google.colaboratory.intrinsic+json": {
              "type": "string"
            }
          },
          "metadata": {},
          "execution_count": 4
        }
      ]
    },
    {
      "cell_type": "code",
      "source": [],
      "metadata": {
        "id": "Op4Xo80afewT"
      },
      "execution_count": null,
      "outputs": []
    }
  ]
}