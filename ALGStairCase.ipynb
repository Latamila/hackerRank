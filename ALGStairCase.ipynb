{
  "nbformat": 4,
  "nbformat_minor": 0,
  "metadata": {
    "colab": {
      "provenance": [],
      "authorship_tag": "ABX9TyOC3qdJPk2N5+Q5P1+N0SQq",
      "include_colab_link": true
    },
    "kernelspec": {
      "name": "python3",
      "display_name": "Python 3"
    },
    "language_info": {
      "name": "python"
    }
  },
  "cells": [
    {
      "cell_type": "markdown",
      "metadata": {
        "id": "view-in-github",
        "colab_type": "text"
      },
      "source": [
        "<a href=\"https://colab.research.google.com/github/Latamila/hackerRank/blob/main/ALGStairCase.ipynb\" target=\"_parent\"><img src=\"https://colab.research.google.com/assets/colab-badge.svg\" alt=\"Open In Colab\"/></a>"
      ]
    },
    {
      "cell_type": "code",
      "execution_count": 2,
      "metadata": {
        "colab": {
          "base_uri": "https://localhost:8080/"
        },
        "id": "RiGv1R0KA-KP",
        "outputId": "4bbcc168-163b-4b90-ae2f-43b49862862d"
      },
      "outputs": [
        {
          "output_type": "stream",
          "name": "stdout",
          "text": [
            "HackerRank          \n"
          ]
        }
      ],
      "source": [
        "#imprime a esquerda\n",
        "width = 20\n",
        "print('HackerRank'.ljust(width,' '))"
      ]
    },
    {
      "cell_type": "code",
      "source": [
        "#imprime central\n",
        "width = 20\n",
        "print('HackerRank'.center(width,' '))"
      ],
      "metadata": {
        "colab": {
          "base_uri": "https://localhost:8080/"
        },
        "id": "92lfaU0eBLGl",
        "outputId": "0580b410-cb82-4e7c-f549-f530b1d42365"
      },
      "execution_count": 3,
      "outputs": [
        {
          "output_type": "stream",
          "name": "stdout",
          "text": [
            "     HackerRank     \n"
          ]
        }
      ]
    },
    {
      "cell_type": "code",
      "source": [
        "#imprime à direita\n",
        "width = 20\n",
        "print('HackerRank'.rjust(width,' '))"
      ],
      "metadata": {
        "colab": {
          "base_uri": "https://localhost:8080/"
        },
        "id": "y_giGMN1Bukl",
        "outputId": "fe1dbef8-555f-4677-85d0-1cb7912d2918"
      },
      "execution_count": 5,
      "outputs": [
        {
          "output_type": "stream",
          "name": "stdout",
          "text": [
            "          HackerRank\n"
          ]
        }
      ]
    },
    {
      "cell_type": "code",
      "source": [
        "# realoque tudo ________ com rjust, ljust ou center.\n",
        "\n",
        "n = int(input()) #esse deve ser um numero primo.\n",
        "\n",
        "c = '#'\n",
        "for i in range(1, n+1):\n",
        "  print((c*i).rjust(width,' '))"
      ],
      "metadata": {
        "colab": {
          "base_uri": "https://localhost:8080/"
        },
        "id": "soRCZIgqBYSU",
        "outputId": "5c74c418-9440-40ae-9067-6340fbf5abcb"
      },
      "execution_count": 30,
      "outputs": [
        {
          "output_type": "stream",
          "name": "stdout",
          "text": [
            "4\n",
            "     #\n",
            "    ##\n",
            "   ###\n",
            "  ####\n"
          ]
        }
      ]
    },
    {
      "cell_type": "code",
      "source": [
        "n = int(input()) #esse deve ser um numero primo.\n",
        "\n",
        "c = '#'\n",
        "for i in range(1, n+1):\n",
        "  print(f'{\"#\"*i:>{n}}')"
      ],
      "metadata": {
        "colab": {
          "base_uri": "https://localhost:8080/"
        },
        "id": "BzjQ7YEXCqti",
        "outputId": "4278f6d6-3334-42e7-d218-ec943a8c564b"
      },
      "execution_count": 31,
      "outputs": [
        {
          "output_type": "stream",
          "name": "stdout",
          "text": [
            "4\n",
            "   #\n",
            "  ##\n",
            " ###\n",
            "####\n"
          ]
        }
      ]
    },
    {
      "cell_type": "markdown",
      "source": [
        "#CÓDIGO CORRETO"
      ],
      "metadata": {
        "id": "GjEF9SG4OUmk"
      }
    },
    {
      "cell_type": "code",
      "source": [
        "import math\n",
        "import os\n",
        "import random\n",
        "import re\n",
        "import sys\n",
        "\n",
        "#\n",
        "# Complete the 'staircase' function below.\n",
        "#\n",
        "# The function accepts INTEGER n as parameter.\n",
        "#\n",
        "\n",
        "def staircase(n):\n",
        "    c = '#'\n",
        "    for i in range(1, n+1):\n",
        "        print((c*i).rjust(n,' '))\n",
        "  # Write your code here\n",
        "\n",
        "if __name__ == '__main__':\n",
        "    n = int(input().strip())\n",
        "\n",
        "    staircase(n)"
      ],
      "metadata": {
        "colab": {
          "base_uri": "https://localhost:8080/"
        },
        "id": "prwN6bEPNKuj",
        "outputId": "8f42d3e7-5740-4091-fdfc-4f1eb277838e"
      },
      "execution_count": 33,
      "outputs": [
        {
          "output_type": "stream",
          "name": "stdout",
          "text": [
            "4\n",
            "   #\n",
            "  ##\n",
            " ###\n",
            "####\n"
          ]
        }
      ]
    },
    {
      "cell_type": "markdown",
      "source": [
        "#codigo correto também"
      ],
      "metadata": {
        "id": "YQTeg7JKOjEb"
      }
    },
    {
      "cell_type": "markdown",
      "source": [
        "Este código utiliza o método rjust para justificar à direita a string gerada para cada linha. Aqui está o que acontece na linha de impressão:\n",
        "\n",
        "##(c*i).rjust(width, ' '):\n",
        "\n",
        "Gera uma string que consiste em i caracteres # e, em seguida, justifica à direita com uma largura total de width. No entanto, parece que há um pequeno erro aqui, pois a variável width não está definida no código. Suponho que deveria ser n.\n",
        "\n",
        "##Inclusive a tarefa pede que a função aceite um inteiro N como parâmetro.\n",
        "\n",
        "Portanto, a diferença principal entre os dois códigos está na forma como a formatação é realizada, mas ambos têm o mesmo objetivo de imprimir um triângulo de # com diferentes níveis de largura.\n",
        "\n",
        "Se corrigirmos o segundo código para usar n em vez de width, o resultado deve ser semelhante ao do primeiro código."
      ],
      "metadata": {
        "id": "0cop2O2_POqY"
      }
    },
    {
      "cell_type": "code",
      "source": [
        "import math\n",
        "import os\n",
        "import random\n",
        "import re\n",
        "import sys\n",
        "def staircase(n):\n",
        "    # Write your code here\n",
        "    for i in range(1, n + 1):\n",
        "        print(f'{\"#\"*i:>{n}}')\n",
        "if __name__ == '__main__':\n",
        "    n = int(input().strip())\n",
        "    staircase(n)"
      ],
      "metadata": {
        "id": "Cwlz7wnXOa8y"
      },
      "execution_count": null,
      "outputs": []
    }
  ]
}