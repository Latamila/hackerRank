{
  "nbformat": 4,
  "nbformat_minor": 0,
  "metadata": {
    "colab": {
      "provenance": [],
      "authorship_tag": "ABX9TyNKZ3kp0F0qVyGBMYTDDz1H",
      "include_colab_link": true
    },
    "kernelspec": {
      "name": "python3",
      "display_name": "Python 3"
    },
    "language_info": {
      "name": "python"
    }
  },
  "cells": [
    {
      "cell_type": "markdown",
      "metadata": {
        "id": "view-in-github",
        "colab_type": "text"
      },
      "source": [
        "<a href=\"https://colab.research.google.com/github/Latamila/hackerRank/blob/main/ALGbirthdayCandles.ipynb\" target=\"_parent\"><img src=\"https://colab.research.google.com/assets/colab-badge.svg\" alt=\"Open In Colab\"/></a>"
      ]
    },
    {
      "cell_type": "code",
      "execution_count": 43,
      "metadata": {
        "colab": {
          "base_uri": "https://localhost:8080/"
        },
        "id": "9GK3APhK3WfV",
        "outputId": "48a995c7-dbe3-44ce-be61-42c320f7d562"
      },
      "outputs": [
        {
          "output_type": "stream",
          "name": "stdout",
          "text": [
            "[9, 13, 13, 15, 15, 15, 15, 25, 25, 25]\n"
          ]
        }
      ],
      "source": [
        "n= 4\n",
        "candles_count = [25,15,13,25,15,15,9,13,15,25]\n",
        "candles_count = sorted(candles_count)\n",
        "print(candles_count)"
      ]
    },
    {
      "cell_type": "code",
      "source": [
        "prev = candles_count[0]-1\n",
        "count = 0\n",
        "print(prev)"
      ],
      "metadata": {
        "colab": {
          "base_uri": "https://localhost:8080/"
        },
        "id": "m2ap3x373ukN",
        "outputId": "5436eaa2-2943-4fd4-8627-ce4873749470"
      },
      "execution_count": 44,
      "outputs": [
        {
          "output_type": "stream",
          "name": "stdout",
          "text": [
            "8\n"
          ]
        }
      ]
    },
    {
      "cell_type": "code",
      "source": [
        "for index in range(0, len(candles_count)):\n",
        "  if candles_count[index] == candles_count[-1]:\n",
        "    print(f'valor repetido na posição {index}')\n",
        "    count+=1\n",
        "  prev = candles_count[index]"
      ],
      "metadata": {
        "colab": {
          "base_uri": "https://localhost:8080/"
        },
        "id": "hm0Qe6fD50Zb",
        "outputId": "ac3b5f2c-e562-43ee-d17c-78445155a802"
      },
      "execution_count": 45,
      "outputs": [
        {
          "output_type": "stream",
          "name": "stdout",
          "text": [
            "valor repetido na posição 7\n",
            "valor repetido na posição 8\n",
            "valor repetido na posição 9\n"
          ]
        }
      ]
    },
    {
      "cell_type": "code",
      "source": [
        "print(count)"
      ],
      "metadata": {
        "colab": {
          "base_uri": "https://localhost:8080/"
        },
        "id": "DrztdBMk705J",
        "outputId": "c97110a8-2340-4b16-fc26-74520950c03a"
      },
      "execution_count": 46,
      "outputs": [
        {
          "output_type": "stream",
          "name": "stdout",
          "text": [
            "3\n"
          ]
        }
      ]
    },
    {
      "cell_type": "markdown",
      "source": [
        "#DEPOIS DOS TESTES"
      ],
      "metadata": {
        "id": "yGfixmxXBd-f"
      }
    },
    {
      "cell_type": "code",
      "source": [
        "#!/bin/python3\n",
        "\n",
        "import math\n",
        "import os\n",
        "import random\n",
        "import re\n",
        "import sys\n",
        "\n",
        "#\n",
        "# Complete the 'birthdayCakeCandles' function below.\n",
        "#\n",
        "# The function is expected to return an INTEGER.\n",
        "# The function accepts INTEGER_ARRAY candles as parameter.\n",
        "#\n",
        "\n",
        "def birthdayCakeCandles(candles):\n",
        "    candles = sorted(candles)\n",
        "    count = 0\n",
        "    inicio = candles[0]-1\n",
        "    for i in range(0, len(candles)):\n",
        "        if candles[i] == candles[-1]:\n",
        "            count +=1\n",
        "        inicio = candles[i]\n",
        "    return count\n",
        "    # Write your code here\n",
        "\n",
        "if __name__ == '__main__':\n",
        "    fptr = open(os.environ['OUTPUT_PATH'], 'w')\n",
        "\n",
        "    candles_count = int(input().strip())\n",
        "\n",
        "    candles = list(map(int, input().rstrip().split()))\n",
        "\n",
        "    result = birthdayCakeCandles(candles)\n",
        "\n",
        "    fptr.write(str(result) + '\\n')\n",
        "\n",
        "    fptr.close()\n"
      ],
      "metadata": {
        "id": "WKXt1CKV755b"
      },
      "execution_count": null,
      "outputs": []
    },
    {
      "cell_type": "markdown",
      "source": [
        "#PODE SER ASSIM TAMBÉM"
      ],
      "metadata": {
        "id": "TwfNYYG3Bgw_"
      }
    },
    {
      "cell_type": "code",
      "source": [
        "def birthdayCakeCandles(ar):\n",
        "    # Write your code here\n",
        "    count = 0\n",
        "    maxHeight = max(ar)\n",
        "    for i in ar:\n",
        "        if i == maxHeight:\n",
        "            count += 1\n",
        "    return count\n",
        "if __name__ == '__main__':\n",
        "    fptr = open(os.environ['OUTPUT_PATH'], 'w')\n",
        "    candles_count = int(input().strip())\n",
        "    candles = list(map(int, input().rstrip().split()))\n",
        "    result = birthdayCakeCandles(candles)\n",
        "    fptr.write(str(result) + '\\n')\n",
        "    fptr.close()"
      ],
      "metadata": {
        "id": "YiagVFKTBiav"
      },
      "execution_count": null,
      "outputs": []
    },
    {
      "cell_type": "markdown",
      "source": [
        "# ESTE ALGORITMO SÓ RODA NO AMBIENTE DO HACKERRANK"
      ],
      "metadata": {
        "id": "GJq3tsj6Bx0L"
      }
    },
    {
      "cell_type": "code",
      "source": [],
      "metadata": {
        "id": "gFSCIF3NB168"
      },
      "execution_count": null,
      "outputs": []
    }
  ]
}
