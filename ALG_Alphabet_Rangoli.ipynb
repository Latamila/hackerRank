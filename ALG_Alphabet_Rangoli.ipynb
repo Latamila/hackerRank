{
  "nbformat": 4,
  "nbformat_minor": 0,
  "metadata": {
    "colab": {
      "provenance": [],
      "authorship_tag": "ABX9TyNE1t9+Pi6qEMAHChv22X8m",
      "include_colab_link": true
    },
    "kernelspec": {
      "name": "python3",
      "display_name": "Python 3"
    },
    "language_info": {
      "name": "python"
    }
  },
  "cells": [
    {
      "cell_type": "markdown",
      "metadata": {
        "id": "view-in-github",
        "colab_type": "text"
      },
      "source": [
        "<a href=\"https://colab.research.google.com/github/Latamila/hackerRank/blob/main/ALG_Alphabet_Rangoli.ipynb\" target=\"_parent\"><img src=\"https://colab.research.google.com/assets/colab-badge.svg\" alt=\"Open In Colab\"/></a>"
      ]
    },
    {
      "cell_type": "code",
      "execution_count": 117,
      "metadata": {
        "colab": {
          "base_uri": "https://localhost:8080/"
        },
        "id": "bRpruGkE5Rj6",
        "outputId": "2c9c949a-3d7d-4bc0-8b86-6637100c8e18"
      },
      "outputs": [
        {
          "output_type": "stream",
          "name": "stdout",
          "text": [
            "z-w-x-v-u-t-s-r-q-p-o-n-m-l-k-j-i-h-g-f-e-d-c-b-a-\n",
            "-a-b-c-d-e-f-g-h-i-j\n",
            "j-i-h-g-f-e-d-c-b-a-b-c-d-e-f-g-h-i-j\n",
            "j-i-h-g-f-e-d-c-b-a-b-c-d-e-f-g-h-i-j\n",
            "reversed:  j-i-h-g-f-e-d-c-b-a-\n",
            "j-i-h-g-f-e-d-c-b-a-b-c-d-e-f-g-h-i-j\n",
            "j-i-h-g-f-e-d-c\n"
          ]
        }
      ],
      "source": [
        "alp = '-a-b-c-d-e-f-g-h-i-j-k-l-m-n-o-p-q-r-s-t-u-v-x-w-z'\n",
        "x= 10\n",
        "size = 2*x\n",
        "print(alp[::-1])\n",
        "print(alp[:size])\n",
        "a= alp[:size]\n",
        "print(a[::-1] + alp[3:size])\n",
        "pattern = str(a[::-1] + alp[3:size])\n",
        "print(pattern) #consegui o\n",
        "reversed = a[::-1]\n",
        "print('reversed: ', reversed)\n",
        "print(reversed[:-3]+alp[:size])\n",
        "print(reversed[:-5])"
      ]
    },
    {
      "cell_type": "code",
      "source": [
        "print(reversed[0:1].center(2*size-3, '-'))\n",
        "print((reversed[0:1] + a[-4:]).center(2*size-3, '-'))\n",
        "print((reversed[0:3] + a[-6:]).center(2*size-3, '-'))\n",
        "print((reversed[0:5] + a[-8:]).center(2*size-3, '-'))\n",
        "print((reversed[0:7] + a[-10:]).center(2*size-3, '-'))\n",
        "print((reversed[0:9] + a[-12:]).center(2*size-3, '-'))\n",
        "print((reversed[0:11] + a[-14:]).center(2*size-3, '-'))\n",
        "print((reversed[0:13] + a[-16:]).center(2*size-3, '-'))\n",
        "print((reversed[0:15] + a[-18:]).center(2*size-3, '-'))\n",
        "print((reversed[0:17] + a[-20:]).center(2*size-3, '-'))\n",
        "\n",
        "#consegui\n"
      ],
      "metadata": {
        "colab": {
          "base_uri": "https://localhost:8080/"
        },
        "id": "yiGWcmn8-bM1",
        "outputId": "69e4fb12-0e65-4998-fb20-9f79efc6c2c7"
      },
      "execution_count": 118,
      "outputs": [
        {
          "output_type": "stream",
          "name": "stdout",
          "text": [
            "------------------j------------------\n",
            "----------------j-i-j----------------\n",
            "--------------j-i-h-i-j--------------\n",
            "------------j-i-h-g-h-i-j------------\n",
            "----------j-i-h-g-f-g-h-i-j----------\n",
            "--------j-i-h-g-f-e-f-g-h-i-j--------\n",
            "------j-i-h-g-f-e-d-e-f-g-h-i-j------\n",
            "----j-i-h-g-f-e-d-c-d-e-f-g-h-i-j----\n",
            "--j-i-h-g-f-e-d-c-b-c-d-e-f-g-h-i-j--\n",
            "j-i-h-g-f-e-d-c-b-a-b-c-d-e-f-g-h-i-j\n"
          ]
        }
      ]
    },
    {
      "cell_type": "code",
      "source": [
        "print(reversed[0:1].center(2*size-3, '-'))\n",
        "for i in range(1, x+1,2):\n",
        "  print((reversed[0:i] + a[(-2*i-2):]).center(2*size-3,'-'))"
      ],
      "metadata": {
        "colab": {
          "base_uri": "https://localhost:8080/"
        },
        "id": "cFeY0bxY-88E",
        "outputId": "e3298a94-af41-461d-8b4d-6c61bbed9fa3"
      },
      "execution_count": 123,
      "outputs": [
        {
          "output_type": "stream",
          "name": "stdout",
          "text": [
            "------------------j------------------\n",
            "----------------j-i-j----------------\n",
            "-------------j-i-g-h-i-j-------------\n",
            "----------j-i-h-e-f-g-h-i-j----------\n",
            "-------j-i-h-g-c-d-e-f-g-h-i-j-------\n",
            "----j-i-h-g-f-a-b-c-d-e-f-g-h-i-j----\n"
          ]
        }
      ]
    },
    {
      "cell_type": "code",
      "source": [
        "def print_rangoli(size):\n",
        "    # your code goes here\n",
        "    import string\n",
        "    design = string.ascii_lowercase\n",
        "    L = []\n",
        "    for i in range(n):\n",
        "        s = \"-\".join(design[i:n])\n",
        "        L.append((s[::-1]+s[1:]).center(4*n-3, \"-\"))\n",
        "\n",
        "    print('\\n'.join(L[:0:-1]+L))\n",
        "\n",
        "if __name__ == '__main__':\n",
        "    n = int(input())\n",
        "    print_rangoli(n)"
      ],
      "metadata": {
        "colab": {
          "base_uri": "https://localhost:8080/"
        },
        "id": "2QxUXYuVHiDK",
        "outputId": "70485f2b-4d98-4f84-f83b-147ba586983f"
      },
      "execution_count": 21,
      "outputs": [
        {
          "output_type": "stream",
          "name": "stdout",
          "text": [
            "5\n",
            "--------e--------\n",
            "------e-d-e------\n",
            "----e-d-c-d-e----\n",
            "--e-d-c-b-c-d-e--\n",
            "e-d-c-b-a-b-c-d-e\n",
            "--e-d-c-b-c-d-e--\n",
            "----e-d-c-d-e----\n",
            "------e-d-e------\n",
            "--------e--------\n"
          ]
        }
      ]
    },
    {
      "cell_type": "code",
      "source": [
        "n=10\n",
        "print_rangoli(n)"
      ],
      "metadata": {
        "colab": {
          "base_uri": "https://localhost:8080/"
        },
        "id": "m3Ou8X1ERkxj",
        "outputId": "64265e1b-89ed-4b7a-def7-df2baff02a01"
      },
      "execution_count": 22,
      "outputs": [
        {
          "output_type": "stream",
          "name": "stdout",
          "text": [
            "------------------j------------------\n",
            "----------------j-i-j----------------\n",
            "--------------j-i-h-i-j--------------\n",
            "------------j-i-h-g-h-i-j------------\n",
            "----------j-i-h-g-f-g-h-i-j----------\n",
            "--------j-i-h-g-f-e-f-g-h-i-j--------\n",
            "------j-i-h-g-f-e-d-e-f-g-h-i-j------\n",
            "----j-i-h-g-f-e-d-c-d-e-f-g-h-i-j----\n",
            "--j-i-h-g-f-e-d-c-b-c-d-e-f-g-h-i-j--\n",
            "j-i-h-g-f-e-d-c-b-a-b-c-d-e-f-g-h-i-j\n",
            "--j-i-h-g-f-e-d-c-b-c-d-e-f-g-h-i-j--\n",
            "----j-i-h-g-f-e-d-c-d-e-f-g-h-i-j----\n",
            "------j-i-h-g-f-e-d-e-f-g-h-i-j------\n",
            "--------j-i-h-g-f-e-f-g-h-i-j--------\n",
            "----------j-i-h-g-f-g-h-i-j----------\n",
            "------------j-i-h-g-h-i-j------------\n",
            "--------------j-i-h-i-j--------------\n",
            "----------------j-i-j----------------\n",
            "------------------j------------------\n"
          ]
        }
      ]
    },
    {
      "cell_type": "markdown",
      "source": [
        "###EXPLICAÇÃO"
      ],
      "metadata": {
        "id": "08g4LiMnYOfo"
      }
    },
    {
      "cell_type": "code",
      "source": [
        "import string\n",
        "design = string.ascii_lowercase\n",
        "print(design)"
      ],
      "metadata": {
        "colab": {
          "base_uri": "https://localhost:8080/"
        },
        "id": "TbxL72VRRowJ",
        "outputId": "e5caaa2a-857b-4022-82cd-69e8070eec4f"
      },
      "execution_count": 14,
      "outputs": [
        {
          "output_type": "stream",
          "name": "stdout",
          "text": [
            "abcdefghijklmnopqrstuvwxyz\n"
          ]
        }
      ]
    },
    {
      "cell_type": "code",
      "source": [
        "n=10\n",
        "for i in range(n):\n",
        "  s = \"-\".join(design[i:n])\n",
        "  print(s)"
      ],
      "metadata": {
        "colab": {
          "base_uri": "https://localhost:8080/"
        },
        "id": "U70AKO6sVpSt",
        "outputId": "f4148471-89e9-426d-b72a-82341398666b"
      },
      "execution_count": 16,
      "outputs": [
        {
          "output_type": "stream",
          "name": "stdout",
          "text": [
            "a-b-c-d-e-f-g-h-i-j\n",
            "b-c-d-e-f-g-h-i-j\n",
            "c-d-e-f-g-h-i-j\n",
            "d-e-f-g-h-i-j\n",
            "e-f-g-h-i-j\n",
            "f-g-h-i-j\n",
            "g-h-i-j\n",
            "h-i-j\n",
            "i-j\n",
            "j\n"
          ]
        }
      ]
    },
    {
      "cell_type": "code",
      "source": [
        "L=[]\n",
        "for i in range(n):\n",
        "  s = \"-\".join(design[i:n])\n",
        "  L.append((s[::-1]+s[1:]).center(4*n-3, \"-\"))\n",
        "print(L)"
      ],
      "metadata": {
        "colab": {
          "base_uri": "https://localhost:8080/"
        },
        "id": "O3vHKXeBWLTC",
        "outputId": "be91d8dd-a96f-4717-e817-e54907059510"
      },
      "execution_count": 19,
      "outputs": [
        {
          "output_type": "stream",
          "name": "stdout",
          "text": [
            "['j-i-h-g-f-e-d-c-b-a-b-c-d-e-f-g-h-i-j', '--j-i-h-g-f-e-d-c-b-c-d-e-f-g-h-i-j--', '----j-i-h-g-f-e-d-c-d-e-f-g-h-i-j----', '------j-i-h-g-f-e-d-e-f-g-h-i-j------', '--------j-i-h-g-f-e-f-g-h-i-j--------', '----------j-i-h-g-f-g-h-i-j----------', '------------j-i-h-g-h-i-j------------', '--------------j-i-h-i-j--------------', '----------------j-i-j----------------', '------------------j------------------']\n"
          ]
        }
      ]
    },
    {
      "cell_type": "code",
      "source": [
        "print('\\n'.join(L[:0:-1]+L))"
      ],
      "metadata": {
        "colab": {
          "base_uri": "https://localhost:8080/"
        },
        "id": "etiUKudWWBz1",
        "outputId": "83765421-6ab8-4f5a-ccfe-8987384e0c39"
      },
      "execution_count": 20,
      "outputs": [
        {
          "output_type": "stream",
          "name": "stdout",
          "text": [
            "------------------j------------------\n",
            "----------------j-i-j----------------\n",
            "--------------j-i-h-i-j--------------\n",
            "------------j-i-h-g-h-i-j------------\n",
            "----------j-i-h-g-f-g-h-i-j----------\n",
            "--------j-i-h-g-f-e-f-g-h-i-j--------\n",
            "------j-i-h-g-f-e-d-e-f-g-h-i-j------\n",
            "----j-i-h-g-f-e-d-c-d-e-f-g-h-i-j----\n",
            "--j-i-h-g-f-e-d-c-b-c-d-e-f-g-h-i-j--\n",
            "j-i-h-g-f-e-d-c-b-a-b-c-d-e-f-g-h-i-j\n",
            "--j-i-h-g-f-e-d-c-b-c-d-e-f-g-h-i-j--\n",
            "----j-i-h-g-f-e-d-c-d-e-f-g-h-i-j----\n",
            "------j-i-h-g-f-e-d-e-f-g-h-i-j------\n",
            "--------j-i-h-g-f-e-f-g-h-i-j--------\n",
            "----------j-i-h-g-f-g-h-i-j----------\n",
            "------------j-i-h-g-h-i-j------------\n",
            "--------------j-i-h-i-j--------------\n",
            "----------------j-i-j----------------\n",
            "------------------j------------------\n"
          ]
        }
      ]
    },
    {
      "cell_type": "markdown",
      "source": [
        "A função `print_rangoli` parece ser um código em Python para imprimir um padrão decorativo chamado Rangoli. Este padrão é composto por letras do alfabeto, onde cada linha forma uma sequência simétrica. Vamos analisar o código:\n",
        "\n",
        "```python\n",
        "def print_rangoli(size):\n",
        "    import string\n",
        "    design = string.ascii_lowercase\n",
        "    L = []\n",
        "    for i in range(size):\n",
        "        s = \"-\".join(design[i:size])\n",
        "        L.append((s[::-1] + s[1:]).center(4 * size - 3, \"-\"))\n",
        "        \n",
        "    print('\\n'.join(L[:0:-1] + L))\n",
        "```\n",
        "\n",
        "- `import string`: Importa o módulo `string` para obter o alfabeto em letras minúsculas.\n",
        "\n",
        "- `design = string.ascii_lowercase`: Cria uma string chamada `design` que contém todas as letras minúsculas do alfabeto.\n",
        "\n",
        "- `L = []`: Inicializa uma lista vazia chamada `L` para armazenar as linhas do padrão.\n",
        "\n",
        "- `for i in range(size)`: Inicia um loop que itera de 0 até `size - 1`. Dentro do loop:\n",
        "\n",
        "  - `s = \"-\".join(design[i:size])`: Cria uma string `s` juntando as letras de `design` de `i` até `size - 1` com o caractere \"-\".\n",
        "\n",
        "  - `L.append((s[::-1] + s[1:]).center(4 * size - 3, \"-\"))`: Adiciona à lista `L` uma string que é obtida pegando `s` ao contrário (`s[::-1]`) e concatenando com a parte de `s` a partir do segundo caractere (`s[1:]`). Esta string é centralizada em uma linha com largura igual a `4 * size - 3` usando o caractere \"-\".\n",
        "\n",
        "- `print('\\n'.join(L[:0:-1] + L))`: Imprime as linhas do padrão, invertendo a ordem das linhas (usando `L[:0:-1]`) e concatenando com as linhas originais. O resultado é impresso usando quebras de linha.\n",
        "\n",
        "O padrão gerado é um padrão simétrico de Rangoli, onde cada linha é formada por letras do alfabeto e as letras estão dispostas de forma a criar um padrão decorativo. O tamanho do padrão é determinado pelo valor passado para a função `size`."
      ],
      "metadata": {
        "id": "XdfSdzBBXMKB"
      }
    }
  ]
}