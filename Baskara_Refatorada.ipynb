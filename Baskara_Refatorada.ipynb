{
  "nbformat": 4,
  "nbformat_minor": 0,
  "metadata": {
    "colab": {
      "provenance": [],
      "authorship_tag": "ABX9TyN6f5Z0mTB4bYmCgpmHR1vj",
      "include_colab_link": true
    },
    "kernelspec": {
      "name": "python3",
      "display_name": "Python 3"
    },
    "language_info": {
      "name": "python"
    }
  },
  "cells": [
    {
      "cell_type": "markdown",
      "metadata": {
        "id": "view-in-github",
        "colab_type": "text"
      },
      "source": [
        "<a href=\"https://colab.research.google.com/github/Latamila/hackerRank/blob/main/Baskara_Refatorada.ipynb\" target=\"_parent\"><img src=\"https://colab.research.google.com/assets/colab-badge.svg\" alt=\"Open In Colab\"/></a>"
      ]
    },
    {
      "cell_type": "code",
      "source": [
        "import math"
      ],
      "metadata": {
        "id": "ZIhobEts4T_2"
      },
      "execution_count": 1,
      "outputs": []
    },
    {
      "cell_type": "code",
      "source": [
        "def delta(a,b,c):\n",
        "  return b ** 2 - 4 * a * c\n",
        "\n",
        "\n",
        "def imprime_raizes(a,b,c):\n",
        "\n",
        "  if delta(a,b,c) == 0:\n",
        "    raiz1 = (-(b) + math.sqrt(delta(a,b,c))) / (2*a)\n",
        "    print(f'a raiz desta equação é {raiz1}')\n",
        "\n",
        "  else:\n",
        "    if delta(a,b,c) < 0:\n",
        "      print('esta equação não possui raízes reais')\n",
        "\n",
        "    else:\n",
        "      raiz1 = (-(b) + math.sqrt(delta(a,b,c))) / (2*a)\n",
        "      raiz2 = (-(b) - math.sqrt(delta(a,b,c))) / (2*a)\n",
        "      if raiz1 < raiz2:\n",
        "        print(f'as raízes da equação são {raiz1} e {raiz2}')\n",
        "      else:\n",
        "        print(f'as raízes da equação são {raiz2} e {raiz1}')\n",
        "\n",
        "\n",
        "def main():\n",
        "  a = int(input('insira o valor de a: '))\n",
        "  b = int(input('insira o valor de b: '))\n",
        "  c = int(input('insira o valor de c: '))\n",
        "  imprime_raizes(a,b,c)"
      ],
      "metadata": {
        "id": "2YL-_hmb4l9s"
      },
      "execution_count": 4,
      "outputs": []
    },
    {
      "cell_type": "code",
      "source": [
        "\n",
        "main()"
      ],
      "metadata": {
        "colab": {
          "base_uri": "https://localhost:8080/"
        },
        "id": "nWIDdBSs6kSi",
        "outputId": "20bb00ed-a161-41e8-878b-fe7f12847d3f"
      },
      "execution_count": 5,
      "outputs": [
        {
          "output_type": "stream",
          "name": "stdout",
          "text": [
            "insira o valor de a: 2\n",
            "insira o valor de b: 12\n",
            "insira o valor de c: -14\n",
            "as raízes da equação são -7.0 e 1.0\n"
          ]
        }
      ]
    },
    {
      "cell_type": "code",
      "source": [
        "main()"
      ],
      "metadata": {
        "colab": {
          "base_uri": "https://localhost:8080/"
        },
        "id": "nSbn-JlK8s2I",
        "outputId": "d2299a87-e0d9-404c-d569-3a5b750b34e0"
      },
      "execution_count": 6,
      "outputs": [
        {
          "output_type": "stream",
          "name": "stdout",
          "text": [
            "insira o valor de a: 3\n",
            "insira o valor de b: -1\n",
            "insira o valor de c: -10\n",
            "as raízes da equação são -1.6666666666666667 e 2.0\n"
          ]
        }
      ]
    },
    {
      "cell_type": "code",
      "source": [
        "main()"
      ],
      "metadata": {
        "colab": {
          "base_uri": "https://localhost:8080/"
        },
        "id": "wZRZQCL580la",
        "outputId": "594e00cf-c3fb-425e-8bf9-1733d9dbe9d7"
      },
      "execution_count": 7,
      "outputs": [
        {
          "output_type": "stream",
          "name": "stdout",
          "text": [
            "insira o valor de a: 10\n",
            "insira o valor de b: 20\n",
            "insira o valor de c: 30\n",
            "esta equação não possui raízes reais\n"
          ]
        }
      ]
    },
    {
      "cell_type": "code",
      "source": [
        "#codigo antigo\n",
        "\n",
        "def calcula_bhaskara(a, b, c):\n",
        "  delta = (b**2)-4*a*c\n",
        "  if delta < 0:\n",
        "    print('esta equação não possui raízes reais')\n",
        "  else:\n",
        "    X = (-(b) + math.sqrt(delta))/(2*a)\n",
        "    Y = (-(b) - math.sqrt(delta))/(2*a)\n",
        "    if delta == 0:\n",
        "      print(f'a raiz desta equação é {X}')\n",
        "    else:\n",
        "      if X < Y:\n",
        "        print(f'as raízes da equação são {X} e {Y}')\n",
        "      else:\n",
        "        print(f'as raízes da equação são {Y} e {X}')"
      ],
      "metadata": {
        "id": "KVslgxRX4kGu"
      },
      "execution_count": null,
      "outputs": []
    }
  ]
}