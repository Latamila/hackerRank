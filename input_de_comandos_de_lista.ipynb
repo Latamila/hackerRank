{
  "nbformat": 4,
  "nbformat_minor": 0,
  "metadata": {
    "colab": {
      "provenance": [],
      "authorship_tag": "ABX9TyOT5d6A/n2ywkbAZERWUZdT",
      "include_colab_link": true
    },
    "kernelspec": {
      "name": "python3",
      "display_name": "Python 3"
    },
    "language_info": {
      "name": "python"
    }
  },
  "cells": [
    {
      "cell_type": "markdown",
      "metadata": {
        "id": "view-in-github",
        "colab_type": "text"
      },
      "source": [
        "<a href=\"https://colab.research.google.com/github/Latamila/hackerRank/blob/main/Lists.ipynb\" target=\"_parent\"><img src=\"https://colab.research.google.com/assets/colab-badge.svg\" alt=\"Open In Colab\"/></a>"
      ]
    },
    {
      "cell_type": "code",
      "source": [
        "if __name__ == '__main__':\n",
        "    N = int(input())\n",
        "    lista =[]\n",
        "    for i in range(0,N):\n",
        "        comando = input().split()\n",
        "        if comando[0] == 'insert':\n",
        "            lista.insert(int(comando[1]), int(comando[2]))\n",
        "        elif comando[0] == 'append':\n",
        "            lista.append(int(comando[1]))\n",
        "        elif comando[0] == 'pop':\n",
        "            lista.pop()\n",
        "        elif comando[0] == 'print':\n",
        "            print(lista)\n",
        "        elif comando[0] == 'remove':\n",
        "            lista.remove(int(comando[1]))\n",
        "        elif comando[0] == 'sort':\n",
        "            lista.sort()\n",
        "        else:\n",
        "            lista.reverse()\n",
        "\n",
        "\n"
      ],
      "metadata": {
        "colab": {
          "base_uri": "https://localhost:8080/"
        },
        "id": "e1H7h8g12N8O",
        "outputId": "6b968331-2f0a-40aa-dd1d-2f6fffe29dd3"
      },
      "execution_count": null,
      "outputs": [
        {
          "output_type": "stream",
          "name": "stdout",
          "text": [
            "12\n",
            "insert 0 5\n",
            "insert 1 10\n",
            "insert 0 6\n",
            "print\n",
            "[6, 5, 10]\n",
            "remove 6\n",
            "append 9\n",
            "append 1\n",
            "sort\n",
            "print\n",
            "[1, 5, 9, 10]\n",
            "pop\n",
            "reverse \n",
            "print\n",
            "[9, 5, 1]\n"
          ]
        }
      ]
    },
    {
      "cell_type": "code",
      "source": [
        "print(lista)"
      ],
      "metadata": {
        "colab": {
          "base_uri": "https://localhost:8080/"
        },
        "id": "607JhYHg2OaB",
        "outputId": "2d7484c2-db1d-467d-8579-b819b90e0585"
      },
      "execution_count": null,
      "outputs": [
        {
          "output_type": "stream",
          "name": "stdout",
          "text": [
            "[5, 4, 3]\n"
          ]
        }
      ]
    },
    {
      "cell_type": "code",
      "source": [],
      "metadata": {
        "id": "h8VlKvju2pE0"
      },
      "execution_count": null,
      "outputs": []
    }
  ]
}
