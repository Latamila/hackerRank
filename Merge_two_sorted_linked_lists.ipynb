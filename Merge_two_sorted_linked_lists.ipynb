{
  "nbformat": 4,
  "nbformat_minor": 0,
  "metadata": {
    "colab": {
      "provenance": [],
      "authorship_tag": "ABX9TyPLwQUJmhL1YOlWgvzZlF9B",
      "include_colab_link": true
    },
    "kernelspec": {
      "name": "python3",
      "display_name": "Python 3"
    },
    "language_info": {
      "name": "python"
    }
  },
  "cells": [
    {
      "cell_type": "markdown",
      "metadata": {
        "id": "view-in-github",
        "colab_type": "text"
      },
      "source": [
        "<a href=\"https://colab.research.google.com/github/Latamila/hackerRank/blob/main/Merge_two_sorted_linked_lists.ipynb\" target=\"_parent\"><img src=\"https://colab.research.google.com/assets/colab-badge.svg\" alt=\"Open In Colab\"/></a>"
      ]
    },
    {
      "cell_type": "markdown",
      "source": [
        "Listas vinculadas sao esturuturas de dados fundamentais em programação, fornecendo uma maneira eficiente de organizar e manipullar dados. ao lidar com duas listas encadeadas ordenadas, uma operação comum é junta-las em uma unica.\n",
        "\n",
        "Uma lista vinculada é uma estrutura de dados linear na qual os elementos são armazenados em nós. Cada nó aponta para o próximo nó na sequência.\n",
        "\n",
        "Quando dizemos que a lista está ordenada, significa que os elementos estão organizados em ordem crescente ou decrescente.\n",
        "\n",
        "A mesclagem de duas listas vinculadas classificadas preserva essa ordem, o que facilita o desempenho eficiente dos algoritmos de pesquisa.\n",
        "\n",
        "Normalmente encontramos os dados em duas listas diferentes e é necessário juntá-los para trabalhar nisso. As vezes, precismaos apresentar o resultado de forma combinada.\n",
        "\n",
        "Aqui está a definição do problema: Recebemos 2 listas vinculadas classificadas, classificadas em ordem crescente e temos que mesclá-las de uma forma que mantenha a ordem classificada.\n",
        "\n",
        "p.ex:\n",
        "```python\n",
        "lista 1 = 1 -> 3 -> 6\n",
        "lista 2 = 2 -> 4 -> 5\n",
        "lista resultante = 1 -> 2 -> 3 -> 4 -> 5 -> 6\n",
        "```\n",
        "\n",
        "A maneira mais simples de resolver isso é usando a abordagem de força bruta. Podemos criar um  nó ficticio com valor 0 para simplificar esse nó e mesclar nossas listas atuais a ele em ordem de classificação. Iremos iterar ambas as listas e continuar adicionando os elementos a este nó.\n",
        "\n",
        "Aqui estão as etapas envolvidas nesta tecnica simples.\n",
        "\n",
        "- em primeiro lugar, criaremos um nó ficticio com valor 0.\n",
        "\n",
        "- criarem um ponteiro atual apontando inicialmente para o nó ficticio.\n",
        "\n",
        "- itere ate que ambas as listas de entrada se esgotem. compare os valores dos nós atuais em l1 e l2.\n",
        "\n",
        "- crie um novo nó com o valor menor e anexe-o à lista mesclada.\n",
        "\n",
        "- após o loop, se l1 ou l2 não estiver esgotado, anexe os nós restantes à lista mesclada.\n",
        "\n",
        "- retorne dummy -> next após todas as iterações.\n",
        "\n"
      ],
      "metadata": {
        "id": "ImjNVjBIZge1"
      }
    },
    {
      "cell_type": "markdown",
      "source": [
        "#RECURSÃO"
      ],
      "metadata": {
        "id": "CDibqDW8cd27"
      }
    },
    {
      "cell_type": "markdown",
      "source": [
        "- Primeiramente, declararemos o caso base para nossa função recursiva:\n",
        "se l1 ou l2 estiver vazia, retorne a outra lista\n",
        "\n",
        "- Compare os valores dos nós atuais em l1 e l2 e escolha o valor menor como o nó atual para a lista mesclada.\n",
        "\n",
        "- se l1 tiver o valor menor, chame recursivamente a função recursiva com os parametros l1 -> next e l2.\n",
        "\n",
        "- se l2 tiver o valor menor, chame recursivamente a função recursiva com os parametros l1 e l2 -> next.\n",
        "\n",
        "- retorne o nó atual (l1 ou l2) como a lista mesclada."
      ],
      "metadata": {
        "id": "NTtweWAgcrJq"
      }
    },
    {
      "cell_type": "code",
      "source": [
        "def mergeLists(head1, head2):\n",
        "    if head1 == None:\n",
        "        return head2\n",
        "    if head2 == None:\n",
        "        return head1\n",
        "    if head1.data < head2.data:\n",
        "        inicio = head1\n",
        "        (atual, proximo) = (head1, head2)\n",
        "    else:\n",
        "        inicio = head2\n",
        "        (atual, proximo) = (head2, head1)\n",
        "    while proximo != None:\n",
        "        if atual.next != None and atual.next.data < proximo.data:\n",
        "            atual = atual.next\n",
        "        else:\n",
        "            (atual.next, atual) = (proximo, atual.next)\n",
        "            (atual, proximo) = (proximo, atual)\n",
        "    return inicio"
      ],
      "metadata": {
        "id": "QHWhw0qDjmLN"
      },
      "execution_count": null,
      "outputs": []
    },
    {
      "cell_type": "markdown",
      "source": [
        "### Estrutura da Lista Encadeada:\n",
        "O código trabalha com listas encadeadas, que são estruturas de dados onde cada elemento (nó) possui um valor e uma referência para o próximo elemento na lista. Aqui, temos duas classes relacionadas:\n",
        "\n",
        "1. **`SinglyLinkedListNode` (Nó da Lista Encadeada):**\n",
        "   - Cada nó contém um valor (`data`) e uma referência para o próximo nó (`next`).\n",
        "\n",
        "2. **`SinglyLinkedList` (Lista Encadeada):**\n",
        "   - A lista encadeada contém um atributo chamado `head`, que aponta para o primeiro nó na lista.\n",
        "   - Há um método chamado `insert_node` para adicionar um novo nó à lista.\n",
        "\n",
        "### Função `mergeLists`:\n",
        "Esta função é responsável por mesclar duas listas encadeadas ordenadas.\n",
        "\n",
        "1. **Condições Iniciais:**\n",
        "   - Se uma das listas estiver vazia, a função retorna a outra lista, pois não é necessário mesclar.\n",
        "\n",
        "2. **Seleção do Nó Inicial:**\n",
        "   - Os nós iniciais (`head1` e `head2`) são comparados, e o nó com o menor valor se torna o nó inicial da lista mesclada (`inicio`).\n",
        "\n",
        "3. **Percorrendo e Mesclando:**\n",
        "   - Um loop é usado para percorrer a lista mesclada.\n",
        "   - Dois ponteiros, `atual` e `proximo`, são usados para acompanhar os nós da lista mesclada e da lista não escolhida, respectivamente.\n",
        "   - O loop compara os valores dos nós. Se o próximo valor na lista não escolhida (`proximo`) for menor que o próximo valor na lista mesclada (`atual.next`), o nó da lista não escolhida é inserido na lista mesclada.\n",
        "   - O loop continua até que todos os elementos das duas listas sejam mesclados.\n"
      ],
      "metadata": {
        "id": "yzfadQUvdhoZ"
      }
    },
    {
      "cell_type": "code",
      "source": [],
      "metadata": {
        "id": "IUXcjotykD8p"
      },
      "execution_count": null,
      "outputs": []
    }
  ]
}