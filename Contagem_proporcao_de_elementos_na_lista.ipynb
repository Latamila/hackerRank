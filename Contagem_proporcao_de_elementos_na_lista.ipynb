{
  "nbformat": 4,
  "nbformat_minor": 0,
  "metadata": {
    "colab": {
      "provenance": [],
      "authorship_tag": "ABX9TyNczqzVppdQTITQINqlL6Qb",
      "include_colab_link": true
    },
    "kernelspec": {
      "name": "python3",
      "display_name": "Python 3"
    },
    "language_info": {
      "name": "python"
    }
  },
  "cells": [
    {
      "cell_type": "markdown",
      "metadata": {
        "id": "view-in-github",
        "colab_type": "text"
      },
      "source": [
        "<a href=\"https://colab.research.google.com/github/Latamila/hackerRank/blob/main/ALGplusMinus.ipynb\" target=\"_parent\"><img src=\"https://colab.research.google.com/assets/colab-badge.svg\" alt=\"Open In Colab\"/></a>"
      ]
    },
    {
      "cell_type": "code",
      "execution_count": 1,
      "metadata": {
        "colab": {
          "base_uri": "https://localhost:8080/"
        },
        "id": "po4QpS2jhJ3Y",
        "outputId": "57f0bfe4-9de0-4e34-b8b1-c4faec9f56a6"
      },
      "outputs": [
        {
          "output_type": "stream",
          "name": "stdout",
          "text": [
            "0.400000\n"
          ]
        }
      ],
      "source": [
        "#teste dos decimais\n",
        "n = 0.4\n",
        "print('{:.6f}'.format(n))"
      ]
    },
    {
      "cell_type": "code",
      "source": [
        "#exemplo de array\n",
        "arr=[-4,3,-9,0,4,1]\n",
        "negative = []\n",
        "positive = []\n",
        "neutro = []\n",
        "teste = []"
      ],
      "metadata": {
        "id": "ce1NiOBght8O"
      },
      "execution_count": 16,
      "outputs": []
    },
    {
      "cell_type": "code",
      "source": [
        "#teste do for\n",
        "for i in range(0, len(arr)):\n",
        "  if arr[i] < 0:\n",
        "    teste.append(arr[i])"
      ],
      "metadata": {
        "id": "mvaeSybsjMou"
      },
      "execution_count": 17,
      "outputs": []
    },
    {
      "cell_type": "code",
      "source": [
        "print(teste)"
      ],
      "metadata": {
        "colab": {
          "base_uri": "https://localhost:8080/"
        },
        "id": "ZvxXSSgEj53r",
        "outputId": "4eac784f-61b5-4128-fc45-19ba6d23ec22"
      },
      "execution_count": 18,
      "outputs": [
        {
          "output_type": "stream",
          "name": "stdout",
          "text": [
            "[-4, -9]\n"
          ]
        }
      ]
    },
    {
      "cell_type": "code",
      "source": [
        "#teste da proporção\n",
        "print('{:.6f}'.format(len(teste)/len(arr)))"
      ],
      "metadata": {
        "colab": {
          "base_uri": "https://localhost:8080/"
        },
        "id": "SumISfPLj8_y",
        "outputId": "6d278ca9-18d4-4e2f-d64a-4c210f5ff047"
      },
      "execution_count": 20,
      "outputs": [
        {
          "output_type": "stream",
          "name": "stdout",
          "text": [
            "0.333333\n"
          ]
        }
      ]
    },
    {
      "cell_type": "code",
      "source": [
        "for i in range(0, len(arr)):\n",
        "  if arr[i] < 0:\n",
        "    negative.append(arr[i])\n",
        "  elif arr[i] > 0:\n",
        "    positive.append(arr[i])\n",
        "  else:\n",
        "    neutro.append(arr[i])"
      ],
      "metadata": {
        "id": "oW6l2Xuhk3DJ"
      },
      "execution_count": 21,
      "outputs": []
    },
    {
      "cell_type": "code",
      "source": [
        "print(negative)\n",
        "print(positive)\n",
        "print(neutro)\n"
      ],
      "metadata": {
        "colab": {
          "base_uri": "https://localhost:8080/"
        },
        "id": "Jd1HyOaYlq4a",
        "outputId": "cf2790cf-6786-4a0f-a673-f19d9b57d591"
      },
      "execution_count": 22,
      "outputs": [
        {
          "output_type": "stream",
          "name": "stdout",
          "text": [
            "[-4, -9]\n",
            "[3, 4, 1]\n",
            "[0]\n"
          ]
        }
      ]
    },
    {
      "cell_type": "code",
      "source": [
        "print('{:.6f}'.format(len(positive)/len(arr)))\n",
        "print('{:.6f}'.format(len(negative)/len(arr)))\n",
        "print('{:.6f}'.format(len(neutro)/len(arr)))\n"
      ],
      "metadata": {
        "colab": {
          "base_uri": "https://localhost:8080/"
        },
        "id": "pUi2qkHQlyD8",
        "outputId": "d1bc41cc-a76d-496f-d1ba-c958f045cdb7"
      },
      "execution_count": 23,
      "outputs": [
        {
          "output_type": "stream",
          "name": "stdout",
          "text": [
            "0.500000\n",
            "0.333333\n",
            "0.166667\n"
          ]
        }
      ]
    },
    {
      "cell_type": "code",
      "source": [
        "def plusMinus(arr):\n",
        "    negative = []\n",
        "    positive = []\n",
        "    neutro = []\n",
        "    for i in range(0, len(arr)):\n",
        "        if arr[i] < 0:\n",
        "            negative.append(arr[i])\n",
        "        elif arr[i] > 0:\n",
        "            positive.append(arr[i])\n",
        "        else:\n",
        "            neutro.append(arr[i])\n",
        "\n",
        "    print('{:.6f}'.format(len(positive)/len(arr)))\n",
        "    print('{:.6f}'.format(len(negative)/len(arr)))\n",
        "    print('{:.6f}'.format(len(neutro)/len(arr)))\n",
        "\n",
        "\n",
        "\n",
        "\n",
        "    # Write your code here\n",
        "\n",
        "if __name__ == '__main__':\n",
        "    n = int(input().strip())\n",
        "\n",
        "    arr = list(map(int, input().rstrip().split()))\n",
        "\n",
        "    plusMinus(arr)"
      ],
      "metadata": {
        "id": "EdvOErZemNkD"
      },
      "execution_count": null,
      "outputs": []
    }
  ]
}
