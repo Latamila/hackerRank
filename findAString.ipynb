{
  "nbformat": 4,
  "nbformat_minor": 0,
  "metadata": {
    "colab": {
      "provenance": [],
      "authorship_tag": "ABX9TyOCRtRTO4hPO2GRZPnHdpo7",
      "include_colab_link": true
    },
    "kernelspec": {
      "name": "python3",
      "display_name": "Python 3"
    },
    "language_info": {
      "name": "python"
    }
  },
  "cells": [
    {
      "cell_type": "markdown",
      "metadata": {
        "id": "view-in-github",
        "colab_type": "text"
      },
      "source": [
        "<a href=\"https://colab.research.google.com/github/Latamila/hackerRank/blob/main/findAString.ipynb\" target=\"_parent\"><img src=\"https://colab.research.google.com/assets/colab-badge.svg\" alt=\"Open In Colab\"/></a>"
      ]
    },
    {
      "cell_type": "code",
      "source": [
        "def count_substring(string, sub_string):\n",
        "    count=0\n",
        "    for i in range(0, len(string)-len(sub_string)+1):\n",
        "        if string[i] == sub_string[0]:\n",
        "            flag=1\n",
        "            for j in range (0, len(sub_string)):\n",
        "                if string[i+j] != sub_string[j]:\n",
        "                    flag=0\n",
        "                    break\n",
        "            if flag==1:\n",
        "                count += 1\n",
        "    return count\n",
        "if __name__ == '__main__':\n",
        "    string = input().strip()\n",
        "    sub_string = input().strip()\n",
        "\n",
        "    count = count_substring(string, sub_string)\n",
        "    print(count)"
      ],
      "metadata": {
        "id": "9R-VL1r8OQZd"
      },
      "execution_count": null,
      "outputs": []
    },
    {
      "cell_type": "markdown",
      "source": [
        " Este código em Python define uma função chamada count_substring que conta quantas vezes uma subcadeia (sub_string) aparece em uma cadeia maior (string). Em seguida, no bloco if __name__ == '__main__':, solicita-se ao usuário que insira duas cadeias e a função count_substring é usada para contar quantas vezes a segunda cadeia aparece na primeira.\n",
        "\n",
        "Aqui está uma explicação detalhada do código:\n",
        "\n",
        "##Função count_substring:\n",
        "\n",
        "Parâmetros de entrada: string (cadeia principal) e sub_string (subcadeia que está sendo procurada).\n",
        "Uma variável count é inicializada em 0 para manter a contagem de quantas vezes a subcadeia aparece na cadeia principal.\n",
        "\n",
        "##Loop For:\n",
        "\n",
        "Percorre a cadeia principal (string) usando um loop for que itera de 0 até o comprimento da cadeia principal menos o comprimento da subcadeia mais 1. A razão para isso é evitar índices fora do alcance no próximo loop.\n",
        "\n",
        "##Primeiro IF:\n",
        "\n",
        "Verifica se o caractere atual na cadeia principal (string[i]) é igual ao primeiro caractere da subcadeia (sub_string[0]).\n",
        "Se for o caso, uma flag (flag) é inicializada em 1.\n",
        "Segundo Loop For (Aninhado):\n",
        "\n",
        "Percorre cada caractere da subcadeia e verifica se coincide com os caracteres correspondentes na cadeia principal.\n",
        "Se, em algum ponto, os caracteres não coincidirem, a flag é definida como 0 e o loop é interrompido.\n",
        "\n",
        "##Segundo IF (Aninhado):\n",
        "\n",
        "Após o loop aninhado, verifica se a flag (flag) ainda é 1. Se for o caso, significa que a subcadeia completa foi encontrada na posição atual da cadeia principal, e o contador (count) é incrementado.\n",
        "Retorno da Função:\n",
        "\n",
        "A função retorna o valor final de count, que representa quantas vezes a subcadeia aparece na cadeia principal.\n",
        "\n",
        "##Bloco Main:\n",
        "\n",
        "input().strip() é utilizado para solicitar ao usuário que insira duas cadeias (string e sub_string).\n",
        "A função count_substring é chamada com as cadeias fornecidas.\n",
        "O resultado é impresso no console.\n",
        "Resumidamente, este código conta quantas vezes uma subcadeia aparece em uma cadeia principal usando uma abordagem de busca com loops aninhados."
      ],
      "metadata": {
        "id": "HzXyO52fQDUp"
      }
    },
    {
      "cell_type": "code",
      "source": [],
      "metadata": {
        "id": "M-Ei_k5uQ4Td"
      },
      "execution_count": null,
      "outputs": []
    }
  ]
}