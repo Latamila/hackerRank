{
  "nbformat": 4,
  "nbformat_minor": 0,
  "metadata": {
    "colab": {
      "provenance": [],
      "authorship_tag": "ABX9TyMCOfG1oGy6qXiTujzoMfo6",
      "include_colab_link": true
    },
    "kernelspec": {
      "name": "python3",
      "display_name": "Python 3"
    },
    "language_info": {
      "name": "python"
    }
  },
  "cells": [
    {
      "cell_type": "markdown",
      "metadata": {
        "id": "view-in-github",
        "colab_type": "text"
      },
      "source": [
        "<a href=\"https://colab.research.google.com/github/Latamila/hackerRank/blob/main/string_whatsyourname.ipynb\" target=\"_parent\"><img src=\"https://colab.research.google.com/assets/colab-badge.svg\" alt=\"Open In Colab\"/></a>"
      ]
    },
    {
      "cell_type": "code",
      "execution_count": 7,
      "metadata": {
        "colab": {
          "base_uri": "https://localhost:8080/"
        },
        "id": "pdGqUqgMj6nV",
        "outputId": "015d0a80-ef1b-4081-e1f1-7a5aca3de98e"
      },
      "outputs": [
        {
          "output_type": "stream",
          "name": "stdout",
          "text": [
            "Camila\n",
            "Veloso\n",
            "Hello Camila Veloso! You just delved into python.\n"
          ]
        }
      ],
      "source": [
        "def print_full_name(first, last):\n",
        "  if len(first) <= 10 and len(last) <= 10:\n",
        "    print(f\"Hello {first} {last}! You just delved into python.\")\n",
        "  else:\n",
        "    print('Operação valida')\n",
        "\n",
        "\n",
        "    # Write your code here\n",
        "\n",
        "if __name__ == '__main__':\n",
        "    first_name = input()\n",
        "    last_name = input()\n",
        "    print_full_name(first_name, last_name)"
      ]
    },
    {
      "cell_type": "code",
      "source": [],
      "metadata": {
        "id": "DSqj-RXYj_Uf"
      },
      "execution_count": null,
      "outputs": []
    }
  ]
}
