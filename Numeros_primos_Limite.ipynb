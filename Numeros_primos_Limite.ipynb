{
  "nbformat": 4,
  "nbformat_minor": 0,
  "metadata": {
    "colab": {
      "provenance": [],
      "authorship_tag": "ABX9TyOvoTGenPeHg9TC+CS5PVFs",
      "include_colab_link": true
    },
    "kernelspec": {
      "name": "python3",
      "display_name": "Python 3"
    },
    "language_info": {
      "name": "python"
    }
  },
  "cells": [
    {
      "cell_type": "markdown",
      "metadata": {
        "id": "view-in-github",
        "colab_type": "text"
      },
      "source": [
        "<a href=\"https://colab.research.google.com/github/Latamila/hackerRank/blob/main/Numeros_primos_Limite.ipynb\" target=\"_parent\"><img src=\"https://colab.research.google.com/assets/colab-badge.svg\" alt=\"Open In Colab\"/></a>"
      ]
    },
    {
      "cell_type": "code",
      "execution_count": 8,
      "metadata": {
        "colab": {
          "base_uri": "https://localhost:8080/"
        },
        "id": "pfI_woY6Xfpv",
        "outputId": "6623e6db-0a18-4a9a-ee75-cec395748451"
      },
      "outputs": [
        {
          "output_type": "stream",
          "name": "stdout",
          "text": [
            "digite o limite máximo: 100\n",
            "2,3,5,7,11,13,17,19,23,29,31,37,41,43,47,53,59,61,67,71,73,79,83,89,97,"
          ]
        }
      ],
      "source": [
        "def eh_primo(x):\n",
        "  fator =  2\n",
        "  if x == 2:\n",
        "    return True\n",
        "\n",
        "  while x % fator != 0 and fator <= x/2:\n",
        "    fator = fator + 1\n",
        "  if x % fator == 0:\n",
        "    return False\n",
        "  else:\n",
        "    return True\n",
        "\n",
        "\n",
        "limite = int(input('digite o limite máximo: '))\n",
        "\n",
        "n = 2\n",
        "while n < limite:\n",
        "  if eh_primo(n):\n",
        "    print(n, end=',')\n",
        "  n= n+1"
      ]
    },
    {
      "cell_type": "markdown",
      "source": [
        "#Faça uma lista receber uma serie de números até que o usuário digite 0.\n",
        "\n",
        "Depois imprima na tela, esta lista ao reverso(a ordem contraria ao que foi digitado)."
      ],
      "metadata": {
        "id": "mpADNRJshUmP"
      }
    },
    {
      "cell_type": "code",
      "source": [
        "data = []\n",
        "n = 1\n",
        "while n > 0:\n",
        "  n = int(input('digite um numero: '))\n",
        "  data.append(n)\n",
        "\n",
        "\n",
        "print(list(reversed(data)))"
      ],
      "metadata": {
        "colab": {
          "base_uri": "https://localhost:8080/"
        },
        "id": "G57_n99dbjv6",
        "outputId": "83c37587-6917-469e-a342-71247a0559e5"
      },
      "execution_count": 30,
      "outputs": [
        {
          "output_type": "stream",
          "name": "stdout",
          "text": [
            "digite um numero: 2\n",
            "digite um numero: 3\n",
            "digite um numero: 4\n",
            "digite um numero: 5\n",
            "digite um numero: 6\n",
            "digite um numero: 0\n",
            "[0, 6, 5, 4, 3, 2]\n"
          ]
        }
      ]
    }
  ]
}