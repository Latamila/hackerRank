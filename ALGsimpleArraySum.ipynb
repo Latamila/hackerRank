{
  "nbformat": 4,
  "nbformat_minor": 0,
  "metadata": {
    "colab": {
      "provenance": [],
      "authorship_tag": "ABX9TyN2Z41yt4hAptt+T+6+0ug6",
      "include_colab_link": true
    },
    "kernelspec": {
      "name": "python3",
      "display_name": "Python 3"
    },
    "language_info": {
      "name": "python"
    }
  },
  "cells": [
    {
      "cell_type": "markdown",
      "metadata": {
        "id": "view-in-github",
        "colab_type": "text"
      },
      "source": [
        "<a href=\"https://colab.research.google.com/github/Latamila/hackerRank/blob/main/ALGsimpleArraySum.ipynb\" target=\"_parent\"><img src=\"https://colab.research.google.com/assets/colab-badge.svg\" alt=\"Open In Colab\"/></a>"
      ]
    },
    {
      "cell_type": "code",
      "source": [
        "ar_count = int(input().strip())\n",
        "ar = list(map(int, input().rstrip().split()))\n",
        "print(ar)"
      ],
      "metadata": {
        "colab": {
          "base_uri": "https://localhost:8080/"
        },
        "id": "P-7XtmVkzz61",
        "outputId": "dcf76815-3a37-4ce8-fe71-f83666592328"
      },
      "execution_count": 8,
      "outputs": [
        {
          "output_type": "stream",
          "name": "stdout",
          "text": [
            "6 \n",
            "2 3 5 8 4 26\n",
            "[2, 3, 5, 8, 4, 26]\n"
          ]
        }
      ]
    },
    {
      "cell_type": "code",
      "source": [
        "contar = 0\n",
        "for i in range(ar_count):\n",
        "  contar += ar[i]\n",
        "\n",
        "print(contar)"
      ],
      "metadata": {
        "colab": {
          "base_uri": "https://localhost:8080/"
        },
        "id": "FiQXAZHz0jrk",
        "outputId": "d99a6b10-8a81-43b2-9dd1-6b905c1d8cea"
      },
      "execution_count": 13,
      "outputs": [
        {
          "output_type": "stream",
          "name": "stdout",
          "text": [
            "48\n"
          ]
        }
      ]
    },
    {
      "cell_type": "markdown",
      "source": [
        "#Ele rodou no exercício do Hackerrank apesar de não rodar aqui.   "
      ],
      "metadata": {
        "id": "ilSY9ZHk6Wvx"
      }
    },
    {
      "cell_type": "code",
      "source": [
        "import math\n",
        "import os\n",
        "import random\n",
        "import re\n",
        "import sys\n",
        "\n",
        "def simpleArraySum(ar):\n",
        "    contar = 0\n",
        "    for i in range(len(ar)):  # Correção: Substituir 'ar_count' por 'len(ar)'\n",
        "        contar += ar[i]\n",
        "    return contar  # Correção: Retornar o resultado em vez de imprimir\n",
        "\n",
        "if __name__ == '__main__':\n",
        "    fptr = open(\"./result.output\", 'w')\n",
        "\n",
        "    ar_count = int(input().strip())\n",
        "\n",
        "    ar = list(map(int, input().rstrip().split()))\n",
        "\n",
        "    result = simpleArraySum(ar)\n",
        "\n",
        "    fptr.write(str(result) + '\\n')\n",
        "\n",
        "    fptr.close()"
      ],
      "metadata": {
        "id": "JwkJpc2F6eGN"
      },
      "execution_count": null,
      "outputs": []
    },
    {
      "cell_type": "markdown",
      "source": [
        "Se você estiver executando o código em um ambiente local fora do navegador (por exemplo, usando um interpretador Python em seu computador), o código original que usa a abertura de arquivo pode funcionar corretamente."
      ],
      "metadata": {
        "id": "N-6XBDhcy7Ir"
      }
    },
    {
      "cell_type": "code",
      "source": [
        ""
      ],
      "metadata": {
        "id": "igqJW2C171Im"
      },
      "execution_count": null,
      "outputs": []
    }
  ]
}