{
  "nbformat": 4,
  "nbformat_minor": 0,
  "metadata": {
    "colab": {
      "provenance": [],
      "authorship_tag": "ABX9TyNjUfK9AJSiYe4Q09POcErY",
      "include_colab_link": true
    },
    "kernelspec": {
      "name": "python3",
      "display_name": "Python 3"
    },
    "language_info": {
      "name": "python"
    }
  },
  "cells": [
    {
      "cell_type": "markdown",
      "metadata": {
        "id": "view-in-github",
        "colab_type": "text"
      },
      "source": [
        "<a href=\"https://colab.research.google.com/github/Latamila/hackerRank/blob/main/FindingThePercentage.ipynb\" target=\"_parent\"><img src=\"https://colab.research.google.com/assets/colab-badge.svg\" alt=\"Open In Colab\"/></a>"
      ]
    },
    {
      "cell_type": "code",
      "execution_count": 57,
      "metadata": {
        "colab": {
          "base_uri": "https://localhost:8080/"
        },
        "id": "7bBPZGduPeuR",
        "outputId": "a0aeeff4-4b21-4542-9658-312b5ffa7bc4"
      },
      "outputs": [
        {
          "output_type": "stream",
          "name": "stdout",
          "text": [
            "2 \n",
            "h 25 26.5 28\n",
            "a 26 28 30\n",
            "h\n",
            "26.50\n"
          ]
        }
      ],
      "source": [
        "if __name__ == '__main__':\n",
        "    n = int(input())\n",
        "    student_marks = {}\n",
        "    medias = []\n",
        "    for _ in range(n):\n",
        "        name, *line = input().split()\n",
        "        scores = list(map(float, line))\n",
        "        student_marks[name] = scores\n",
        "    query_name = input()\n",
        "    for nome, notas in student_marks.items():\n",
        "        # Utilizando list comprehension para converter as notas para números decimais\n",
        "        notas_decimal = [float(nota) for nota in notas]\n",
        "\n",
        "        # Calculando a média utilizando a função sum e len\n",
        "        media = sum(notas_decimal) / len(notas_decimal)\n",
        "        # Adicionando a média à lista de medias\n",
        "        medias.append({\"nome\": nome, \"media\": f'{media:.2f}'})\n",
        "\n",
        "    def obter_media_por_nome(query_name, medias):\n",
        "      for media_aluno in medias:\n",
        "        if media_aluno[\"nome\"] == query_name:\n",
        "            return media_aluno[\"media\"]\n",
        "      return \"Aluno não encontrado\"\n",
        "\n",
        "\n",
        "    media_aluno_solicitado = obter_media_por_nome(query_name, medias)\n",
        "    print(media_aluno_solicitado)\n",
        "\n",
        "    #apenas para checar o codigo\n",
        "    print(student_marks)\n",
        "    print(medias)"
      ]
    },
    {
      "cell_type": "code",
      "source": [
        "a\n"
      ],
      "metadata": {
        "id": "SXxAT66kPoQ9"
      },
      "execution_count": null,
      "outputs": []
    }
  ]
}