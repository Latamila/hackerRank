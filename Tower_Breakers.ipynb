{
  "nbformat": 4,
  "nbformat_minor": 0,
  "metadata": {
    "colab": {
      "provenance": [],
      "authorship_tag": "ABX9TyP4IIaM9HPKA7yUS3lHuhPx",
      "include_colab_link": true
    },
    "kernelspec": {
      "name": "python3",
      "display_name": "Python 3"
    },
    "language_info": {
      "name": "python"
    }
  },
  "cells": [
    {
      "cell_type": "markdown",
      "metadata": {
        "id": "view-in-github",
        "colab_type": "text"
      },
      "source": [
        "<a href=\"https://colab.research.google.com/github/Latamila/hackerRank/blob/main/Tower_Breakers.ipynb\" target=\"_parent\"><img src=\"https://colab.research.google.com/assets/colab-badge.svg\" alt=\"Open In Colab\"/></a>"
      ]
    },
    {
      "cell_type": "markdown",
      "source": [
        "Dois jogadores estão jogando Tower Breakers! Jogador 1sempre se move primeiro e ambos os jogadores sempre jogam de maneira otimizada. As regras do jogo são as seguintes:\n",
        "\n",
        "\n",
        "Inicialmente existem n torres.\n",
        "Cada torre tem altura m.\n",
        "Os jogadores se movem em turnos alternados.\n",
        "\n",
        "\n",
        "Em cada turno, um jogador pode escolher uma torre de altura x e reduza sua altura para y, onde 1 <= y < x e y divide uniformemente x.\n",
        "\n",
        "Se o jogador atual não conseguir fazer uma jogada, ele perde o jogo.\n",
        "\n",
        "Dados os valores de n e m, determine qual jogador vencerá. Se o primeiro jogador vencer, devolva 1. Caso contrário, retorne 2.\n",
        "\n",
        "Exemplo .\n",
        "n=2\n",
        "m=6\n",
        "\n",
        "Há 2 torres, cada 6 unidades de altura. Jogador 1 pode escolher entre dois movimentos:\n",
        "\n",
        "- remover peças de uma torre para sair 3 como 6 % 3 = 0 (ele escolhe aquele que é divisivel pela altura e da resto 0)\n",
        "\n",
        "- remover 5 peças para deixar 1.\n",
        "\n",
        "Deixe o jogador 1 remover 3. Agora as torres estão com 3 e 6 unidades de altura.\n",
        "\n",
        "Jogador 2 fara seu movimento. Agora as torres são ambas 3 unidades de altura.\n",
        "\n",
        "Agora jogador tem apenas um movimento,\n",
        "#porque não pode tirar o total de peças e só faz isso em uma torre de cada vez. Se as torres não forem impares para o jogador 1 fazer a proxima jogada, ele perderá sempre.\n",
        "\n",
        "Jogador 1 remove 2 pedaços, restando 1. Torres estão com 1 e 3 unidades de altura.\n",
        "Jogador 2 combina novamente. Torres estão ambas com 1 unidade de altura.\n",
        "\n",
        "#como em nenhuma das torres se pode retirar o total de 1 unidade de altura, o jogador 1 perde\n",
        "Jogador 1 não tem movimento e perde. Retornar 2.\n",
        "\n",
        "A logica pode ser iniciada contando com a verdade que se m for igual a 1, o jogador 2 ganha e se a quantidade de torres for par, o jogador 2 ganha tambem.\n"
      ],
      "metadata": {
        "id": "vnU_ey7ZNpAv"
      }
    },
    {
      "cell_type": "code",
      "execution_count": null,
      "metadata": {
        "id": "tQXXJVYGNkhL"
      },
      "outputs": [],
      "source": [
        "def towerBreaker(n, m):\n",
        "    if m ==1 or n % 2 == 0:\n",
        "        return 2\n",
        "    else:\n",
        "        return 1"
      ]
    }
  ]
}