{
  "nbformat": 4,
  "nbformat_minor": 0,
  "metadata": {
    "colab": {
      "provenance": [],
      "authorship_tag": "ABX9TyMAHgQYeia0W6E4Gwek+njr",
      "include_colab_link": true
    },
    "kernelspec": {
      "name": "python3",
      "display_name": "Python 3"
    },
    "language_info": {
      "name": "python"
    }
  },
  "cells": [
    {
      "cell_type": "markdown",
      "metadata": {
        "id": "view-in-github",
        "colab_type": "text"
      },
      "source": [
        "<a href=\"https://colab.research.google.com/github/Latamila/hackerRank/blob/main/NumerosPrimos_qtdLista.ipynb\" target=\"_parent\"><img src=\"https://colab.research.google.com/assets/colab-badge.svg\" alt=\"Open In Colab\"/></a>"
      ]
    },
    {
      "cell_type": "code",
      "execution_count": 2,
      "metadata": {
        "id": "9NbzJeglwbXI"
      },
      "outputs": [],
      "source": [
        "def primos_quantidade():\n",
        "  n = int(input('digite o tamanho da sequencia(>0): '))\n",
        "  lis_primos = []\n",
        "  num1 = int(input('digite o 1º numero: '))\n",
        "  i = 1 # contador de numeros lidos\n",
        "  lis_primos.append(num1)\n",
        "  while i < n:\n",
        "    num = int(input('digite o %do. numero: ' %(i+1)))\n",
        "    numero_inicial = num#copia numero inicial para comparação no final\n",
        "    lis_primos.append(num)\n",
        "    i = i+1\n",
        "  quantidade_primos = 0\n",
        "  for num in lis_primos:\n",
        "    numero_inicial = num\n",
        "    fator = 2\n",
        "    multiplicidade = 0\n",
        "\n",
        "    while fator <= num:\n",
        "      while num % fator == 0:\n",
        "        multiplicidade = multiplicidade + 1\n",
        "        num = num / fator\n",
        "      fator = fator + 1\n",
        "      multiplicidade = 0\n",
        "    if numero_inicial == (fator - 1):\n",
        "      quantidade_primos = quantidade_primos + 1\n",
        "  print(quantidade_primos)"
      ]
    },
    {
      "cell_type": "code",
      "source": [
        "primos_quantidade()"
      ],
      "metadata": {
        "colab": {
          "base_uri": "https://localhost:8080/"
        },
        "id": "W9iJLCo6wkBT",
        "outputId": "cafe4089-d2a4-4070-b825-280417b143f8"
      },
      "execution_count": 4,
      "outputs": [
        {
          "output_type": "stream",
          "name": "stdout",
          "text": [
            "digite o tamanho da sequencia(>0): 4\n",
            "digite o 1º numero: 17\n",
            "digite o 2o. numero: 11\n",
            "digite o 3o. numero: 4\n",
            "digite o 4o. numero: 5\n",
            "3\n"
          ]
        }
      ]
    },
    {
      "cell_type": "code",
      "source": [
        "primos_quantidade()"
      ],
      "metadata": {
        "colab": {
          "base_uri": "https://localhost:8080/"
        },
        "id": "Yn24q6-BwlUX",
        "outputId": "5d5141a2-23fe-445e-d668-a8638f331060"
      },
      "execution_count": 5,
      "outputs": [
        {
          "output_type": "stream",
          "name": "stdout",
          "text": [
            "digite o tamanho da sequencia(>0): 4\n",
            "digite o 1º numero: 8\n",
            "digite o 2o. numero: 6\n",
            "digite o 3o. numero: 12\n",
            "digite o 4o. numero: 4\n",
            "0\n"
          ]
        }
      ]
    },
    {
      "cell_type": "code",
      "source": [],
      "metadata": {
        "id": "coOwnPoAy6ji"
      },
      "execution_count": null,
      "outputs": []
    }
  ]
}