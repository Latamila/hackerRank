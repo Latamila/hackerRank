{
  "nbformat": 4,
  "nbformat_minor": 0,
  "metadata": {
    "colab": {
      "provenance": [],
      "authorship_tag": "ABX9TyMVbxnOCaqiJ+f+mP6Oz+90",
      "include_colab_link": true
    },
    "kernelspec": {
      "name": "python3",
      "display_name": "Python 3"
    },
    "language_info": {
      "name": "python"
    }
  },
  "cells": [
    {
      "cell_type": "markdown",
      "metadata": {
        "id": "view-in-github",
        "colab_type": "text"
      },
      "source": [
        "<a href=\"https://colab.research.google.com/github/Latamila/hackerRank/blob/main/ALG_String_Formatting.ipynb\" target=\"_parent\"><img src=\"https://colab.research.google.com/assets/colab-badge.svg\" alt=\"Open In Colab\"/></a>"
      ]
    },
    {
      "cell_type": "code",
      "source": [
        "def print_formatted(number):\n",
        "    # your code goes here\n",
        "    width = len(int(bin(number)[2:]))\n",
        "    for i in range(1, number+1):\n",
        "        deci = str(i)\n",
        "        octa = oct(i)[2:]\n",
        "        hexa = hex(i)[2:].upper()\n",
        "        bina = bin(i)[2:]\n",
        "        print(deci.rjust(width),octa.rjust(width),hexa.rjust(width),bina.rjust(width))\n",
        "\n",
        "if __name__ == '__main__':\n",
        "    n = int(input())\n",
        "    print_formatted(n)"
      ],
      "metadata": {
        "id": "A4HaD9Mmx5bQ"
      },
      "execution_count": null,
      "outputs": []
    },
    {
      "cell_type": "markdown",
      "source": [
        "## CONFIA QUE APESAR DE NÃO RODA NO COLAB, RODOU NO HACKERRANK."
      ],
      "metadata": {
        "id": "Q3oSKkPDzajB"
      }
    },
    {
      "cell_type": "markdown",
      "source": [
        "*  A função começa definindo uma variável width que representa a largura necessária para a formatação dos números. O valor de width é obtido usando len(bin(number)[2:]), que é o número de dígitos na representação binária do número fornecido (excluindo o prefixo \"0b\" usado em Python).\n",
        "\n",
        "* a função usa um loop for para iterar de 1 até o número fornecido (number).\n",
        "Dentro do loop, são criadas variáveis deci, octa, hexa, e bina que armazenam as representações decimal, octal, hexadecimal e binária de i, respectivamente.\n",
        "A função print é usada para imprimir essas representações formatadas usando o método rjust para alinhar os números à direita em campos de largura fixa (dada por width)."
      ],
      "metadata": {
        "id": "iJFrF6TR0WRS"
      }
    },
    {
      "cell_type": "code",
      "source": [],
      "metadata": {
        "id": "HwSflJbL37Qs"
      },
      "execution_count": null,
      "outputs": []
    }
  ]
}
