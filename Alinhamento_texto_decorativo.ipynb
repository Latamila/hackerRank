{
  "nbformat": 4,
  "nbformat_minor": 0,
  "metadata": {
    "colab": {
      "provenance": [],
      "authorship_tag": "ABX9TyNMPNnv5twNgnz8j8t1bCKj",
      "include_colab_link": true
    },
    "kernelspec": {
      "name": "python3",
      "display_name": "Python 3"
    },
    "language_info": {
      "name": "python"
    }
  },
  "cells": [
    {
      "cell_type": "markdown",
      "metadata": {
        "id": "view-in-github",
        "colab_type": "text"
      },
      "source": [
        "<a href=\"https://colab.research.google.com/github/Latamila/hackerRank/blob/main/TextAlignmente.ipynb\" target=\"_parent\"><img src=\"https://colab.research.google.com/assets/colab-badge.svg\" alt=\"Open In Colab\"/></a>"
      ]
    },
    {
      "cell_type": "code",
      "execution_count": 2,
      "metadata": {
        "colab": {
          "base_uri": "https://localhost:8080/"
        },
        "id": "bjaSudR1ZzcS",
        "outputId": "c4090dc3-6628-4175-d5a9-999832a00c34"
      },
      "outputs": [
        {
          "output_type": "stream",
          "name": "stdout",
          "text": [
            "HackerRank----------\n"
          ]
        }
      ],
      "source": [
        "#imprime a esquerda\n",
        "width = 20\n",
        "print('HackerRank'.ljust(width,'-'))\n"
      ]
    },
    {
      "cell_type": "code",
      "source": [
        "#imprime central\n",
        "width = 20\n",
        "print('HackerRank'.center(width,'-'))"
      ],
      "metadata": {
        "colab": {
          "base_uri": "https://localhost:8080/"
        },
        "id": "pySsnI3Ap1ib",
        "outputId": "ad4efbcc-f2e9-4d8d-9a55-8a53bace58f0"
      },
      "execution_count": 3,
      "outputs": [
        {
          "output_type": "stream",
          "name": "stdout",
          "text": [
            "-----HackerRank-----\n"
          ]
        }
      ]
    },
    {
      "cell_type": "code",
      "source": [
        "#imprime à direita\n",
        "width = 20\n",
        "print('HackerRank'.rjust(width,'-'))"
      ],
      "metadata": {
        "colab": {
          "base_uri": "https://localhost:8080/"
        },
        "id": "qxLz4Ixfp7NG",
        "outputId": "3184ee6d-1a5a-446c-c064-570813c488c4"
      },
      "execution_count": 4,
      "outputs": [
        {
          "output_type": "stream",
          "name": "stdout",
          "text": [
            "----------HackerRank\n"
          ]
        }
      ]
    },
    {
      "cell_type": "code",
      "source": [
        "# realoque tudo ________ com rjust, ljust ou center.\n",
        "\n",
        "thickness = int(input()) #esse deve ser um numero primo.\n",
        "\n",
        "c = 'H'\n",
        "\n",
        "#topo do cone\n",
        "\n",
        "for i in range(thickness):\n",
        "  print((c*i).rjust(thickness-1)+c+(c*i).ljust(thickness-1))"
      ],
      "metadata": {
        "colab": {
          "base_uri": "https://localhost:8080/"
        },
        "id": "LC6A_D_ZqNKF",
        "outputId": "ec28bb7c-53fd-4983-f08a-c1f75a34d631"
      },
      "execution_count": 6,
      "outputs": [
        {
          "output_type": "stream",
          "name": "stdout",
          "text": [
            "5\n",
            "    H    \n",
            "   HHH   \n",
            "  HHHHH  \n",
            " HHHHHHH \n",
            "HHHHHHHHH\n"
          ]
        }
      ]
    },
    {
      "cell_type": "code",
      "source": [
        "thickness = int(input()) #esse deve ser um numero primo.\n",
        "\n",
        "c = 'H'\n",
        "\n",
        "#topo do cone\n",
        "\n",
        "for i in range(thickness):\n",
        "  print((c*i).rjust(thickness-1)+c+(c*i).ljust(thickness-1))\n",
        "\n",
        "#topo do pilar\n",
        "for i in range(thickness+1):\n",
        "  print((c*thickness).center(thickness*2)+\n",
        "        (c*thickness).center(thickness*6))"
      ],
      "metadata": {
        "colab": {
          "base_uri": "https://localhost:8080/"
        },
        "id": "9Ko4v2nHrXgh",
        "outputId": "9a18cec8-5998-4fa3-96f6-fb49c120f6d2"
      },
      "execution_count": 7,
      "outputs": [
        {
          "output_type": "stream",
          "name": "stdout",
          "text": [
            "5\n",
            "    H    \n",
            "   HHH   \n",
            "  HHHHH  \n",
            " HHHHHHH \n",
            "HHHHHHHHH\n",
            "  HHHHH               HHHHH             \n",
            "  HHHHH               HHHHH             \n",
            "  HHHHH               HHHHH             \n",
            "  HHHHH               HHHHH             \n",
            "  HHHHH               HHHHH             \n",
            "  HHHHH               HHHHH             \n"
          ]
        }
      ]
    },
    {
      "cell_type": "code",
      "source": [
        "thickness = int(input()) #esse deve ser um numero primo.\n",
        "\n",
        "c = 'H'\n",
        "\n",
        "#topo do cone\n",
        "\n",
        "for i in range(thickness):\n",
        "  print((c*i).rjust(thickness-1)+c+(c*i).ljust(thickness-1))\n",
        "\n",
        "#topo do pilar\n",
        "for i in range(thickness+1):\n",
        "  print((c*thickness).center(thickness*2)+\n",
        "        (c*thickness).center(thickness*6))\n",
        "\n",
        "\n",
        "#meio\n",
        "for i in range((thickness+1) // 2):\n",
        "  print((c*thickness*5).center(thickness*6))"
      ],
      "metadata": {
        "colab": {
          "base_uri": "https://localhost:8080/"
        },
        "id": "jPLAuEYzsb2F",
        "outputId": "3e1c228f-e7de-4ff2-a5cc-ac88e79808e3"
      },
      "execution_count": 8,
      "outputs": [
        {
          "output_type": "stream",
          "name": "stdout",
          "text": [
            "5\n",
            "    H    \n",
            "   HHH   \n",
            "  HHHHH  \n",
            " HHHHHHH \n",
            "HHHHHHHHH\n",
            "  HHHHH               HHHHH             \n",
            "  HHHHH               HHHHH             \n",
            "  HHHHH               HHHHH             \n",
            "  HHHHH               HHHHH             \n",
            "  HHHHH               HHHHH             \n",
            "  HHHHH               HHHHH             \n",
            "  HHHHHHHHHHHHHHHHHHHHHHHHH   \n",
            "  HHHHHHHHHHHHHHHHHHHHHHHHH   \n",
            "  HHHHHHHHHHHHHHHHHHHHHHHHH   \n"
          ]
        }
      ]
    },
    {
      "cell_type": "code",
      "source": [
        "thickness = int(input()) #esse deve ser um numero primo.\n",
        "\n",
        "c = 'H'\n",
        "\n",
        "#topo do cone\n",
        "\n",
        "for i in range(thickness):\n",
        "  print((c*i).rjust(thickness-1)+c+(c*i).ljust(thickness-1))\n",
        "\n",
        "#topo do pilar\n",
        "for i in range(thickness+1):\n",
        "  print((c*thickness).center(thickness*2)+\n",
        "        (c*thickness).center(thickness*6))\n",
        "\n",
        "\n",
        "#meio\n",
        "for i in range((thickness+1) // 2):\n",
        "  print((c*thickness*5).center(thickness*6))\n",
        "\n",
        "#base do pilar\n",
        "for i in range(thickness+1):\n",
        "  print((c*thickness).center(thickness*2)+\n",
        "        (c*thickness).center(thickness*6))"
      ],
      "metadata": {
        "colab": {
          "base_uri": "https://localhost:8080/"
        },
        "id": "hgTk8pB-s-C7",
        "outputId": "2a8bea98-428d-46cf-eb0e-7c7b4e2ad987"
      },
      "execution_count": 9,
      "outputs": [
        {
          "output_type": "stream",
          "name": "stdout",
          "text": [
            "5\n",
            "    H    \n",
            "   HHH   \n",
            "  HHHHH  \n",
            " HHHHHHH \n",
            "HHHHHHHHH\n",
            "  HHHHH               HHHHH             \n",
            "  HHHHH               HHHHH             \n",
            "  HHHHH               HHHHH             \n",
            "  HHHHH               HHHHH             \n",
            "  HHHHH               HHHHH             \n",
            "  HHHHH               HHHHH             \n",
            "  HHHHHHHHHHHHHHHHHHHHHHHHH   \n",
            "  HHHHHHHHHHHHHHHHHHHHHHHHH   \n",
            "  HHHHHHHHHHHHHHHHHHHHHHHHH   \n",
            "  HHHHH               HHHHH             \n",
            "  HHHHH               HHHHH             \n",
            "  HHHHH               HHHHH             \n",
            "  HHHHH               HHHHH             \n",
            "  HHHHH               HHHHH             \n",
            "  HHHHH               HHHHH             \n"
          ]
        }
      ]
    },
    {
      "cell_type": "code",
      "source": [
        "thickness = int(input()) #esse deve ser um numero primo.\n",
        "\n",
        "c = 'H'\n",
        "\n",
        "#topo do cone\n",
        "\n",
        "for i in range(thickness):\n",
        "  print((c*i).rjust(thickness-1)+c+(c*i).ljust(thickness-1))\n",
        "\n",
        "#topo do pilar\n",
        "for i in range(thickness+1):\n",
        "  print((c*thickness).center(thickness*2)+\n",
        "        (c*thickness).center(thickness*6))\n",
        "\n",
        "\n",
        "#meio\n",
        "for i in range((thickness+1) // 2):\n",
        "  print((c*thickness*5).center(thickness*6))\n",
        "\n",
        "#base do pilar\n",
        "for i in range(thickness+1):\n",
        "  print((c*thickness).center(thickness*2)+\n",
        "        (c*thickness).center(thickness*6))\n",
        "\n",
        "#Base do cone\n",
        "for i in range(thickness):\n",
        "  print(((c*(thickness-i-1)).rjust(thickness)+c+\n",
        "   (c*(thickness-i-1)).ljust(thickness)).rjust(thickness*6))"
      ],
      "metadata": {
        "colab": {
          "base_uri": "https://localhost:8080/"
        },
        "id": "4G6UNcPatace",
        "outputId": "d18e15c8-6872-4f56-966d-625e53f01005"
      },
      "execution_count": 10,
      "outputs": [
        {
          "output_type": "stream",
          "name": "stdout",
          "text": [
            "5\n",
            "    H    \n",
            "   HHH   \n",
            "  HHHHH  \n",
            " HHHHHHH \n",
            "HHHHHHHHH\n",
            "  HHHHH               HHHHH             \n",
            "  HHHHH               HHHHH             \n",
            "  HHHHH               HHHHH             \n",
            "  HHHHH               HHHHH             \n",
            "  HHHHH               HHHHH             \n",
            "  HHHHH               HHHHH             \n",
            "  HHHHHHHHHHHHHHHHHHHHHHHHH   \n",
            "  HHHHHHHHHHHHHHHHHHHHHHHHH   \n",
            "  HHHHHHHHHHHHHHHHHHHHHHHHH   \n",
            "  HHHHH               HHHHH             \n",
            "  HHHHH               HHHHH             \n",
            "  HHHHH               HHHHH             \n",
            "  HHHHH               HHHHH             \n",
            "  HHHHH               HHHHH             \n",
            "  HHHHH               HHHHH             \n",
            "                    HHHHHHHHH \n",
            "                     HHHHHHH  \n",
            "                      HHHHH   \n",
            "                       HHH    \n",
            "                        H     \n"
          ]
        }
      ]
    },
    {
      "cell_type": "code",
      "source": [
        "#losango\n",
        "for i in range(thickness):\n",
        "  print((c*i).rjust(thickness-1)+c+(c*i).ljust(thickness-1))\n",
        "\n",
        "for i in range(thickness):\n",
        "  print(((c*(thickness-i-1)).rjust(thickness)+c+\n",
        "   (c*(thickness-i-1)).ljust(thickness)).ljust(thickness*6))\n",
        "  #muda-se apenas o final de rjust() para ljust()"
      ],
      "metadata": {
        "colab": {
          "base_uri": "https://localhost:8080/"
        },
        "id": "xKephj7guFAd",
        "outputId": "d25c72cc-7d7b-4ac8-82bd-066dab8d36a2"
      },
      "execution_count": 20,
      "outputs": [
        {
          "output_type": "stream",
          "name": "stdout",
          "text": [
            "    H    \n",
            "   HHH   \n",
            "  HHHHH  \n",
            " HHHHHHH \n",
            "HHHHHHHHH\n",
            " HHHHHHHHH                    \n",
            "  HHHHHHH                     \n",
            "   HHHHH                      \n",
            "    HHH                       \n",
            "     H                        \n"
          ]
        }
      ]
    },
    {
      "cell_type": "markdown",
      "source": [
        "thickness = int(input()): Solicita ao usuário que insira um número (que deve ser um número primo) e o converte para um inteiro, atribuindo-o à variável thickness.\n",
        "\n",
        "c = 'H': Define o caractere c como 'H', que será usado para construir o troféu.\n",
        "\n",
        "\n",
        "##topo do cone\n",
        "\n",
        "Um loop for é utilizado para iterar de 0 até thickness - 1.\n",
        "A cada iteração, uma linha é construída usando o caractere c multiplicado por i, e em seguida, rjust e ljust são usados para ajustar a posição do caractere 'H' e criar o formato de cone.\n",
        "\n",
        "#topo do pilar\n",
        "Outro loop for é utilizado para criar as linhas do topo do pilar.\n",
        "center é usado para centralizar o pilar dentro da largura desejada.\n",
        "\n",
        "#Meio:\n",
        "\n",
        "O terceiro loop for cria a parte do meio, preenchendo com 'H' para formar uma coluna no centro.\n",
        "\n",
        "#Base do Pilar:\n",
        "\n",
        "O quarto loop for cria a base do pilar, semelhante ao topo do pilar.\n",
        "\n",
        "#Base do Cone:\n",
        "\n",
        "O quinto loop for cria a base do cone, diminuindo progressivamente o número de caracteres 'H' em cada linha."
      ],
      "metadata": {
        "id": "cHoUd6q4wZM4"
      }
    },
    {
      "cell_type": "markdown",
      "source": [
        "##FIM\n"
      ],
      "metadata": {
        "id": "GfpbCB_KxNXH"
      }
    },
    {
      "cell_type": "code",
      "source": [],
      "metadata": {
        "id": "aXt8PaHLxOnF"
      },
      "execution_count": null,
      "outputs": []
    }
  ]
}
