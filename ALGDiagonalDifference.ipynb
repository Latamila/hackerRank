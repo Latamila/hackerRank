{
  "nbformat": 4,
  "nbformat_minor": 0,
  "metadata": {
    "colab": {
      "provenance": [],
      "authorship_tag": "ABX9TyNP9S63/9w4eXPEoifxKg+M",
      "include_colab_link": true
    },
    "kernelspec": {
      "name": "python3",
      "display_name": "Python 3"
    },
    "language_info": {
      "name": "python"
    }
  },
  "cells": [
    {
      "cell_type": "markdown",
      "metadata": {
        "id": "view-in-github",
        "colab_type": "text"
      },
      "source": [
        "<a href=\"https://colab.research.google.com/github/Latamila/hackerRank/blob/main/ALGDiagonalDifference.ipynb\" target=\"_parent\"><img src=\"https://colab.research.google.com/assets/colab-badge.svg\" alt=\"Open In Colab\"/></a>"
      ]
    },
    {
      "cell_type": "markdown",
      "source": [
        "#FAZENDO SUBLISTAS\n"
      ],
      "metadata": {
        "id": "ftllbn6tFaHv"
      }
    },
    {
      "cell_type": "code",
      "source": [
        "n = 3\n",
        "pedaco1 = ar[0:n*1]\n",
        "print(pedaco1)\n",
        "pedaco2 = ar[n:n*2]\n",
        "print(pedaco2)\n",
        "pedaco3 = ar[n*2:n*3]\n",
        "print(pedaco3)\n",
        "pedaco4 = ar[n*3:n*4]\n",
        "print(pedaco4)"
      ],
      "metadata": {
        "colab": {
          "base_uri": "https://localhost:8080/"
        },
        "id": "ba5WTNE2Ddb5",
        "outputId": "556d71fa-5e65-4c7e-dd70-5c24b42b20e6"
      },
      "execution_count": 71,
      "outputs": [
        {
          "output_type": "stream",
          "name": "stdout",
          "text": [
            "[11  2  4]\n",
            "[4 5 6]\n",
            "[ 10   8 -12]\n",
            "[]\n"
          ]
        }
      ]
    },
    {
      "cell_type": "code",
      "source": [
        "primeira_diagonal = 0\n",
        "segunda_diagonal = 0"
      ],
      "metadata": {
        "id": "dye26hn9Susm"
      },
      "execution_count": 112,
      "outputs": []
    },
    {
      "cell_type": "code",
      "source": [
        "ar = [1,2,3,4,5,6,7,8,9]"
      ],
      "metadata": {
        "id": "-GZ2qTobT0x9"
      },
      "execution_count": 113,
      "outputs": []
    },
    {
      "cell_type": "code",
      "source": [
        "for i in range(0,len(ar),n+1):\n",
        "  primeira_diagonal += int(ar[i])\n",
        "  print(primeira_diagonal)"
      ],
      "metadata": {
        "colab": {
          "base_uri": "https://localhost:8080/"
        },
        "id": "fMEreMtoBBTv",
        "outputId": "e5b8eed4-8143-4407-fb13-e75e8eb79bfe"
      },
      "execution_count": 114,
      "outputs": [
        {
          "output_type": "stream",
          "name": "stdout",
          "text": [
            "1\n",
            "6\n",
            "15\n"
          ]
        }
      ]
    },
    {
      "cell_type": "code",
      "source": [
        "def diagonalDifference(arr):\n",
        "    d1 = sum([arr[x][x] for x in range(len(arr))])\n",
        "    d2 = sum([arr[x][n - 1 - x] for x in range(len(arr))])\n",
        "    return(abs(d1 - d2))\n",
        "    # Write your code here\n",
        "\n",
        "if __name__ == '__main__':\n",
        "    fptr = open(os.environ['OUTPUT_PATH'], 'w')\n",
        "\n",
        "    n = int(input().strip())\n",
        "\n",
        "    arr = []\n",
        "\n",
        "    for _ in range(n):\n",
        "        arr.append(list(map(int, input().rstrip().split())))\n",
        "\n",
        "    result = diagonalDifference(arr)\n",
        "\n",
        "    fptr.write(str(result) + '\\n')\n",
        "\n",
        "    fptr.close()\n"
      ],
      "metadata": {
        "id": "-N3N4DkmR4fs"
      },
      "execution_count": null,
      "outputs": []
    },
    {
      "cell_type": "markdown",
      "source": [
        "#Função diagonalDifference:\n",
        "\n",
        "Define uma função chamada diagonalDifference que recebe uma matriz quadrada arr como parâmetro.\n",
        "Calcula a soma dos elementos na diagonal principal (d1) usando uma list comprehension e a função sum.\n",
        "Calcula a soma dos elementos na diagonal secundária (d2) usando outra list comprehension e a função sum.\n",
        "Retorna a diferença absoluta entre d1 e d2."
      ],
      "metadata": {
        "id": "cXqZJIcFRhxn"
      }
    },
    {
      "cell_type": "markdown",
      "source": [
        "#Portanto, [x][n - 1 - x]\n",
        "\n",
        "representa a posição na matriz onde a linha é x e a coluna é determinada pelo último índice menos x.\n",
        "\n",
        "Em outras palavras, isso corresponde aos elementos na diagonal secundária de uma matriz quadrada, onde a posição da coluna é espelhada em relação à diagonal principal.\n",
        "\n",
        "\n",
        "\n",
        "\n",
        "\n"
      ],
      "metadata": {
        "id": "0jvG0UL1Vo56"
      }
    }
  ]
}