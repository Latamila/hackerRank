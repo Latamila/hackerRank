{
  "nbformat": 4,
  "nbformat_minor": 0,
  "metadata": {
    "colab": {
      "provenance": [],
      "authorship_tag": "ABX9TyN+CY2/+XfNhneG0p1vLSN3",
      "include_colab_link": true
    },
    "kernelspec": {
      "name": "python3",
      "display_name": "Python 3"
    },
    "language_info": {
      "name": "python"
    }
  },
  "cells": [
    {
      "cell_type": "markdown",
      "metadata": {
        "id": "view-in-github",
        "colab_type": "text"
      },
      "source": [
        "<a href=\"https://colab.research.google.com/github/Latamila/hackerRank/blob/main/Communication_Handler.ipynb\" target=\"_parent\"><img src=\"https://colab.research.google.com/assets/colab-badge.svg\" alt=\"Open In Colab\"/></a>"
      ]
    },
    {
      "cell_type": "code",
      "execution_count": 2,
      "metadata": {
        "colab": {
          "base_uri": "https://localhost:8080/"
        },
        "id": "wuVr3-lcdTCM",
        "outputId": "15b551aa-378a-45d9-dc2d-9a6fb6405dd8"
      },
      "outputs": [
        {
          "output_type": "stream",
          "name": "stdout",
          "text": [
            "Conexão estabelecida entre Alice e Bob\n",
            "Alice e Bob estão desconectados\n"
          ]
        }
      ],
      "source": [
        "from abc import ABC, abstractmethod\n",
        "from dataclasses import dataclass\n",
        "\n",
        "@dataclass(frozen=True)\n",
        "class Caller:\n",
        "    name: str\n",
        "\n",
        "class CommunicationException(Exception):\n",
        "    def __init__(self, message):\n",
        "        super().__init__(message)\n",
        "\n",
        "class CommsHandlerABC(ABC):\n",
        "    @abstractmethod\n",
        "    def connect(self, user1: Caller, user2: Caller) -> str:\n",
        "        \"\"\"Implement connect method\"\"\"\n",
        "\n",
        "    @abstractmethod\n",
        "    def hangup(self, user1: Caller, user2: Caller) -> str:\n",
        "        \"\"\"Implement hangup method\"\"\"\n",
        "\n",
        "    @abstractmethod\n",
        "    def clear_all(self) -> None:\n",
        "        \"\"\"Implement clear_all\"\"\"\n",
        "\n",
        "class CommsHandler(CommsHandlerABC):\n",
        "    def __init__(self):\n",
        "        self.connected_users = set()\n",
        "\n",
        "    def connect(self, user1: Caller, user2: Caller) -> str:\n",
        "        if user1 == user2:\n",
        "            raise CommunicationException(f\"{user1.name} não pode se comunicar com {user2.name}\")\n",
        "\n",
        "        if (user1, user2) in self.connected_users or (user2, user1) in self.connected_users:\n",
        "            raise CommunicationException(\"Conexão em uso. Por favor tente novamente mais tarde.\")\n",
        "\n",
        "        self.connected_users.add((user1, user2))\n",
        "        return f\"Conexão estabelecida entre {user1.name} e {user2.name}\"\n",
        "\n",
        "    def hangup(self, user1: Caller, user2: Caller) -> str:\n",
        "        if user1 == user2:\n",
        "            raise CommunicationException(f\"{user1.name} não consegue hangup com {user2.name}\")\n",
        "\n",
        "        if (user1, user2) in self.connected_users:\n",
        "            self.connected_users.remove((user1, user2))\n",
        "            return f\"{user1.name} e {user2.name} estão desconectados\"\n",
        "        elif (user2, user1) in self.connected_users:\n",
        "            self.connected_users.remove((user2, user1))\n",
        "            return f\"{user1.name} e {user2.name} estão desconectados\"\n",
        "        else:\n",
        "            raise CommunicationException(f\"{user1.name} e {user2.name} não se encontram no canal de comunicação\")\n",
        "\n",
        "    def clear_all(self) -> None:\n",
        "        self.connected_users.clear()\n",
        "\n",
        "# Exemplo de uso\n",
        "user1 = Caller(\"Alice\")\n",
        "user2 = Caller(\"Bob\")\n",
        "\n",
        "handler = CommsHandler()\n",
        "\n",
        "try:\n",
        "    print(handler.connect(user1, user2))\n",
        "except CommunicationException as e:\n",
        "    print(f\"Erro: {e}\")\n",
        "\n",
        "try:\n",
        "    print(handler.hangup(user1, user2))\n",
        "except CommunicationException as e:\n",
        "    print(f\"Erro: {e}\")\n",
        "\n",
        "handler.clear_all()\n"
      ]
    },
    {
      "cell_type": "markdown",
      "source": [
        "#Passo 1\n",
        "---\n",
        "Importamos algumas funcionalidades importantes especiais do Python que nos ajudarão a criar classes objetos.\n",
        "\n",
        "#Passo 2\n",
        "---\n",
        "Aqui, está criado uma classe chamada 'Caller' que representa uma pessoa que pode fazer chamadas.\n",
        "\n",
        "`@dataclass(frozen=True)` é uma forma de criar uma classe de dados onde `'name'` é um atributo (informação) da pessoa. O `frozen=True` torna a classe imutável, o que significa que não podemos mudar os valores depois que a pessoa é criada.\n",
        "\n",
        "#Passo 3\n",
        "---\n",
        "Foi criado uma classe chamada `CommunicationException`, que é uma forma especial de lidar com erros no Python. Se algo der errado enquanto as pessoas estão se comunicando, usamos esta classe para mostrar uma mensagem de erro.\n",
        "\n",
        "#Passo 4\n",
        "---\n",
        "a classe `CommsHandlerABC`é uma espécie de plano geral para uma classe que lida com a comunicação. Ela possui três métodos(funções) que precisam ser implementados pelas classes que a utilizam: `connect,hangup e clear_all`.\n",
        "\n",
        "#Passo 5\n",
        "---\n",
        "Foi criado uma classe chamada `CommandsHandler` que é como a versão real que as pessoas usam para se comunicar. Começa-se dizendo que esta classe é baseada no plano geral `CommsHandlerABC`. A classe mantem uma lista de pessoas que estão atualmente se comunicando (`connected_users`).\n",
        "\n",
        "#Passo 6:\n",
        "---\n",
        "Foi implementado o metodo `connected` que é usado para estabelecer uma conexão entre duas pessoas. Verificamos se as pessoas são diferentes e se a conexão não está sendo usada. Se tudo estiver bem, adicionamos a conexão à lista e retornamos uma mensagem de sucesso.\n",
        "\n",
        "#Passo 7:\n",
        "---\n",
        "Foi implementado o metodo `hangup`que é usado para encerrar uma conexão entre duas pessoas. Verifica-se se as pessoas são diferentes e se elas estão realmente se comunicando. Se tudo estiver bem, removemos a conexão da lista e retornamso uma mensagem de sucesso.\n",
        "\n",
        "#Passo 8:\n",
        "---\n",
        "Foi implementado o metodo `clear_all`que é usado para limpar todas as conexões, mesmo que as pessoas ainda esteam se comunicando. Isso significa que todas as conexões são encerradas.\n",
        "\n",
        "#Passo 9:\n",
        "---\n",
        "Finalmente, foi executado a classe `CommsHandler` com dois usuários (`user1`e `ùser2`). Foi estabelecido uma conexão, encerrando-a e limpando todas as conexões. Se algo der errado, seria mostrado uma mensagem de erro."
      ],
      "metadata": {
        "id": "6moh0UV-eVkp"
      }
    },
    {
      "cell_type": "code",
      "source": [],
      "metadata": {
        "id": "SXoaGFzIdUSN"
      },
      "execution_count": null,
      "outputs": []
    }
  ]
}