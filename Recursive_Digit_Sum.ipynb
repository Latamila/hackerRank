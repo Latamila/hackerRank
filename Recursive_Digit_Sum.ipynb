{
  "nbformat": 4,
  "nbformat_minor": 0,
  "metadata": {
    "colab": {
      "provenance": [],
      "authorship_tag": "ABX9TyPVs/0vPH08ex6+OyIvFlO3",
      "include_colab_link": true
    },
    "kernelspec": {
      "name": "python3",
      "display_name": "Python 3"
    },
    "language_info": {
      "name": "python"
    }
  },
  "cells": [
    {
      "cell_type": "markdown",
      "metadata": {
        "id": "view-in-github",
        "colab_type": "text"
      },
      "source": [
        "<a href=\"https://colab.research.google.com/github/Latamila/hackerRank/blob/main/Recursive_Digit_Sum.ipynb\" target=\"_parent\"><img src=\"https://colab.research.google.com/assets/colab-badge.svg\" alt=\"Open In Colab\"/></a>"
      ]
    },
    {
      "cell_type": "code",
      "execution_count": 9,
      "metadata": {
        "colab": {
          "base_uri": "https://localhost:8080/",
          "height": 36
        },
        "id": "M8A6mlLy_J92",
        "outputId": "e2716a7c-45ae-4417-f21f-8554a3b59d0d"
      },
      "outputs": [
        {
          "output_type": "execute_result",
          "data": {
            "text/plain": [
              "'8'"
            ],
            "application/vnd.google.colaboratory.intrinsic+json": {
              "type": "string"
            }
          },
          "metadata": {},
          "execution_count": 9
        }
      ],
      "source": [
        "def sup_digits(x,k):\n",
        "    a = digsum(x)\n",
        "    return sup_digit(str(int(a)*k))\n",
        "\n",
        "def sup_digit(x):\n",
        "    if len(x) <= 1:\n",
        "        return x\n",
        "    else:\n",
        "        return sup_digit( digsum(x) )\n",
        "\n",
        "def digsum(x):\n",
        "    return str(sum((int(i) for i in list(x))))\n",
        "\n",
        "sup_digits('9875', 4)"
      ]
    },
    {
      "cell_type": "markdown",
      "source": [
        "Vamos analisar o código passo a passo para entender o que está acontecendo:\n",
        "\n",
        "### Função `digsum(x)`\n",
        "\n",
        "```python\n",
        "def digsum(x):\n",
        "    return str(sum((int(i) for i in list(x))))\n",
        "```\n",
        "\n",
        "- `list(x)`: Converte a string `x` em uma lista de caracteres.\n",
        "- `(int(i) for i in list(x))`: Gera um iterador que converte cada caractere da lista para um inteiro.\n",
        "- `sum(...)`: Calcula a soma de todos os inteiros gerados.\n",
        "- `str(...)`: Converte a soma de volta para uma string.\n",
        "\n",
        "Em resumo, `digsum(x)` calcula a soma dos dígitos de um número representado como uma string.\n",
        "\n",
        "### Função `sup_digit(x)`\n",
        "\n",
        "```python\n",
        "def sup_digit(x):\n",
        "    if len(x) <= 1:\n",
        "        return x\n",
        "    else:\n",
        "        return sup_digit(digsum(x))\n",
        "```\n",
        "\n",
        "- Verifica se o comprimento da string `x` é menor ou igual a 1. Se for, retorna `x` diretamente.\n",
        "- Caso contrário, chama recursivamente a função `sup_digit` passando como argumento a soma dos dígitos de `x`.\n",
        "\n",
        "Em resumo, `sup_digit(x)` calcula a \"superdigitação\" de um número, que é o processo de somar os dígitos repetidamente até que reste apenas um dígito.\n",
        "\n",
        "### Função `sup_digits(x, k)`\n",
        "\n",
        "```python\n",
        "def sup_digits(x, k):\n",
        "    a = digsum(x)\n",
        "    return sup_digit(str(int(a) * k))\n",
        "```\n",
        "\n",
        "- `a = digsum(x)`: Calcula a soma dos dígitos do número `x` e atribui o resultado a `a`.\n",
        "- `str(int(a) * k)`: Multiplica a soma dos dígitos (`a`) por `k` e converte o resultado para uma string.\n",
        "- `sup_digit(...)`: Chama a função `sup_digit` para calcular a superdigitação do resultado.\n",
        "\n",
        "### Chamada `sup_digits('9875', 4)`\n",
        "\n",
        "```python\n",
        "sup_digits('9875', 4)\n",
        "```\n",
        "\n",
        "- Calcula a soma dos dígitos de '9875' (que é 29).\n",
        "- Multiplica 29 por 4, obtendo 116.\n",
        "- Calcula a superdigitação de 116 usando a função `sup_digit`.\n",
        "\n",
        "Em resumo, a função `sup_digits` aplica o conceito de superdigitação a um número, que envolve calcular a soma dos dígitos repetidamente até obter um único dígito, e o faz para um número específico e uma quantidade específica de vezes. No exemplo dado, a chamada `sup_digits('9875', 4)` retorna a superdigitação do número resultante de multiplicar a soma dos dígitos de '9875' por 4."
      ],
      "metadata": {
        "id": "X5gljun-Qr-X"
      }
    },
    {
      "cell_type": "code",
      "source": [],
      "metadata": {
        "id": "zYa1KpJ0_uUY"
      },
      "execution_count": null,
      "outputs": []
    }
  ]
}