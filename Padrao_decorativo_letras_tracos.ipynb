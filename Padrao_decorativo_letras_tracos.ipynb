{
  "nbformat": 4,
  "nbformat_minor": 0,
  "metadata": {
    "colab": {
      "provenance": [],
      "authorship_tag": "ABX9TyP80sDs40lVyBMCZoo9CWRN",
      "include_colab_link": true
    },
    "kernelspec": {
      "name": "python3",
      "display_name": "Python 3"
    },
    "language_info": {
      "name": "python"
    }
  },
  "cells": [
    {
      "cell_type": "markdown",
      "metadata": {
        "id": "view-in-github",
        "colab_type": "text"
      },
      "source": [
        "<a href=\"https://colab.research.google.com/github/Latamila/hackerRank/blob/main/ALG_Designer_Door_Mat.ipynb\" target=\"_parent\"><img src=\"https://colab.research.google.com/assets/colab-badge.svg\" alt=\"Open In Colab\"/></a>"
      ]
    },
    {
      "cell_type": "code",
      "source": [
        "#tentativa 1\n",
        "N, M = map(int, input().split())\n",
        "for i in range(1, N, 2):\n",
        "  print(('.|.'*i).center(M,\"-\"))"
      ],
      "metadata": {
        "colab": {
          "base_uri": "https://localhost:8080/"
        },
        "id": "l5rJgwIVa9iV",
        "outputId": "6e75cf48-30b8-4ed1-e7ec-6ca483f815f1"
      },
      "execution_count": 41,
      "outputs": [
        {
          "output_type": "stream",
          "name": "stdout",
          "text": [
            "7 3\n",
            ".|.\n",
            ".|..|..|.\n",
            ".|..|..|..|..|.\n"
          ]
        }
      ]
    },
    {
      "cell_type": "code",
      "source": [
        "print('WELCOME'.center(M))\n",
        "#tentativa 2"
      ],
      "metadata": {
        "colab": {
          "base_uri": "https://localhost:8080/"
        },
        "id": "_TJK014fe8cq",
        "outputId": "b9cb6635-0731-46fe-ea43-c8bb9d05d5c8"
      },
      "execution_count": 47,
      "outputs": [
        {
          "output_type": "stream",
          "name": "stdout",
          "text": [
            "WELCOME\n"
          ]
        }
      ]
    },
    {
      "cell_type": "code",
      "source": [
        "for i in range(N-2, -1, -2):\n",
        "  r = (('.|.'*i).center(M,\"-\"))\n",
        "  print(r)\n",
        "  #hipotese 3\n",
        ""
      ],
      "metadata": {
        "colab": {
          "base_uri": "https://localhost:8080/"
        },
        "id": "vBIoA8x9fT6C",
        "outputId": "1617f2ab-a86c-442b-e145-d06102890c07"
      },
      "execution_count": 45,
      "outputs": [
        {
          "output_type": "stream",
          "name": "stdout",
          "text": [
            ".|..|..|..|..|.\n",
            ".|..|..|.\n",
            ".|.\n"
          ]
        }
      ]
    },
    {
      "cell_type": "code",
      "source": [
        "N, M = map(int, input().split())\n",
        "for i in range(1, N, 2):\n",
        "    print((i * \".|.\").center(M,\"-\"))\n",
        "print(\"WELCOME\".center(M, \"-\"))\n",
        "for i in range(N-2, -1, -2):\n",
        "    print((i * \".|.\").center(M, \"-\"))\n",
        "#hipotese 4"
      ],
      "metadata": {
        "colab": {
          "base_uri": "https://localhost:8080/"
        },
        "id": "gcw0CV96fhOB",
        "outputId": "c707a3d4-1eed-4da7-82fb-355893f284ae"
      },
      "execution_count": 67,
      "outputs": [
        {
          "output_type": "stream",
          "name": "stdout",
          "text": [
            "7 21\n",
            "---------.|.---------\n",
            "------.|..|..|.------\n",
            "---.|..|..|..|..|.---\n",
            "-------WELCOME-------\n",
            "---.|..|..|..|..|.---\n",
            "------.|..|..|.------\n",
            "---------.|.---------\n"
          ]
        }
      ]
    },
    {
      "cell_type": "code",
      "source": [
        "n, m = map(int,input().split())\n",
        "pattern = [('.|.'*(2*i + 1)).center(m, '-') for i in range(n//2)]\n",
        "print('\\n'.join(pattern + ['WELCOME'.center(m, '-')] + pattern[::-1]))\n",
        "#hipotese 5"
      ],
      "metadata": {
        "colab": {
          "base_uri": "https://localhost:8080/"
        },
        "id": "axTPwSDmgd9I",
        "outputId": "758bd1d3-5acd-416b-a4a5-48268f9abd25"
      },
      "execution_count": 70,
      "outputs": [
        {
          "output_type": "stream",
          "name": "stdout",
          "text": [
            "9 27\n",
            "------------.|.------------\n",
            "---------.|..|..|.---------\n",
            "------.|..|..|..|..|.------\n",
            "---.|..|..|..|..|..|..|.---\n",
            "----------WELCOME----------\n",
            "---.|..|..|..|..|..|..|.---\n",
            "------.|..|..|..|..|.------\n",
            "---------.|..|..|.---------\n",
            "------------.|.------------\n"
          ]
        }
      ]
    },
    {
      "cell_type": "code",
      "source": [
        "n, m = map(int,input().split())\n",
        "pattern = [('.|.'*(2*i + 1)).center(m, '-') for i in range(n//2)]\n",
        "print('\\n'.join(pattern + ['WELCOME'.center(m, '-')] + pattern[::-1]))"
      ],
      "metadata": {
        "colab": {
          "base_uri": "https://localhost:8080/"
        },
        "id": "rSZacZaOhBKg",
        "outputId": "b9c4b70a-c121-4faf-ec76-125938b5ffa2"
      },
      "execution_count": 69,
      "outputs": [
        {
          "output_type": "stream",
          "name": "stdout",
          "text": [
            "5 15\n",
            "------.|.------\n",
            "---.|..|..|.---\n",
            "----WELCOME----\n",
            "---.|..|..|.---\n",
            "------.|.------\n"
          ]
        }
      ]
    },
    {
      "cell_type": "code",
      "source": [
        "pattern\n",
        "#tentativa 6"
      ],
      "metadata": {
        "colab": {
          "base_uri": "https://localhost:8080/"
        },
        "id": "CCXeu7KdkMTI",
        "outputId": "c3992635-39b6-436d-e60b-2e1a09b807dd"
      },
      "execution_count": 71,
      "outputs": [
        {
          "output_type": "execute_result",
          "data": {
            "text/plain": [
              "['------------.|.------------',\n",
              " '---------.|..|..|.---------',\n",
              " '------.|..|..|..|..|.------',\n",
              " '---.|..|..|..|..|..|..|.---']"
            ]
          },
          "metadata": {},
          "execution_count": 71
        }
      ]
    },
    {
      "cell_type": "code",
      "source": [
        "c = '-'\n",
        "for i in range(1, n+1):\n",
        "  print((c*i).rjust(n,' '))\n",
        "\n",
        "  #amostra"
      ],
      "metadata": {
        "colab": {
          "base_uri": "https://localhost:8080/"
        },
        "id": "Fw9p5pLxhLew",
        "outputId": "21585af7-33c1-49e8-ab88-5546b2ae04c8"
      },
      "execution_count": 76,
      "outputs": [
        {
          "output_type": "stream",
          "name": "stdout",
          "text": [
            "        -\n",
            "       --\n",
            "      ---\n",
            "     ----\n",
            "    -----\n",
            "   ------\n",
            "  -------\n",
            " --------\n",
            "---------\n"
          ]
        }
      ]
    },
    {
      "cell_type": "code",
      "source": [
        "print('HackerRank'.center(m,'-'))\n",
        "#amostra"
      ],
      "metadata": {
        "colab": {
          "base_uri": "https://localhost:8080/"
        },
        "id": "L6e6tDgBhaSj",
        "outputId": "4e399316-9635-4853-c403-f8a2619aa33a"
      },
      "execution_count": 75,
      "outputs": [
        {
          "output_type": "stream",
          "name": "stdout",
          "text": [
            "---------HackerRank--------\n"
          ]
        }
      ]
    },
    {
      "cell_type": "markdown",
      "source": [
        "Este trecho de código em Python gera um padrão decorativo semelhante a uma tapeçaria com uma mensagem \"WELCOME\" no centro. Vamos analisar cada parte:\n",
        "\n",
        "* Lê dois números inteiros (n e m) da entrada. Esses números são utilizados para determinar as dimensões e a largura do padrão.\n",
        "\n",
        "* Cria uma lista chamada pattern usando uma list comprehension. Para cada valor i no intervalo de 0 até n//2 - 1, ele cria uma string com o padrão '.|.' repetido (2*i + 1) vezes, onde i é um índice que varia de 0 a (n//2 - 1). Em seguida, utiliza o método center para centralizar a string dentro de uma linha de comprimento m, preenchendo os espaços restantes com o caractere '-'.\n",
        "\n",
        "* Cria uma string final juntando as três partes:\n",
        "\n",
        "1- As linhas do padrão (pattern).\n",
        "\n",
        "2 - Uma linha contendo a mensagem \"WELCOME\" centralizada (['WELCOME'.center(m, '-')]).\n",
        "\n",
        "3 - As linhas do padrão em ordem reversa (pattern[::-1]).\n",
        "\n",
        "\n",
        "A função '\\n'.join() é usada para unir todas essas partes usando quebras de linha e imprimir o resultado."
      ],
      "metadata": {
        "id": "u1zP_kPXlR62"
      }
    }
  ]
}
