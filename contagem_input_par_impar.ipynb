{
  "nbformat": 4,
  "nbformat_minor": 0,
  "metadata": {
    "colab": {
      "provenance": [],
      "authorship_tag": "ABX9TyMubCuQ7n3Bl5htub6hJ6h8",
      "include_colab_link": true
    },
    "kernelspec": {
      "name": "python3",
      "display_name": "Python 3"
    },
    "language_info": {
      "name": "python"
    }
  },
  "cells": [
    {
      "cell_type": "markdown",
      "metadata": {
        "id": "view-in-github",
        "colab_type": "text"
      },
      "source": [
        "<a href=\"https://colab.research.google.com/github/Latamila/hackerRank/blob/main/contagem_input_par_impar.ipynb\" target=\"_parent\"><img src=\"https://colab.research.google.com/assets/colab-badge.svg\" alt=\"Open In Colab\"/></a>"
      ]
    },
    {
      "cell_type": "code",
      "execution_count": 2,
      "metadata": {
        "colab": {
          "base_uri": "https://localhost:8080/"
        },
        "id": "6V8w0HGyMNwr",
        "outputId": "44eb3cf5-17f9-4edd-ab77-dc6dc1a8b718"
      },
      "outputs": [
        {
          "output_type": "stream",
          "name": "stdout",
          "text": [
            "Digite um número, ou zero para terminar: 5\n",
            "Digite um número, ou zero para terminar: 6\n",
            "Digite um número, ou zero para terminar: 4\n",
            "Digite um número, ou zero para terminar: 2\n",
            "Digite um número, ou zero para terminar: 1\n",
            "Digite um número, ou zero para terminar: 8\n",
            "Digite um número, ou zero para terminar: 0\n",
            "Par =  4\n",
            "Impar =  2\n"
          ]
        }
      ],
      "source": [
        "terminou = False\n",
        "p = i = 0\n",
        "while (not terminou):\n",
        "    n = int(input(\"Digite um número, ou zero para terminar: \"))\n",
        "    if n == 0:\n",
        "        terminou = True\n",
        "    else:\n",
        "        if n % 2 == 0:\n",
        "            p = p + 1\n",
        "        else:\n",
        "            i = i + 1\n",
        "\n",
        "print (\"Par = \", p)\n",
        "print (\"Impar = \", i)"
      ]
    }
  ]
}