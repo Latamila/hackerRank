{
  "nbformat": 4,
  "nbformat_minor": 0,
  "metadata": {
    "colab": {
      "provenance": [],
      "authorship_tag": "ABX9TyNqBppEyf0rMy5QqwHQMQHQ",
      "include_colab_link": true
    },
    "kernelspec": {
      "name": "python3",
      "display_name": "Python 3"
    },
    "language_info": {
      "name": "python"
    }
  },
  "cells": [
    {
      "cell_type": "markdown",
      "metadata": {
        "id": "view-in-github",
        "colab_type": "text"
      },
      "source": [
        "<a href=\"https://colab.research.google.com/github/Latamila/hackerRank/blob/main/Bhaskara_formula.ipynb\" target=\"_parent\"><img src=\"https://colab.research.google.com/assets/colab-badge.svg\" alt=\"Open In Colab\"/></a>"
      ]
    },
    {
      "cell_type": "code",
      "source": [
        "import math"
      ],
      "metadata": {
        "id": "M7fyk8vMkAYl"
      },
      "execution_count": 31,
      "outputs": []
    },
    {
      "cell_type": "code",
      "source": [
        "a = int(input('insira o valor de a: '))\n",
        "b = int(input('insira o valor de b: '))\n",
        "c = int(input('insira o valor de c: '))\n",
        "\n",
        "delta = (b**2)-4*a*c\n",
        "\n",
        "if delta < 0:\n",
        "  print('esta equação não possui raízes reais')\n",
        "else:\n",
        "  X = (-(b) + math.sqrt(delta))/(2*a)\n",
        "  Y = (-(b) - math.sqrt(delta))/(2*a)\n",
        "  if delta == 0:\n",
        "    print(f'a raiz desta equação é {X}')\n",
        "  else:\n",
        "    if X < Y:\n",
        "      print(f'as raízes da equação são {X} e {Y}')\n",
        "    else:\n",
        "      print(f'as raízes da equação são {Y} e {X}')"
      ],
      "metadata": {
        "colab": {
          "base_uri": "https://localhost:8080/"
        },
        "id": "08veTdrHNftc",
        "outputId": "b8f11ee5-9e19-4cdd-8d67-a2b79647b57f"
      },
      "execution_count": 33,
      "outputs": [
        {
          "output_type": "stream",
          "name": "stdout",
          "text": [
            "insira o valor de a: 2\n",
            "insira o valor de b: 12\n",
            "insira o valor de c: -14\n",
            "as raízes da equação são -7.0 e 1.0\n"
          ]
        }
      ]
    },
    {
      "cell_type": "code",
      "source": [
        "def calcula_bhaskara(a, b, c):\n",
        "  delta = (b**2)-4*a*c\n",
        "  if delta < 0:\n",
        "    print('esta equação não possui raízes reais')\n",
        "  else:\n",
        "    X = (-(b) + math.sqrt(delta))/(2*a)\n",
        "    Y = (-(b) - math.sqrt(delta))/(2*a)\n",
        "    if delta == 0:\n",
        "      print(f'a raiz desta equação é {X}')\n",
        "    else:\n",
        "      if X < Y:\n",
        "        print(f'as raízes da equação são {X} e {Y}')\n",
        "      else:\n",
        "        print(f'as raízes da equação são {Y} e {X}')"
      ],
      "metadata": {
        "id": "2NXhWZLvcTcq"
      },
      "execution_count": 34,
      "outputs": []
    },
    {
      "cell_type": "code",
      "source": [
        "calcula_bhaskara(2,12,-14)"
      ],
      "metadata": {
        "colab": {
          "base_uri": "https://localhost:8080/"
        },
        "id": "NwEKPyqFkxzP",
        "outputId": "a419dd55-9a35-4206-ea22-e004cd5726e9"
      },
      "execution_count": 35,
      "outputs": [
        {
          "output_type": "stream",
          "name": "stdout",
          "text": [
            "as raízes da equação são -7.0 e 1.0\n"
          ]
        }
      ]
    },
    {
      "cell_type": "code",
      "source": [
        "calcula_bhaskara(3,-1,-10)"
      ],
      "metadata": {
        "colab": {
          "base_uri": "https://localhost:8080/"
        },
        "id": "TavDUSh2k2V6",
        "outputId": "aa574049-f2ae-4227-9a40-56ab0ba10454"
      },
      "execution_count": 36,
      "outputs": [
        {
          "output_type": "stream",
          "name": "stdout",
          "text": [
            "as raízes da equação são -1.6666666666666667 e 2.0\n"
          ]
        }
      ]
    },
    {
      "cell_type": "code",
      "source": [],
      "metadata": {
        "id": "lXPx-v7Ik0Sd"
      },
      "execution_count": null,
      "outputs": []
    }
  ]
}