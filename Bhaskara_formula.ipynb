{
  "nbformat": 4,
  "nbformat_minor": 0,
  "metadata": {
    "colab": {
      "provenance": [],
      "authorship_tag": "ABX9TyOK+todxL2zURb4or08W+RE",
      "include_colab_link": true
    },
    "kernelspec": {
      "name": "python3",
      "display_name": "Python 3"
    },
    "language_info": {
      "name": "python"
    }
  },
  "cells": [
    {
      "cell_type": "markdown",
      "metadata": {
        "id": "view-in-github",
        "colab_type": "text"
      },
      "source": [
        "<a href=\"https://colab.research.google.com/github/Latamila/hackerRank/blob/main/Bhaskara_formula.ipynb\" target=\"_parent\"><img src=\"https://colab.research.google.com/assets/colab-badge.svg\" alt=\"Open In Colab\"/></a>"
      ]
    },
    {
      "cell_type": "code",
      "source": [
        "a = int(input('insira o valor de a: '))\n",
        "b = int(input('insira o valor de b: '))\n",
        "c = int(input('insira o valor de c: '))\n",
        "\n",
        "X = (-(b) + math.sqrt(delta))/(2*a)\n",
        "Y= ((-(b) - math.sqrt(delta))/(2*a))\n",
        "delta = (b**2)-4*a*c\n",
        "if delta < 0:\n",
        "  print('esta equação não possui raízes reais')\n",
        "elif delta == 0:\n",
        "  print(f'a raiz desta equação é {X}')\n",
        "else:\n",
        "  if X < Y:\n",
        "    print(f'as raízes da equação são {X} e {Y}')\n",
        "  else:\n",
        "    print(f'as raízes da equação são {Y} e {X}')\n"
      ],
      "metadata": {
        "colab": {
          "base_uri": "https://localhost:8080/"
        },
        "id": "08veTdrHNftc",
        "outputId": "aba5116b-fcb1-414c-c52f-ad2344735840"
      },
      "execution_count": 91,
      "outputs": [
        {
          "output_type": "stream",
          "name": "stdout",
          "text": [
            "insira o valor de a: 2\n",
            "insira o valor de b: 12\n",
            "insira o valor de c: -14\n",
            "as raízes da equação são -7.0 e 1.0\n"
          ]
        }
      ]
    }
  ]
}