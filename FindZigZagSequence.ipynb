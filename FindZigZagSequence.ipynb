{
  "nbformat": 4,
  "nbformat_minor": 0,
  "metadata": {
    "colab": {
      "provenance": [],
      "authorship_tag": "ABX9TyN8H1V6Tamr00ybYdmkNxXt",
      "include_colab_link": true
    },
    "kernelspec": {
      "name": "python3",
      "display_name": "Python 3"
    },
    "language_info": {
      "name": "python"
    }
  },
  "cells": [
    {
      "cell_type": "markdown",
      "metadata": {
        "id": "view-in-github",
        "colab_type": "text"
      },
      "source": [
        "<a href=\"https://colab.research.google.com/github/Latamila/hackerRank/blob/main/FindZigZagSequence.ipynb\" target=\"_parent\"><img src=\"https://colab.research.google.com/assets/colab-badge.svg\" alt=\"Open In Colab\"/></a>"
      ]
    },
    {
      "cell_type": "code",
      "source": [
        "def findZigZagSequence(a, n):\n",
        "    a.sort()\n",
        "    mid = int((n + 1)/2)-1#FIZ AQUI\n",
        "    a[mid], a[n-1] = a[n-1], a[mid]\n",
        "\n",
        "    st = mid + 1\n",
        "    ed = n - 2 #FIZ AQUI\n",
        "    while(st <= ed):\n",
        "        a[st], a[ed] = a[ed], a[st]\n",
        "        st = st + 1\n",
        "        ed = ed -1 #FIZ AQUI 1\n",
        "\n",
        "    for i in range (n):\n",
        "        if i == n-1:\n",
        "            print(a[i])\n",
        "        else:\n",
        "            print(a[i], end = ' ')\n",
        "    return\n",
        "\n",
        "test_cases = int(input())\n",
        "for cs in range (test_cases):\n",
        "    n = int(input())\n",
        "    a = list(map(int, input().split()))\n",
        "    findZigZagSequence(a, n)"
      ],
      "metadata": {
        "colab": {
          "base_uri": "https://localhost:8080/"
        },
        "id": "juWAiSpqHLFO",
        "outputId": "60316dd5-0d86-4f88-bb68-6ed2e08debaf"
      },
      "execution_count": 24,
      "outputs": [
        {
          "output_type": "stream",
          "name": "stdout",
          "text": [
            "1\n",
            "5\n",
            "1 4 5 3 2\n",
            "1 2 5 4 3\n"
          ]
        }
      ]
    },
    {
      "cell_type": "markdown",
      "source": [
        "#BASTIDORES DE APRENDIZADO\n",
        "\n",
        "As vezes entender o algoritmo é dificil mas tem outras formas de resolver o mesmo problema."
      ],
      "metadata": {
        "id": "8l2ipjnRHF8H"
      }
    },
    {
      "cell_type": "markdown",
      "source": [
        "Lista de teste"
      ],
      "metadata": {
        "id": "sQFzC8gEHqyB"
      }
    },
    {
      "cell_type": "code",
      "execution_count": 1,
      "metadata": {
        "id": "PkdbAG5225qR"
      },
      "outputs": [],
      "source": [
        "numeros = [7,2,5,4,3,6,1]"
      ]
    },
    {
      "cell_type": "markdown",
      "source": [
        "Organizar em ordem crescente"
      ],
      "metadata": {
        "id": "5-TL38t8HueH"
      }
    },
    {
      "cell_type": "code",
      "source": [
        "n_sorted = sorted(numeros)\n",
        "n_sorted"
      ],
      "metadata": {
        "colab": {
          "base_uri": "https://localhost:8080/"
        },
        "id": "cBb9xFpZ3EzA",
        "outputId": "8df5990f-02ce-49da-a40f-8b430c75568f"
      },
      "execution_count": 3,
      "outputs": [
        {
          "output_type": "execute_result",
          "data": {
            "text/plain": [
              "[1, 2, 3, 4, 5, 6, 7]"
            ]
          },
          "metadata": {},
          "execution_count": 3
        }
      ]
    },
    {
      "cell_type": "markdown",
      "source": [
        "Trocar o elemento do meio pelo ultimo."
      ],
      "metadata": {
        "id": "Sn79-yB5H06G"
      }
    },
    {
      "cell_type": "code",
      "source": [
        "n_sorted[len(n_sorted) // 2], n_sorted[-1] = n_sorted[-1], n_sorted[len(n_sorted) // 2]\n",
        "n_sorted"
      ],
      "metadata": {
        "colab": {
          "base_uri": "https://localhost:8080/"
        },
        "id": "N2w0ZXKY3Ior",
        "outputId": "09a4932e-c61a-45b6-f117-6aa304ccf171"
      },
      "execution_count": 5,
      "outputs": [
        {
          "output_type": "execute_result",
          "data": {
            "text/plain": [
              "[1, 2, 3, 7, 5, 6, 4]"
            ]
          },
          "metadata": {},
          "execution_count": 5
        }
      ]
    },
    {
      "cell_type": "markdown",
      "source": [
        "Armazenando a primeira fatia ate o meio em uma nova lista."
      ],
      "metadata": {
        "id": "4J0eFCQaIBku"
      }
    },
    {
      "cell_type": "code",
      "source": [
        "nova = n_sorted[:(len(n_sorted) // 2) + 1]\n",
        "nova"
      ],
      "metadata": {
        "colab": {
          "base_uri": "https://localhost:8080/"
        },
        "id": "rdyQ5H697oyw",
        "outputId": "909a205e-06c6-4dac-cf47-c5079324de29"
      },
      "execution_count": 25,
      "outputs": [
        {
          "output_type": "execute_result",
          "data": {
            "text/plain": [
              "[1, 2, 3, 7]"
            ]
          },
          "metadata": {},
          "execution_count": 25
        }
      ]
    },
    {
      "cell_type": "markdown",
      "source": [
        "Agora para evitar fazer um append que retornaria uma lista de listas, vou adicionar o slice com a parte final da lista com sinal de '+' e a lista nova."
      ],
      "metadata": {
        "id": "FFUc-MItIKlI"
      }
    },
    {
      "cell_type": "code",
      "source": [
        "n_sorted = nova + sorted(n_sorted[(len(n_sorted) // 2)+1:],reverse = True)\n",
        "n_sorted"
      ],
      "metadata": {
        "colab": {
          "base_uri": "https://localhost:8080/"
        },
        "id": "uDSDz4Lx3bkU",
        "outputId": "85c22b8e-8f6b-4dd0-a0a2-c1341efd401e"
      },
      "execution_count": 26,
      "outputs": [
        {
          "output_type": "execute_result",
          "data": {
            "text/plain": [
              "[1, 2, 3, 7, 6, 5, 4]"
            ]
          },
          "metadata": {},
          "execution_count": 26
        }
      ]
    },
    {
      "cell_type": "markdown",
      "source": [
        "Agora no texto como retorna sem a virgula, preciso printar cada numero separadamente e alterar a finalização que retornaria uma quebra de linha para apenas um espaço."
      ],
      "metadata": {
        "id": "CMvh_9gdI8PQ"
      }
    },
    {
      "cell_type": "code",
      "source": [
        "def zig_zag(list):\n",
        "    nova_lista = [] #vai armazenar a nova_lista\n",
        "    n_sorted = sorted(list)\n",
        "    #organizar a lista\n",
        "    n_sorted[len(n_sorted) // 2], n_sorted[-1] = n_sorted[-1], n_sorted[len(n_sorted) // 2]\n",
        "    #substituir o do meio pelo maior e o do meio vai para o ultimo\n",
        "    nova_lista = n_sorted[:(len(n_sorted) // 2) + 1]\n",
        "    #copia até a metade na nova_lista\n",
        "    nova_lista = nova_lista + sorted(n_sorted[(len(n_sorted) // 2)+1:],reverse = True)\n",
        "    #armazena a fatia decrescente restante\n",
        "    for i in range(len(list)):\n",
        "        if i == len(list) - 1:\n",
        "            print(nova_lista[i])\n",
        "        else:\n",
        "            print(nova_lista[i], end=' ')\n",
        "    return\n",
        "\n",
        "numeros_zigzag = zig_zag(numeros)\n",
        "numeros_zigzag\n"
      ],
      "metadata": {
        "colab": {
          "base_uri": "https://localhost:8080/"
        },
        "id": "nFzhiPir41W0",
        "outputId": "2d74bbbe-2cef-4461-f083-b40877ec5af6"
      },
      "execution_count": 27,
      "outputs": [
        {
          "output_type": "stream",
          "name": "stdout",
          "text": [
            "1 2 3 7 6 5 4\n"
          ]
        }
      ]
    }
  ]
}