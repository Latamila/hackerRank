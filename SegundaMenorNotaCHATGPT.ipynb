{
  "nbformat": 4,
  "nbformat_minor": 0,
  "metadata": {
    "colab": {
      "provenance": [],
      "authorship_tag": "ABX9TyP4bkrhByP06MQZ2ncMmX99",
      "include_colab_link": true
    },
    "kernelspec": {
      "name": "python3",
      "display_name": "Python 3"
    },
    "language_info": {
      "name": "python"
    }
  },
  "cells": [
    {
      "cell_type": "markdown",
      "metadata": {
        "id": "view-in-github",
        "colab_type": "text"
      },
      "source": [
        "<a href=\"https://colab.research.google.com/github/Latamila/hackerRank/blob/main/segundaMenorNotaCHATGPT.ipynb\" target=\"_parent\"><img src=\"https://colab.research.google.com/assets/colab-badge.svg\" alt=\"Open In Colab\"/></a>"
      ]
    },
    {
      "cell_type": "code",
      "source": [
        "def obter_segunda_menor_nota(quantidade_notas):\n",
        "    estudantes = []\n",
        "\n",
        "    # Solicita nome e nota aos usuários\n",
        "    for i in range(quantidade_notas):\n",
        "        nome = input(f\"Informe o nome do estudante {i + 1}: \")\n",
        "        nota = float(input(f\"Informe a nota de {nome}: \"))\n",
        "        estudantes.append([nome, nota])\n",
        "\n",
        "    # Ordena a lista de estudantes com base nas notas e nomes\n",
        "    estudantes_ordenados = sorted(estudantes, key=lambda x: (x[1], x[0]))\n",
        "\n",
        "    # Obtém a segunda menor nota e os nomes correspondentes\n",
        "    segunda_menor_nota = estudantes_ordenados[1][1]\n",
        "    estudantes_segunda_menor_nota = [estudante[0] for estudante in estudantes_ordenados if estudante[1] == segunda_menor_nota]\n",
        "\n",
        "    return segunda_menor_nota, estudantes_segunda_menor_nota\n",
        "\n",
        "# Solicita a quantidade de notas aos usuários\n",
        "quantidade_notas = int(input(\"Informe a quantidade de notas de estudantes: \"))\n",
        "\n",
        "# Chama a função e exibe os resultados\n",
        "segunda_menor_nota, estudantes_segunda_menor_nota = obter_segunda_menor_nota(quantidade_notas)\n",
        "\n",
        "print(f\"A segunda menor nota é: {segunda_menor_nota}\")\n",
        "print(\"Os estudantes com a segunda menor nota em ordem alfabética são:\")\n",
        "for estudante in estudantes_segunda_menor_nota:\n",
        "    print(estudante)\n"
      ],
      "metadata": {
        "colab": {
          "base_uri": "https://localhost:8080/"
        },
        "id": "VcZ1EsHjHtll",
        "outputId": "e5dd939e-2c1d-41c8-a4de-8f71c307c730"
      },
      "execution_count": 11,
      "outputs": [
        {
          "output_type": "stream",
          "name": "stdout",
          "text": [
            "Informe a quantidade de notas de estudantes: 5\n",
            "Informe o nome do estudante 1: camila\n",
            "Informe a nota de camila: 25\n",
            "Informe o nome do estudante 2: joao\n",
            "Informe a nota de joao: 30\n",
            "Informe o nome do estudante 3: mateus\n",
            "Informe a nota de mateus: 30\n",
            "Informe o nome do estudante 4: alex\n",
            "Informe a nota de alex: 30\n",
            "Informe o nome do estudante 5: otavio \n",
            "Informe a nota de otavio : 56\n",
            "A segunda menor nota é: 30.0\n",
            "Os estudantes com a segunda menor nota em ordem alfabética são:\n",
            "alex\n",
            "joao\n",
            "mateus\n"
          ]
        }
      ]
    },
    {
      "cell_type": "code",
      "source": [
        "o"
      ],
      "metadata": {
        "id": "eBe9Zhn8L0UQ"
      },
      "execution_count": null,
      "outputs": []
    },
    {
      "cell_type": "code",
      "source": [
        "estudantesNotas = [['camila',30],['joao',25],['mateus',30],['alex',30],['otavio',56]]"
      ],
      "metadata": {
        "id": "3L9CdJqrJfeq"
      },
      "execution_count": 4,
      "outputs": []
    },
    {
      "cell_type": "code",
      "source": [
        "estudantes_ordenados = sorted(estudantesNotas, key=lambda x: (x[1], x[0]))\n",
        "#aqui, ele faz a ordenação da lista estudantesNotas, com uma função anonima lambda\n",
        "#que passará pela lista ordenando considerando o elemento [1], ou seja, a nota\n",
        "#e depois pelo elemento [0], ou seja, por nomes."
      ],
      "metadata": {
        "id": "f2dy-O_uKMyN"
      },
      "execution_count": 5,
      "outputs": []
    },
    {
      "cell_type": "code",
      "source": [
        "estudantes_ordenados"
      ],
      "metadata": {
        "colab": {
          "base_uri": "https://localhost:8080/"
        },
        "id": "XFkSKOM2KTpp",
        "outputId": "b40ac9d1-07c2-4718-d95e-9cadbb8eb315"
      },
      "execution_count": 6,
      "outputs": [
        {
          "output_type": "execute_result",
          "data": {
            "text/plain": [
              "[['joao', 25], ['alex', 30], ['camila', 30], ['mateus', 30], ['otavio', 56]]"
            ]
          },
          "metadata": {},
          "execution_count": 6
        }
      ]
    },
    {
      "cell_type": "code",
      "source": [
        "# Obtém a segunda menor nota e os nomes correspondentes\n",
        "segunda_menor_nota = estudantes_ordenados[1][1]\n",
        "#aqui foi solicitado a sublista 1 (ou a segunda posição) e retornar o valor da\n",
        "#posição 1(score ou nota)"
      ],
      "metadata": {
        "id": "qofX3lOQKV5f"
      },
      "execution_count": 7,
      "outputs": []
    },
    {
      "cell_type": "code",
      "source": [
        "segunda_menor_nota"
      ],
      "metadata": {
        "colab": {
          "base_uri": "https://localhost:8080/"
        },
        "id": "IrRyx-3nKdoS",
        "outputId": "14d04fa3-5786-4954-b5c6-42ff1ec41d1a"
      },
      "execution_count": 8,
      "outputs": [
        {
          "output_type": "execute_result",
          "data": {
            "text/plain": [
              "30"
            ]
          },
          "metadata": {},
          "execution_count": 8
        }
      ]
    },
    {
      "cell_type": "code",
      "source": [
        "estudantes_segunda_menor_nota = [estudante[0] for estudante in estudantes_ordenados if estudante[1] == segunda_menor_nota]\n",
        "\n",
        "#Para estudante na lista estudantes_ordenados, se a nota do estudante\n",
        "#(estudante[1] 2º valor) for igual ao valor de segunda_menor_nota\n",
        "#retorne o nome do estudante(estudante[0]) e\n",
        "#armazene em estudantes_segunda_menor_nota"
      ],
      "metadata": {
        "id": "1Th4hnkoKfL3"
      },
      "execution_count": 9,
      "outputs": []
    },
    {
      "cell_type": "code",
      "source": [
        "estudantes_segunda_menor_nota"
      ],
      "metadata": {
        "colab": {
          "base_uri": "https://localhost:8080/"
        },
        "id": "kmOzShqqKzhe",
        "outputId": "cf84b965-cac7-44c4-b8c3-0ee341ef009e"
      },
      "execution_count": 10,
      "outputs": [
        {
          "output_type": "execute_result",
          "data": {
            "text/plain": [
              "['alex', 'camila', 'mateus']"
            ]
          },
          "metadata": {},
          "execution_count": 10
        }
      ]
    }
  ]
}
