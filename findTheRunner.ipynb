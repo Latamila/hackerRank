{
  "nbformat": 4,
  "nbformat_minor": 0,
  "metadata": {
    "colab": {
      "provenance": [],
      "authorship_tag": "ABX9TyM7V4WvV4CM3d3n44IjglDI",
      "include_colab_link": true
    },
    "kernelspec": {
      "name": "python3",
      "display_name": "Python 3"
    },
    "language_info": {
      "name": "python"
    }
  },
  "cells": [
    {
      "cell_type": "markdown",
      "metadata": {
        "id": "view-in-github",
        "colab_type": "text"
      },
      "source": [
        "<a href=\"https://colab.research.google.com/github/Latamila/hackerRank/blob/main/findTheRunner.ipynb\" target=\"_parent\"><img src=\"https://colab.research.google.com/assets/colab-badge.svg\" alt=\"Open In Colab\"/></a>"
      ]
    },
    {
      "cell_type": "markdown",
      "source": [
        "Given the participants' score sheet for your University Sports Day, you are required to find the runner-up score. You are given  scores. Store them in a list and find the score of the runner-up.\n",
        "\n",
        "Input Format\n",
        "\n",
        "The first line contains . The second line contains an array   of  integers each separated by a space.\n",
        "\n",
        "Constraints\n",
        "\n",
        "Output Format\n",
        "\n",
        "Print the runner-up score.\n",
        "\n",
        "Sample Input 0\n",
        "\n",
        "## 5\n",
        "2 3 6 6 5\n",
        "## Sample Output 0\n",
        "\n",
        "5\n",
        "##Explanation 0\n",
        "\n",
        "Given list is . The maximum score is , second maximum is . Hence, we print  as the runner-up score."
      ],
      "metadata": {
        "id": "df2upUpr0PUr"
      }
    },
    {
      "cell_type": "code",
      "execution_count": null,
      "metadata": {
        "id": "miYO-wqX0Ov6"
      },
      "outputs": [],
      "source": [
        "if __name__ == '__main__':\n",
        "    n = int(input())\n",
        "    arr = map(int, input().split())\n",
        "    print(sorted(list(set(arr)))[-2]\n",
        ""
      ]
    },
    {
      "cell_type": "markdown",
      "source": [
        "Pensando no código,   map() retorna um objeto map (um iterador), que podemos usar em outras partes do nosso programa. Também podemos passar o objeto map à função list(), ou outro tipo de sequência, para criar um iterável. O objeto map é um iterador sobre nossos resultados, assim poderíamos fazer loop sobre ele com for.Por fim, map() é mais útil ao trabalhar com grandes conjuntos de dados.\n",
        "\n",
        "\n",
        "## print\n",
        "\n",
        "Depois foi declarado um print com os valores organizados de forma crescente(SORTED), em uma lista(LISTA), de elementos únicos(SET). O set em si pode ser modificado mas os elementos nele devem ser do tipo imutavel.\n",
        "\n",
        "Por isso, a execução é feita do parenteses mais interno para o externo. Primeiro se cria o conjunto set para o objeto 'arr'. Isso quer dizer que ele veio somente com números únicos. Depois converto o set para um tipo lista(nao poderia pegar uma lista e transformar em um tipo set pois elementos do tipo lista sao mutáveis). E finalmente, organizo em ordem crescente. O comando print retorna o penultimo número da lista, ou seja, o vice-campeao."
      ],
      "metadata": {
        "id": "b30mf5VZ2FUC"
      }
    }
  ]
}