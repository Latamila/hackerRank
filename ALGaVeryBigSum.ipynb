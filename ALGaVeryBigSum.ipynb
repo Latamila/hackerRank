{
  "nbformat": 4,
  "nbformat_minor": 0,
  "metadata": {
    "colab": {
      "provenance": [],
      "authorship_tag": "ABX9TyPTOsrV0Lj+uFaqZ3KB/W0b",
      "include_colab_link": true
    },
    "kernelspec": {
      "name": "python3",
      "display_name": "Python 3"
    },
    "language_info": {
      "name": "python"
    }
  },
  "cells": [
    {
      "cell_type": "markdown",
      "metadata": {
        "id": "view-in-github",
        "colab_type": "text"
      },
      "source": [
        "<a href=\"https://colab.research.google.com/github/Latamila/hackerRank/blob/main/ALGaVeryBigSum.ipynb\" target=\"_parent\"><img src=\"https://colab.research.google.com/assets/colab-badge.svg\" alt=\"Open In Colab\"/></a>"
      ]
    },
    {
      "cell_type": "code",
      "source": [
        "ar = [1,5,3,6,4]\n",
        "ar_count = 5"
      ],
      "metadata": {
        "id": "TPMKOXVNArWL"
      },
      "execution_count": 1,
      "outputs": []
    },
    {
      "cell_type": "code",
      "execution_count": 3,
      "metadata": {
        "id": "zVC-uARAADl5"
      },
      "outputs": [],
      "source": [
        "def averybigsum(ar):\n",
        "  long = 0\n",
        "\n",
        "  for i in range(ar_count):\n",
        "    long += ar[i]\n",
        "\n",
        "  print(long)"
      ]
    },
    {
      "cell_type": "code",
      "source": [
        "print(averybigsum(ar))"
      ],
      "metadata": {
        "colab": {
          "base_uri": "https://localhost:8080/"
        },
        "id": "TMSIl3jOA13k",
        "outputId": "2142374e-3403-47ce-ffe1-9d6c5feb80c6"
      },
      "execution_count": 4,
      "outputs": [
        {
          "output_type": "stream",
          "name": "stdout",
          "text": [
            "19\n",
            "None\n"
          ]
        }
      ]
    },
    {
      "cell_type": "code",
      "source": [
        "#!/bin/python3\n",
        "\n",
        "import math\n",
        "import os\n",
        "import random\n",
        "import re\n",
        "import sys\n",
        "\n",
        "#\n",
        "# Complete the 'aVeryBigSum' function below.\n",
        "#\n",
        "# The function is expected to return a LONG_INTEGER.\n",
        "# The function accepts LONG_INTEGER_ARRAY ar as parameter.\n",
        "#\n",
        "\n",
        "def aVeryBigSum(ar):\n",
        "    long=0\n",
        "    for i in range(ar_count):\n",
        "        long+=ar[i]\n",
        "\n",
        "    return(long)\n",
        "    # Write your code here\n",
        "\n",
        "if __name__ == '__main__':\n",
        "    fptr = open(os.environ['OUTPUT_PATH'], 'w')\n",
        "\n",
        "    ar_count = int(input().strip())\n",
        "\n",
        "    ar = list(map(int, input().rstrip().split()))\n",
        "\n",
        "    result = aVeryBigSum(ar)\n",
        "\n",
        "    fptr.write(str(result) + '\\n')\n",
        "\n",
        "    fptr.close()"
      ],
      "metadata": {
        "colab": {
          "base_uri": "https://localhost:8080/"
        },
        "id": "O5ehRmwaA6MQ",
        "outputId": "e98443eb-0bf6-497c-ffda-cab59d25a35d"
      },
      "execution_count": 6,
      "outputs": [
        {
          "name": "stdout",
          "output_type": "stream",
          "text": [
            "5\n",
            "1 2 3 4 5\n"
          ]
        }
      ]
    },
    {
      "cell_type": "markdown",
      "source": [
        "#Função aVeryBigSum:\n",
        "\n",
        "Define uma função chamada aVeryBigSum que recebe uma lista ar como parâmetro.\n",
        "\n",
        "Inicializa uma variável long em 0 para armazenar a soma dos elementos.\n",
        "\n",
        "Usa um loop for para percorrer todos os elementos da lista ar e soma cada elemento à variável long.\n",
        "\n",
        "Retorna o valor final de long.\n",
        "\n",
        "Bloco Main (`if name == 'main':):\n",
        "\n",
        "Abre um arquivo para gravação usando o caminho especificado em os.environ['OUTPUT_PATH']. Nota: Este trecho de código assume que há uma variável de ambiente chamada OUTPUT_PATH configurada para o caminho do arquivo de saída.\n",
        "\n",
        "Lê um número inteiro ar_count do usuário, que representa o tamanho da lista.\n",
        "\n",
        "Lê a lista de inteiros ar do usuário usando a função input() e converte os elementos para inteiros usando map(int, ...).\n",
        "\n",
        "Chama a função aVeryBigSum com a lista ar e armazena o resultado em result.\n",
        "\n",
        "Escreve o resultado no arquivo de saída convertendo-o para string.\n",
        "\n",
        "Fecha o arquivo de saída."
      ],
      "metadata": {
        "id": "MYMS-LK5B2AI"
      }
    },
    {
      "cell_type": "code",
      "source": [],
      "metadata": {
        "id": "RsGwcxHiDkrF"
      },
      "execution_count": null,
      "outputs": []
    },
    {
      "cell_type": "code",
      "source": [],
      "metadata": {
        "id": "myZW36eIBT3z"
      },
      "execution_count": null,
      "outputs": []
    }
  ]
}