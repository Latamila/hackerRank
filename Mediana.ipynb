{
  "nbformat": 4,
  "nbformat_minor": 0,
  "metadata": {
    "colab": {
      "provenance": [],
      "authorship_tag": "ABX9TyPTZeVj9affvo25wAbbRHhL",
      "include_colab_link": true
    },
    "kernelspec": {
      "name": "python3",
      "display_name": "Python 3"
    },
    "language_info": {
      "name": "python"
    }
  },
  "cells": [
    {
      "cell_type": "markdown",
      "metadata": {
        "id": "view-in-github",
        "colab_type": "text"
      },
      "source": [
        "<a href=\"https://colab.research.google.com/github/Latamila/hackerRank/blob/main/Mediana.ipynb\" target=\"_parent\"><img src=\"https://colab.research.google.com/assets/colab-badge.svg\" alt=\"Open In Colab\"/></a>"
      ]
    },
    {
      "cell_type": "markdown",
      "source": [
        "##MEDIANA\n",
        "\n",
        "Este código ordena o array e, em seguida, calcula a mediana com base no comprimento do array. Se o comprimento for ímpar, a mediana é o elemento do meio. Se o comprimento for par, a mediana é a média dos dois elementos do meio. Essa abordagem é eficaz para arrays não classificados e funciona para arrays de qualquer tamanho."
      ],
      "metadata": {
        "id": "xNW-CkczZvqk"
      }
    },
    {
      "cell_type": "code",
      "source": [
        "import random\n",
        "arr = [random.randint(0,99) for _ in range(100)] # tenho que colocar dentro de\n",
        "#lista e complementar com 'for _ in range(tamanho de lista)\n",
        "#para vir uma lista de tamanho desejado\n",
        "print(arr)"
      ],
      "metadata": {
        "colab": {
          "base_uri": "https://localhost:8080/"
        },
        "id": "4fd6X3sKZ-hA",
        "outputId": "dc69f46e-a3b9-4efc-afed-cb93671a5cc3"
      },
      "execution_count": 6,
      "outputs": [
        {
          "output_type": "stream",
          "name": "stdout",
          "text": [
            "[30, 4, 63, 25, 60, 24, 41, 94, 97, 27, 19, 88, 31, 34, 92, 78, 66, 51, 77, 59, 37, 95, 71, 72, 34, 40, 9, 57, 91, 10, 8, 77, 3, 75, 5, 83, 52, 86, 20, 72, 80, 11, 44, 37, 71, 23, 20, 61, 72, 54, 67, 79, 65, 23, 81, 49, 65, 87, 72, 58, 85, 91, 8, 15, 70, 85, 9, 55, 51, 32, 15, 18, 57, 14, 19, 22, 78, 78, 67, 9, 97, 35, 75, 9, 72, 57, 77, 87, 29, 8, 34, 94, 86, 95, 3, 53, 5, 60, 70, 37]\n"
          ]
        }
      ]
    },
    {
      "cell_type": "code",
      "execution_count": 7,
      "metadata": {
        "colab": {
          "base_uri": "https://localhost:8080/"
        },
        "id": "B7D0HiqdZe5s",
        "outputId": "b8e35553-1804-444a-eb4a-076232b71791"
      },
      "outputs": [
        {
          "output_type": "stream",
          "name": "stdout",
          "text": [
            "[3, 3, 4, 5, 5, 8, 8, 8, 9, 9, 9, 9, 10, 11, 14, 15, 15, 18, 19, 19, 20, 20, 22, 23, 23, 24, 25, 27, 29, 30, 31, 32, 34, 34, 34, 35, 37, 37, 37, 40, 41, 44, 49, 51, 51, 52, 53, 54, 55, 57, 57, 57, 58, 59, 60, 60, 61, 63, 65, 65, 66, 67, 67, 70, 70, 71, 71, 72, 72, 72, 72, 72, 75, 75, 77, 77, 77, 78, 78, 78, 79, 80, 81, 83, 85, 85, 86, 86, 87, 87, 88, 91, 91, 92, 94, 94, 95, 95, 97, 97]\n"
          ]
        }
      ],
      "source": [
        "array_ordenado = sorted(arr)\n",
        "print(array_ordenado)"
      ]
    },
    {
      "cell_type": "code",
      "source": [
        "#obtem comprimento do array\n",
        "n = len(arr)\n",
        "print(len(arr))"
      ],
      "metadata": {
        "colab": {
          "base_uri": "https://localhost:8080/"
        },
        "id": "59EG9VX1aqwe",
        "outputId": "b2e47f53-1d78-4ec8-dbab-44d93f547d6f"
      },
      "execution_count": 8,
      "outputs": [
        {
          "output_type": "stream",
          "name": "stdout",
          "text": [
            "100\n"
          ]
        }
      ]
    },
    {
      "cell_type": "code",
      "source": [
        "#verifica se o comprimento é impar ou par\n",
        "if n % 2 == 1:\n",
        "  #se for impar, a mediana é o elemento do meio\n",
        "  mediana = array_ordenado[n // 2]#tem que colocar colchetes pq\n",
        "  #pegar o valor do tamanho da lista e dividir por 2 e encontrar\n",
        "  #o valor para ser o index a ser armazenado em mediana\n",
        "else:\n",
        "  #se for par, a mediana é a media dos dois elementos do meio\n",
        "  meio_superior = n // 2 #calculo igual para tamanho de lista impar\n",
        "  meio_inferior = meio_superior - 1\n",
        "  #encontrar o meio da tamanho e pegue o numero imediatamente\n",
        "  #antes\n",
        "  mediana = (array_ordenado[meio_inferior] + array_ordenado[meio_superior]) / 2\n",
        "  #nao esqueca que a divisao deve estar fora do parenteses e meio_superior\n",
        "  #e meio inferior são valores que buscam o index e vao retornar os valores\n",
        "  #armazenados ali.\n",
        "print(mediana)\n"
      ],
      "metadata": {
        "colab": {
          "base_uri": "https://localhost:8080/"
        },
        "id": "qHQAmItDa425",
        "outputId": "0c709eb5-1ada-4d4f-cece-33c3d1bb2098"
      },
      "execution_count": 10,
      "outputs": [
        {
          "output_type": "stream",
          "name": "stdout",
          "text": [
            "57.0\n"
          ]
        }
      ]
    },
    {
      "cell_type": "code",
      "source": [
        "def encontrar_mediana(arr):\n",
        "  array_ordenado = sorted(arr)\n",
        "  n = len(array_ordenado)\n",
        "  if n % 2 == 1:\n",
        "    mediana = array_ordenado[n // 2]\n",
        "  else:\n",
        "    meio_superior = n // 2\n",
        "    meio_inferior = meio_superior - 1\n",
        "    mediana = (array_ordenado[meio_inferior] + array_ordenado[meio_superior]) / 2\n",
        "\n",
        "  return mediana"
      ],
      "metadata": {
        "id": "gw7JaWEUbcS9"
      },
      "execution_count": 25,
      "outputs": []
    },
    {
      "cell_type": "markdown",
      "source": [
        "##TESTES\n"
      ],
      "metadata": {
        "id": "9sw0UVHudu_r"
      }
    },
    {
      "cell_type": "code",
      "source": [
        "arr = [random.randint(0,99) for _ in range(101)]"
      ],
      "metadata": {
        "id": "Szw19Y3EdxLT"
      },
      "execution_count": 26,
      "outputs": []
    },
    {
      "cell_type": "code",
      "source": [
        "encontrar_mediana(arr)"
      ],
      "metadata": {
        "colab": {
          "base_uri": "https://localhost:8080/"
        },
        "id": "PuTqlBeBdqJt",
        "outputId": "2c7ab65f-4fd9-4c41-cc7c-a5b4b1ea6be7"
      },
      "execution_count": 27,
      "outputs": [
        {
          "output_type": "execute_result",
          "data": {
            "text/plain": [
              "57"
            ]
          },
          "metadata": {},
          "execution_count": 27
        }
      ]
    },
    {
      "cell_type": "code",
      "source": [
        "arr = [random.randint(0,99) for _ in range(20)]\n",
        "print(arr)\n",
        "print(sorted(arr))"
      ],
      "metadata": {
        "colab": {
          "base_uri": "https://localhost:8080/"
        },
        "id": "P_JY-90Bd4VF",
        "outputId": "e2beb836-8c11-467a-d582-35041258aac8"
      },
      "execution_count": 33,
      "outputs": [
        {
          "output_type": "stream",
          "name": "stdout",
          "text": [
            "[99, 65, 27, 33, 73, 80, 95, 78, 40, 76, 12, 46, 1, 79, 44, 99, 55, 12, 26, 73]\n",
            "[1, 12, 12, 26, 27, 33, 40, 44, 46, 55, 65, 73, 73, 76, 78, 79, 80, 95, 99, 99]\n"
          ]
        }
      ]
    },
    {
      "cell_type": "code",
      "source": [
        "encontrar_mediana(arr)"
      ],
      "metadata": {
        "colab": {
          "base_uri": "https://localhost:8080/"
        },
        "id": "XOOwUWTwd1o5",
        "outputId": "939445ea-c840-431f-a1f9-4d02bb3a6721"
      },
      "execution_count": 34,
      "outputs": [
        {
          "output_type": "execute_result",
          "data": {
            "text/plain": [
              "60.0"
            ]
          },
          "metadata": {},
          "execution_count": 34
        }
      ]
    },
    {
      "cell_type": "code",
      "source": [
        "arr = [random.randint(0,99) for _ in range(17)]\n",
        "print(arr)\n",
        "print(sorted(arr))\n",
        "encontrar_mediana(arr)"
      ],
      "metadata": {
        "colab": {
          "base_uri": "https://localhost:8080/"
        },
        "id": "OnbRJk91e6oc",
        "outputId": "995be86f-e861-437f-da04-45c5fdc88285"
      },
      "execution_count": 35,
      "outputs": [
        {
          "output_type": "stream",
          "name": "stdout",
          "text": [
            "[64, 13, 67, 28, 97, 12, 2, 50, 60, 1, 3, 8, 72, 14, 55, 45, 65]\n",
            "[1, 2, 3, 8, 12, 13, 14, 28, 45, 50, 55, 60, 64, 65, 67, 72, 97]\n"
          ]
        },
        {
          "output_type": "execute_result",
          "data": {
            "text/plain": [
              "45"
            ]
          },
          "metadata": {},
          "execution_count": 35
        }
      ]
    },
    {
      "cell_type": "code",
      "source": [
        "arr = [random.randint(0,99) for _ in range(30)]\n",
        "print(arr)\n",
        "print(sorted(arr))\n",
        "encontrar_mediana(arr)\n"
      ],
      "metadata": {
        "colab": {
          "base_uri": "https://localhost:8080/"
        },
        "id": "By1b_QKXfjxh",
        "outputId": "3c90cc8c-671a-4cbf-ddf9-1bfae5caa3a6"
      },
      "execution_count": 37,
      "outputs": [
        {
          "output_type": "stream",
          "name": "stdout",
          "text": [
            "[10, 27, 49, 94, 38, 72, 26, 97, 67, 45, 5, 15, 49, 66, 49, 21, 63, 87, 8, 89, 51, 34, 47, 9, 97, 13, 80, 67, 3, 53]\n",
            "[3, 5, 8, 9, 10, 13, 15, 21, 26, 27, 34, 38, 45, 47, 49, 49, 49, 51, 53, 63, 66, 67, 67, 72, 80, 87, 89, 94, 97, 97]\n"
          ]
        },
        {
          "output_type": "execute_result",
          "data": {
            "text/plain": [
              "49.0"
            ]
          },
          "metadata": {},
          "execution_count": 37
        }
      ]
    },
    {
      "cell_type": "code",
      "source": [],
      "metadata": {
        "id": "uQqpxoQ4fsM7"
      },
      "execution_count": null,
      "outputs": []
    }
  ]
}