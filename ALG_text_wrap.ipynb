{
  "nbformat": 4,
  "nbformat_minor": 0,
  "metadata": {
    "colab": {
      "provenance": [],
      "authorship_tag": "ABX9TyOmTTRrLH0TT40J3OukT52v",
      "include_colab_link": true
    },
    "kernelspec": {
      "name": "python3",
      "display_name": "Python 3"
    },
    "language_info": {
      "name": "python"
    }
  },
  "cells": [
    {
      "cell_type": "markdown",
      "metadata": {
        "id": "view-in-github",
        "colab_type": "text"
      },
      "source": [
        "<a href=\"https://colab.research.google.com/github/Latamila/hackerRank/blob/main/ALG_text_wrap.ipynb\" target=\"_parent\"><img src=\"https://colab.research.google.com/assets/colab-badge.svg\" alt=\"Open In Colab\"/></a>"
      ]
    },
    {
      "cell_type": "code",
      "execution_count": 23,
      "metadata": {
        "id": "eQgsq_g0PUlS"
      },
      "outputs": [],
      "source": [
        "string = 'ABCDEFGHIJKLIMNOPQRSTUVWXYZ'\n",
        "max_width= 4"
      ]
    },
    {
      "cell_type": "markdown",
      "source": [
        "#Uma maneira de fazer slice"
      ],
      "metadata": {
        "id": "qNNlf6t4TLCJ"
      }
    },
    {
      "cell_type": "code",
      "source": [
        "# prompt: função para recortar a string de 4 em 4 caracteres e retornar uma string simples com newline onde a quebra é \\n\n",
        "\n",
        "def slice_string(string, max_width):\n",
        "  result = ''\n",
        "  for i in range(0, len(string), max_width):\n",
        "    result += string[i:i+max_width] + '\\n'\n",
        "  return result\n",
        "\n",
        "print(slice_string(string, max_width))\n"
      ],
      "metadata": {
        "colab": {
          "base_uri": "https://localhost:8080/"
        },
        "id": "Ig7gr405Pgzt",
        "outputId": "2632bb94-09ec-49ac-d8d6-a6e04a72348f"
      },
      "execution_count": 24,
      "outputs": [
        {
          "output_type": "stream",
          "name": "stdout",
          "text": [
            "ABCD\n",
            "EFGH\n",
            "IJKL\n",
            "IMNO\n",
            "PQRS\n",
            "TUVW\n",
            "XYZ\n",
            "\n"
          ]
        }
      ]
    },
    {
      "cell_type": "code",
      "source": [
        "import textwrap\n",
        "\n",
        "def wrap(string, max_width):\n",
        "  result = ''\n",
        "  for i in range(0, len(string), max_width):\n",
        "    result += string[i:i+max_width] + '\\n'\n",
        "  return result\n",
        "\n",
        "if __name__ == '__main__':\n",
        "    string, max_width = input(), int(input())\n",
        "    result = wrap(string, max_width)\n",
        "    print(result)\n",
        "\n"
      ],
      "metadata": {
        "colab": {
          "base_uri": "https://localhost:8080/"
        },
        "id": "y6hMtGuaPmcc",
        "outputId": "af386fc4-c9b4-4f47-85f4-cc43dea8730f"
      },
      "execution_count": 22,
      "outputs": [
        {
          "output_type": "stream",
          "name": "stdout",
          "text": [
            "abfhhwkwmnddhrrhrks\n",
            "4\n",
            "abfh\n",
            "hwkw\n",
            "mndd\n",
            "hrrh\n",
            "rks\n",
            "\n"
          ]
        }
      ]
    },
    {
      "cell_type": "markdown",
      "source": [
        "* *for i in range(0, len(string), max_width): Isso cria um loop que itera sobre os índices de início de cada substring na string original, com incrementos de max_width.*\n",
        "\n",
        "* *result += string[i:i+max_width] + '\\n': Para cada iteração do loop, esta linha adiciona a substring correspondente ao intervalo [i:i+max_width] da string original à variável result. Além disso, é acrescentado um caractere de quebra de linha ('\\n') ao final de cada substring.*\n",
        "\n",
        "* *O resultado final é uma string quebrada em substrings de tamanho máximo max_width, cada uma terminando com uma quebra de linha.*\n",
        "\n"
      ],
      "metadata": {
        "id": "QiSPdxAwVTej"
      }
    },
    {
      "cell_type": "code",
      "source": [],
      "metadata": {
        "id": "2cBzrU6rR7T-"
      },
      "execution_count": null,
      "outputs": []
    }
  ]
}