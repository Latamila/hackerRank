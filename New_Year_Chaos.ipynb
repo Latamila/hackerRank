{
  "nbformat": 4,
  "nbformat_minor": 0,
  "metadata": {
    "colab": {
      "provenance": [],
      "authorship_tag": "ABX9TyPW2eutOEDpbGN3nu5dnis/",
      "include_colab_link": true
    },
    "kernelspec": {
      "name": "python3",
      "display_name": "Python 3"
    },
    "language_info": {
      "name": "python"
    }
  },
  "cells": [
    {
      "cell_type": "markdown",
      "metadata": {
        "id": "view-in-github",
        "colab_type": "text"
      },
      "source": [
        "<a href=\"https://colab.research.google.com/github/Latamila/hackerRank/blob/main/New_Year_Chaos.ipynb\" target=\"_parent\"><img src=\"https://colab.research.google.com/assets/colab-badge.svg\" alt=\"Open In Colab\"/></a>"
      ]
    },
    {
      "cell_type": "markdown",
      "source": [
        "É dia de Ano Novo e as pessoas estão na fila para o passeio na montanha-russa do País das Maravilhas. Cada pessoa usa um adesivo indicando sua posição inicial na fila depara. Qualquer pessoa pode subornar a pessoa que está diretamente à sua frente para trocar de posição, mas ela ainda usa o adesivo original. Uma pessoa pode subornar no máximo duas outras .\n",
        "\n",
        "\n",
        "Determine o número mínimo de subornos que ocorreram para chegar a uma determinada ordem de fila. Imprima o número de subornos ou, se alguém tiver subornado mais de duas pessoas, imprima Too chaotic."
      ],
      "metadata": {
        "id": "Ua7rcCt9WfaN"
      }
    },
    {
      "cell_type": "markdown",
      "source": [
        "Descrição da função\n",
        "\n",
        "Complete a função mínimoBribes no editor abaixo.\n",
        "\n",
        "mínimoBribes tem os seguintes parâmetros:\n",
        "\n",
        "- int q[n] : as posições das pessoas depois de todos os subornos\n",
        "\n",
        "Devoluções\n",
        "\n",
        "- Nenhum valor é retornado. Imprima o número mínimo de subornos necessários ou Too chaoticse alguém subornou mais depessoas."
      ],
      "metadata": {
        "id": "wQ8C44UkXczp"
      }
    },
    {
      "cell_type": "markdown",
      "source": [
        "A primeira linha contém um inteiro, o número de casos de teste.\n",
        "\n",
        "Cada um dos próximos pares de linhas são os seguintes:\n",
        "- A primeira linha contém um número inteiro, o número de pessoas na fila\n",
        "\n",
        "- A segunda linha tem inteiros separados por espaço que descrevem o estado final da fila."
      ],
      "metadata": {
        "id": "LBghw2NNYAih"
      }
    },
    {
      "cell_type": "code",
      "source": [
        "def minimumBribes(q):\n",
        "    bribes = 0\n",
        "    for i in range(len(q)-1, -1, -1):\n",
        "        if q[i] - (i + 1) > 2:\n",
        "            print('Too chaotic')\n",
        "            return\n",
        "        for j in range(max(0, q[i] - 2), i):\n",
        "            if q[j] > q[i]:\n",
        "                bribes += 1\n",
        "    print(bribes)\n"
      ],
      "metadata": {
        "id": "UI8ujPU4YPpH"
      },
      "execution_count": null,
      "outputs": []
    },
    {
      "cell_type": "markdown",
      "source": [
        "O código que você forneceu parece ser uma implementação da resolução do problema de encontrar o número mínimo de subornos necessários para organizar uma fila caótica de pessoas. Vou explicar o código passo a passo:\n",
        "\n",
        "```python\n",
        "def minimumBribes(q):\n",
        "    bribes = 0\n",
        "    for i in range(len(q)-1, -1, -1):\n",
        "        if q[i] - (i + 1) > 2:\n",
        "            print('Too chaotic')\n",
        "            return\n",
        "        for j in range(max(0, q[i] - 2), i):\n",
        "            if q[j] > q[i]:\n",
        "                bribes += 1\n",
        "    print(bribes)\n",
        "```\n",
        "\n",
        "### Função `minimumBribes(q)`\n",
        "\n",
        "- `bribes = 0`: Inicializa a variável `bribes` que será usada para contar o número de subornos.\n",
        "\n",
        "- `for i in range(len(q)-1, -1, -1)`: Itera sobre a lista `q` de trás para frente.\n",
        "\n",
        "- `if q[i] - (i + 1) > 2:`: Verifica se a diferença entre a posição atual `q[i]` e a posição esperada `(i + 1)` é maior que 2. Se for, imprime 'Too chaotic' e encerra a função. Isso ocorre quando alguém recebe mais de dois subornos.\n",
        "\n",
        "- `for j in range(max(0, q[i] - 2), i):`: Itera sobre os elementos à esquerda da posição `i` com um limite inferior de `max(0, q[i] - 2)` para garantir que não ultrapasse a posição 0.\n",
        "\n",
        "- `if q[j] > q[i]:`: Verifica se algum elemento à esquerda é maior que o elemento na posição atual. Se sim, incrementa `bribes` porque alguém foi subornado.\n",
        "\n",
        "- `print(bribes)`: Imprime o número total de subornos após percorrer toda a lista.\n",
        "\n",
        "### Exemplo de uso:\n",
        "\n",
        "```python\n",
        "q = [2, 1, 5, 3, 4]\n",
        "minimumBribes(q)\n",
        "```\n",
        "\n",
        "No exemplo acima, a função verifica o número mínimo de subornos necessários para organizar a fila representada pela lista `q`. O resultado é impresso como a saída. Se o número de subornos for maior que 2 para qualquer pessoa, imprime 'Too chaotic'.\n",
        "\n",
        "Esse tipo de problema é comumente encontrado em entrevistas técnicas e é uma variação do problema de ordenação. Ele verifica se a fila está organizada e, se não estiver, calcula o número mínimo de subornos necessários para organizá-la."
      ],
      "metadata": {
        "id": "s75dONH4abVB"
      }
    },
    {
      "cell_type": "code",
      "source": [],
      "metadata": {
        "id": "XuEtzQBgaf8H"
      },
      "execution_count": null,
      "outputs": []
    }
  ]
}