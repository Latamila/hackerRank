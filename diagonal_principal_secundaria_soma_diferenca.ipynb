{
  "nbformat": 4,
  "nbformat_minor": 0,
  "metadata": {
    "colab": {
      "provenance": [],
      "authorship_tag": "ABX9TyMNLuqmczJo0Lg+uSoGZ8fd",
      "include_colab_link": true
    },
    "kernelspec": {
      "name": "python3",
      "display_name": "Python 3"
    },
    "language_info": {
      "name": "python"
    }
  },
  "cells": [
    {
      "cell_type": "markdown",
      "metadata": {
        "id": "view-in-github",
        "colab_type": "text"
      },
      "source": [
        "<a href=\"https://colab.research.google.com/github/Latamila/hackerRank/blob/main/ALGDiagonalDifference.ipynb\" target=\"_parent\"><img src=\"https://colab.research.google.com/assets/colab-badge.svg\" alt=\"Open In Colab\"/></a>"
      ]
    },
    {
      "cell_type": "markdown",
      "source": [
        "#FAZENDO SUBLISTAS\n"
      ],
      "metadata": {
        "id": "ftllbn6tFaHv"
      }
    },
    {
      "cell_type": "code",
      "source": [
        "ar = (5,3,6,9,8,4,5,1,7)"
      ],
      "metadata": {
        "id": "-GZ2qTobT0x9"
      },
      "execution_count": 49,
      "outputs": []
    },
    {
      "cell_type": "code",
      "source": [
        "n = 3\n",
        "pedaco1 = ar[n*0:n*1]\n",
        "print(pedaco1)\n",
        "pedaco2 = ar[n*1:n*2]\n",
        "print(pedaco2)\n",
        "pedaco3 = ar[n*2:n*3]\n",
        "print(pedaco3)\n",
        "pedaco4 = ar[n*3:n*4]\n",
        "print(pedaco4)"
      ],
      "metadata": {
        "colab": {
          "base_uri": "https://localhost:8080/"
        },
        "id": "ba5WTNE2Ddb5",
        "outputId": "1de11a5d-f716-439a-83a6-0bd9cec864db"
      },
      "execution_count": 50,
      "outputs": [
        {
          "output_type": "stream",
          "name": "stdout",
          "text": [
            "(5, 3, 6)\n",
            "(9, 8, 4)\n",
            "(5, 1, 7)\n",
            "()\n"
          ]
        }
      ]
    },
    {
      "cell_type": "code",
      "source": [
        "ar ='5 3 6 9 8 4 5 1 7'"
      ],
      "metadata": {
        "id": "t6jQIBjAgQvF"
      },
      "execution_count": 56,
      "outputs": []
    },
    {
      "cell_type": "code",
      "source": [
        "arr = []\n",
        "\n",
        "arr.append(list(map(int, ar.rstrip().split())))\n",
        "\n",
        "print(arr)"
      ],
      "metadata": {
        "colab": {
          "base_uri": "https://localhost:8080/"
        },
        "id": "x-t5wDw2c_WR",
        "outputId": "c547c5a1-e442-4f42-98ce-d6fa2ad1fecf"
      },
      "execution_count": 57,
      "outputs": [
        {
          "output_type": "stream",
          "name": "stdout",
          "text": [
            "[[5, 3, 6, 9, 8, 4, 5, 1, 7]]\n"
          ]
        }
      ]
    },
    {
      "cell_type": "code",
      "source": [
        "ar = arr"
      ],
      "metadata": {
        "id": "KazO0q9neDXc"
      },
      "execution_count": 58,
      "outputs": []
    },
    {
      "cell_type": "code",
      "source": [
        "print(ar)"
      ],
      "metadata": {
        "colab": {
          "base_uri": "https://localhost:8080/"
        },
        "id": "ANZnimlSehZ-",
        "outputId": "bcbe9f1f-dfa8-4581-ec2c-2b497706a506"
      },
      "execution_count": 45,
      "outputs": [
        {
          "output_type": "stream",
          "name": "stdout",
          "text": [
            "[[5, 3, 6, 9, 8, 4, 5, 1, 7]]\n"
          ]
        }
      ]
    },
    {
      "cell_type": "code",
      "source": [
        "lista = []\n",
        "lista.append(pedaco1)\n",
        "lista.append(pedaco2)\n",
        "lista.append(pedaco3)\n"
      ],
      "metadata": {
        "id": "rhNRVguecc3o"
      },
      "execution_count": 51,
      "outputs": []
    },
    {
      "cell_type": "code",
      "source": [
        "print(lista)"
      ],
      "metadata": {
        "colab": {
          "base_uri": "https://localhost:8080/"
        },
        "id": "IgvgAVtsYdI9",
        "outputId": "38905d04-06fe-4fda-fbe9-48504cbfd404"
      },
      "execution_count": 52,
      "outputs": [
        {
          "output_type": "stream",
          "name": "stdout",
          "text": [
            "[(5, 3, 6), (9, 8, 4), (5, 1, 7)]\n"
          ]
        }
      ]
    },
    {
      "cell_type": "code",
      "source": [
        "d1 = sum([lista[x][x] for x in range(len(lista))])"
      ],
      "metadata": {
        "id": "1Ip37mnafImE"
      },
      "execution_count": 53,
      "outputs": []
    },
    {
      "cell_type": "code",
      "source": [
        "print(d1)"
      ],
      "metadata": {
        "colab": {
          "base_uri": "https://localhost:8080/"
        },
        "id": "fJ4qnnhCfNwZ",
        "outputId": "15221a88-d804-4f1f-ea08-f8d846f25f75"
      },
      "execution_count": 54,
      "outputs": [
        {
          "output_type": "stream",
          "name": "stdout",
          "text": [
            "20\n"
          ]
        }
      ]
    },
    {
      "cell_type": "code",
      "source": [
        "d2 = sum([lista[x][n - 1 - x] for x in range(len(lista))])\n",
        "print(d2)"
      ],
      "metadata": {
        "colab": {
          "base_uri": "https://localhost:8080/"
        },
        "id": "-EHnh_jTcDnW",
        "outputId": "f336a149-8b7c-4ba4-a8b8-39acd69d3403"
      },
      "execution_count": 55,
      "outputs": [
        {
          "output_type": "stream",
          "name": "stdout",
          "text": [
            "19\n"
          ]
        }
      ]
    },
    {
      "cell_type": "code",
      "source": [
        "d1 = sum([lista[x][x] for x in range(len(lista))])\n",
        "d2 = sum([lista[x][n - 1 - x] for x in range(len(lista))])\n",
        "print(abs(d1 - d2))\n",
        "\n",
        "print(d1)\n",
        "print(d2)"
      ],
      "metadata": {
        "colab": {
          "base_uri": "https://localhost:8080/"
        },
        "id": "E31BaipFYA9H",
        "outputId": "e3c49501-2090-421e-84db-f5c3722a8548"
      },
      "execution_count": 59,
      "outputs": [
        {
          "output_type": "stream",
          "name": "stdout",
          "text": [
            "1\n",
            "20\n",
            "19\n"
          ]
        }
      ]
    },
    {
      "cell_type": "code",
      "source": [
        "def diagonalDifference(arr):\n",
        "    d1 = sum([arr[x][x] for x in range(len(arr))])\n",
        "    d2 = sum([arr[x][n - 1 - x] for x in range(len(arr))])\n",
        "    return(abs(d1 - d2))\n",
        "    # Write your code here\n",
        "\n",
        "if __name__ == '__main__':\n",
        "    fptr = open(os.environ['OUTPUT_PATH'], 'w')\n",
        "\n",
        "    n = int(input().strip())\n",
        "\n",
        "    arr = []\n",
        "\n",
        "    for _ in range(n):\n",
        "        arr.append(list(map(int, input().rstrip().split())))\n",
        "\n",
        "    result = diagonalDifference(arr)\n",
        "\n",
        "    fptr.write(str(result) + '\\n')\n",
        "\n",
        "    fptr.close()\n"
      ],
      "metadata": {
        "id": "-N3N4DkmR4fs"
      },
      "execution_count": null,
      "outputs": []
    },
    {
      "cell_type": "markdown",
      "source": [
        "#Função diagonalDifference:\n",
        "\n",
        "Define uma função chamada diagonalDifference que recebe uma matriz quadrada arr como parâmetro.\n",
        "Calcula a soma dos elementos na diagonal principal (d1) usando uma list comprehension e a função sum.\n",
        "Calcula a soma dos elementos na diagonal secundária (d2) usando outra list comprehension e a função sum.\n",
        "Retorna a diferença absoluta entre d1 e d2."
      ],
      "metadata": {
        "id": "cXqZJIcFRhxn"
      }
    },
    {
      "cell_type": "markdown",
      "source": [
        "#Portanto, [x][n - 1 - x]\n",
        "\n",
        "representa a posição na matriz onde a linha é x e a coluna é determinada pelo último índice menos x.\n",
        "\n",
        "Em outras palavras, isso corresponde aos elementos na diagonal secundária de uma matriz quadrada, onde a posição da coluna é espelhada em relação à diagonal principal.\n",
        "\n",
        "\n",
        "\n",
        "\n",
        "\n"
      ],
      "metadata": {
        "id": "0jvG0UL1Vo56"
      }
    }
  ]
}
