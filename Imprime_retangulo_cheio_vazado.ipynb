{
  "nbformat": 4,
  "nbformat_minor": 0,
  "metadata": {
    "colab": {
      "provenance": [],
      "authorship_tag": "ABX9TyP47IFcBjbxL6k4ZCgqP+Bp",
      "include_colab_link": true
    },
    "kernelspec": {
      "name": "python3",
      "display_name": "Python 3"
    },
    "language_info": {
      "name": "python"
    }
  },
  "cells": [
    {
      "cell_type": "markdown",
      "metadata": {
        "id": "view-in-github",
        "colab_type": "text"
      },
      "source": [
        "<a href=\"https://colab.research.google.com/github/Latamila/hackerRank/blob/main/Imprime_retangulo_cheio_vazado.ipynb\" target=\"_parent\"><img src=\"https://colab.research.google.com/assets/colab-badge.svg\" alt=\"Open In Colab\"/></a>"
      ]
    },
    {
      "cell_type": "code",
      "execution_count": 13,
      "metadata": {
        "colab": {
          "base_uri": "https://localhost:8080/"
        },
        "id": "dS6EmSeUsow-",
        "outputId": "ba50d7b2-c883-4e2a-f092-c3b8b12d6e66"
      },
      "outputs": [
        {
          "output_type": "stream",
          "name": "stdout",
          "text": [
            "digite a largura: 5\n",
            "digite a altura: 15\n",
            "#####\n",
            "#####\n",
            "#####\n",
            "#####\n",
            "#####\n",
            "#####\n",
            "#####\n",
            "#####\n",
            "#####\n",
            "#####\n",
            "#####\n",
            "#####\n",
            "#####\n",
            "#####\n",
            "#####\n"
          ]
        }
      ],
      "source": [
        "l = int(input('digite a largura: '))\n",
        "a = int(input('digite a altura: '))\n",
        "x = 0\n",
        "\n",
        "while x < a:\n",
        "  print('#'* l)\n",
        "  x=x+1\n",
        ""
      ]
    },
    {
      "cell_type": "code",
      "source": [
        "l = int(input('digite a largura: '))\n",
        "a = int(input('digite a altura: '))\n",
        "x = 0\n",
        "\n",
        "\n",
        "while x < a:\n",
        "  for i in range(a):\n",
        "    if i == 0 or i == (a-1):\n",
        "      print('#'*l)\n",
        "    else:\n",
        "      print('#'+' '*(l-2)+'#')\n",
        "    x = x + 1\n"
      ],
      "metadata": {
        "colab": {
          "base_uri": "https://localhost:8080/"
        },
        "id": "M7elynSct7DW",
        "outputId": "e6780176-1ea5-4545-9816-daa96f254f28"
      },
      "execution_count": 22,
      "outputs": [
        {
          "output_type": "stream",
          "name": "stdout",
          "text": [
            "digite a largura: 5\n",
            "digite a altura: 10\n",
            "#####\n",
            "#   #\n",
            "#   #\n",
            "#   #\n",
            "#   #\n",
            "#   #\n",
            "#   #\n",
            "#   #\n",
            "#   #\n",
            "#####\n"
          ]
        }
      ]
    }
  ]
}