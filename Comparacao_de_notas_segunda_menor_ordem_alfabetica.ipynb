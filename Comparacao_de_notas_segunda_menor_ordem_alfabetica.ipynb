{
  "nbformat": 4,
  "nbformat_minor": 0,
  "metadata": {
    "colab": {
      "provenance": [],
      "authorship_tag": "ABX9TyP8Mp/9Ny2NNunLTRdwTCiL",
      "include_colab_link": true
    },
    "kernelspec": {
      "name": "python3",
      "display_name": "Python 3"
    },
    "language_info": {
      "name": "python"
    }
  },
  "cells": [
    {
      "cell_type": "markdown",
      "metadata": {
        "id": "view-in-github",
        "colab_type": "text"
      },
      "source": [
        "<a href=\"https://colab.research.google.com/github/Latamila/hackerRank/blob/main/nestedList.ipynb\" target=\"_parent\"><img src=\"https://colab.research.google.com/assets/colab-badge.svg\" alt=\"Open In Colab\"/></a>"
      ]
    },
    {
      "cell_type": "markdown",
      "source": [
        "Given the names and grades for each student in a class of  students, store them in a nested list and print the name(s) of any student(s) having the second lowest grade.\n",
        "\n",
        "**Note**: If there are multiple students with the second lowest grade, order their names alphabetically and print each name on a new line.\n",
        "\n",
        "##Example\n",
        "\n",
        "The ordered list of scores is , so the second lowest score is . There are two students with that score: . Ordered alphabetically, the names are printed as:\n",
        "\n",
        "alpha\n",
        "beta\n",
        "\n",
        "##Input Format\n",
        "\n",
        "The first line contains an integer, , the number of students.\n",
        "The  subsequent lines describe each student over  lines.\n",
        "- The first line contains a student's name.\n",
        "- The second line contains their grade.\n",
        "\n",
        "#Constraints\n",
        "\n",
        "There will always be one or more students having the second lowest grade.\n",
        "Output Format\n",
        "\n",
        "Print the name(s) of any student(s) having the second lowest grade in. If there are multiple students, order their names alphabetically and print each one on a new line.\n",
        "\n",
        "#Sample Input 0\n",
        "\n",
        "5\n",
        "Harry\n",
        "37.21\n",
        "Berry\n",
        "37.21\n",
        "Tina\n",
        "37.2\n",
        "Akriti\n",
        "41\n",
        "Harsh\n",
        "39\n",
        "#Sample Output 0\n",
        "\n",
        "Berry\n",
        "Harry\n",
        "\n",
        "#Explanation 0\n",
        "\n",
        "There are  students in this class whose names and grades are assembled to build the following list:\n",
        "\n",
        "python students = [['Harry', 37.21], ['Berry', 37.21], ['Tina', 37.2], ['Akriti', 41], ['Harsh', 39]]\n",
        "\n",
        "The lowest grade of  belongs to Tina. The second lowest grade of  belongs to both Harry and Berry, so we order their names alphabetically and print each name on a new line."
      ],
      "metadata": {
        "id": "Ms99NHN8Q1EO"
      }
    },
    {
      "cell_type": "code",
      "execution_count": 44,
      "metadata": {
        "colab": {
          "base_uri": "https://localhost:8080/"
        },
        "id": "BXaXqduQ9ONX",
        "outputId": "e782ca60-50a0-4797-c90b-202d80d25452"
      },
      "outputs": [
        {
          "output_type": "stream",
          "name": "stdout",
          "text": [
            "5\n",
            "joa\n",
            "24\n",
            "alex\n",
            "29\n",
            "mae\n",
            "29\n",
            "pai\n",
            "24\n",
            "mat\n",
            "36\n",
            "alex\n",
            "mae\n"
          ]
        }
      ],
      "source": [
        "if __name__ == '__main__':\n",
        "  python_students = []\n",
        "  score_list = []\n",
        "  for _ in range(int(input())):\n",
        "      name = input()\n",
        "      score = float(input())\n",
        "      python_students+=[[name, score]]\n",
        "      score_list+=[score]\n",
        "  b = sorted(list(set(score_list)))[1]\n",
        "  students = sorted(python_students)\n",
        "  for a, c in students:\n",
        "    if c==b:\n",
        "      print(a)\n",
        "\n",
        ""
      ]
    },
    {
      "cell_type": "markdown",
      "source": [
        "#Explicando o código:\n",
        "\n",
        "Foi criado duas listas\n",
        "* python_students\n",
        "* score_list\n",
        "\n",
        "Os valores das variáveis name, score foram adicionados aninhados [[ ]] em lista de listas no objeto python_students.\n",
        "\n",
        "Simultaneamente, a variavel score foi adicionada como lista na variavel score_list.\n",
        "\n",
        "Foi criada uma variavel chamada b para receber o segundo menor elemento ([1]) da lista score_list já retirando valores duplicados com a função set, retornado ao tipo lista para ser organizado de forma crescente e retirado dali, o segundo elemento da lista.  \n",
        "\n",
        "Depois, ordenei a lista python_students e guardei na variavel students.\n",
        "Com a lista já organizada em ordem alfabetica, passei os argumentos 'a' e 'c', como sendo os elementos name e score na lista students.\n",
        "\n",
        "se 'c' ou score da lista fosse igual ao numero contido em b, então deveria imprimir na tela 'a' ou 'name'.\n",
        "\n",
        "Assim, a maquina percorre a lista já organizada em ordem alfabetica."
      ],
      "metadata": {
        "id": "VZaagh9eRVtV"
      }
    },
    {
      "cell_type": "code",
      "source": [
        "\n"
      ],
      "metadata": {
        "id": "yqmV2XKO9PP8"
      },
      "execution_count": null,
      "outputs": []
    }
  ]
}
