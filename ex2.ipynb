{
  "nbformat": 4,
  "nbformat_minor": 0,
  "metadata": {
    "colab": {
      "provenance": [],
      "authorship_tag": "ABX9TyNJ3u10ApCiqliHXtU9pVeN",
      "include_colab_link": true
    },
    "kernelspec": {
      "name": "python3",
      "display_name": "Python 3"
    },
    "language_info": {
      "name": "python"
    }
  },
  "cells": [
    {
      "cell_type": "markdown",
      "metadata": {
        "id": "view-in-github",
        "colab_type": "text"
      },
      "source": [
        "<a href=\"https://colab.research.google.com/github/Latamila/hackerRank/blob/main/ex2.ipynb\" target=\"_parent\"><img src=\"https://colab.research.google.com/assets/colab-badge.svg\" alt=\"Open In Colab\"/></a>"
      ]
    },
    {
      "cell_type": "markdown",
      "source": [
        "Let's learn some new Python concepts! You have to generate a list of the first  fibonacci numbers,  being the first number. Then, apply the map function and a lambda expression to cube each fibonacci number and print the list.\n",
        "\n",
        "Concept\n",
        "\n",
        "The map() function applies a function to every member of an iterable and returns the result. It takes two parameters: first, the function that is to be applied and secondly, the iterables.\n",
        "Let's say you are given a list of names, and you have to print a list that contains the length of each name.\n",
        "\n",
        ">> print (list(map(len, ['Tina', 'Raj', 'Tom'])))  \n",
        "[4, 3, 3]  \n",
        "Lambda is a single expression anonymous function often used as an inline function. In simple words, it is a function that has only one line in its body. It proves very handy in functional and GUI programming.\n",
        "\n",
        ">> sum = lambda a, b, c: a + b + c\n",
        ">> sum(1, 2, 3)\n",
        "6\n",
        "Note:\n",
        "\n",
        "Lambda functions cannot use the return statement and can only have a single expression. Unlike def, which creates a function and assigns it a name, lambda creates a function and returns the function itself. Lambda can be used inside lists and dictionaries.\n",
        "\n",
        "Input Format\n",
        "\n",
        "One line of input: an integer .\n",
        "\n",
        "Constraints\n",
        "\n",
        "\n",
        "Output Format\n",
        "\n",
        "A list on a single line containing the cubes of the first  fibonacci numbers.\n",
        "\n",
        "Sample Input\n",
        "\n",
        "5\n",
        "Sample Output\n",
        "\n",
        "[0, 1, 1, 8, 27]\n",
        "Explanation\n",
        "\n",
        "The first  fibonacci numbers are , and their cubes are .\n",
        "\n"
      ],
      "metadata": {
        "id": "uo74Y_TDiGdc"
      }
    },
    {
      "cell_type": "code",
      "source": [
        "cube = lambda x: pow(x, 3)\n",
        "\n",
        "def fibonacci(n):\n",
        "    lis = [0,1]\n",
        "\n",
        "    # for loop starting from 2\n",
        "    for i in range(2,n):\n",
        "        lis.append(lis[i-2] + lis[i-1])\n",
        "    return(lis[0:n])\n",
        "\n",
        "if __name__ == '__main__':\n",
        "    n = int(input())\n",
        "    print(list(map(cube, fibonacci(n))))"
      ],
      "metadata": {
        "colab": {
          "base_uri": "https://localhost:8080/"
        },
        "id": "ngNapTMViJ6t",
        "outputId": "a5ad75a8-4389-4bbd-d27d-e5dac45bb33d"
      },
      "execution_count": 1,
      "outputs": [
        {
          "output_type": "stream",
          "name": "stdout",
          "text": [
            "10\n",
            "[0, 1, 1, 8, 27, 125, 512, 2197, 9261, 39304]\n"
          ]
        }
      ]
    },
    {
      "cell_type": "code",
      "source": [],
      "metadata": {
        "id": "ElWAKNx2iTgz"
      },
      "execution_count": null,
      "outputs": []
    }
  ]
}