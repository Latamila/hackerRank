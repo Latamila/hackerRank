{
  "nbformat": 4,
  "nbformat_minor": 0,
  "metadata": {
    "colab": {
      "provenance": [],
      "authorship_tag": "ABX9TyMVIm0Pegvm4gttkZP1Cii2",
      "include_colab_link": true
    },
    "kernelspec": {
      "name": "python3",
      "display_name": "Python 3"
    },
    "language_info": {
      "name": "python"
    }
  },
  "cells": [
    {
      "cell_type": "markdown",
      "metadata": {
        "id": "view-in-github",
        "colab_type": "text"
      },
      "source": [
        "<a href=\"https://colab.research.google.com/github/Latamila/hackerRank/blob/main/conversor_tempo.ipynb\" target=\"_parent\"><img src=\"https://colab.research.google.com/assets/colab-badge.svg\" alt=\"Open In Colab\"/></a>"
      ]
    },
    {
      "cell_type": "code",
      "source": [
        "segundos = int(input('Por favor, entre com o número de segundos que deseja converter: '))\n",
        "horas = segundos // 3600\n",
        "dias = horas // 86400\n",
        "segs = segundos % 3600\n",
        "minutos = segs // 60\n",
        "seg_restantes = segs % 60\n",
        "if (horas >= 24):\n",
        "\tdias = int(horas / 24)\n",
        "\thoras = int(horas % 24)\n",
        "print(f'{dias} dias, {horas} horas, {minutos} minutos e {seg_restantes} segundos.')"
      ],
      "metadata": {
        "colab": {
          "base_uri": "https://localhost:8080/"
        },
        "id": "_AHTGL4XRrcm",
        "outputId": "e0945864-c552-4ec1-dd02-6ac93ce1abcf"
      },
      "execution_count": 26,
      "outputs": [
        {
          "output_type": "stream",
          "name": "stdout",
          "text": [
            "Por favor, entre com o número de segundos que deseja converter: 86425\n",
            "1 dias, 0 horas, 0 minutos e 25 segundos.\n"
          ]
        }
      ]
    }
  ]
}
