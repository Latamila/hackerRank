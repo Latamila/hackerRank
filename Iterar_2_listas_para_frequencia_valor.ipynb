{
  "nbformat": 4,
  "nbformat_minor": 0,
  "metadata": {
    "colab": {
      "provenance": [],
      "authorship_tag": "ABX9TyPyhAG2JAu2QzdO2eCl+HvJ",
      "include_colab_link": true
    },
    "kernelspec": {
      "name": "python3",
      "display_name": "Python 3"
    },
    "language_info": {
      "name": "python"
    }
  },
  "cells": [
    {
      "cell_type": "markdown",
      "metadata": {
        "id": "view-in-github",
        "colab_type": "text"
      },
      "source": [
        "<a href=\"https://colab.research.google.com/github/Latamila/hackerRank/blob/main/Iterar_2_listas_para_frequencia_valor.ipynb\" target=\"_parent\"><img src=\"https://colab.research.google.com/assets/colab-badge.svg\" alt=\"Open In Colab\"/></a>"
      ]
    },
    {
      "cell_type": "code",
      "source": [
        "def countingSort(arr):\n",
        "    sorted = [0]*100\n",
        "    for valor in arr:\n",
        "        if 0 <= valor < len(sorted):\n",
        "            sorted[valor]+=1\n",
        "    return sorted\n",
        "\n",
        "\n",
        "    # Write your code here\n",
        "\n",
        "if __name__ == '__main__':\n",
        "    fptr = open(os.environ['OUTPUT_PATH'], 'w')\n",
        "\n",
        "    n = int(input().strip())\n",
        "\n",
        "    arr = list(map(int, input().rstrip().split()))\n"
      ],
      "metadata": {
        "id": "RAPqjKx3WMgz"
      },
      "execution_count": null,
      "outputs": []
    },
    {
      "cell_type": "markdown",
      "source": [
        "##TESTES\n"
      ],
      "metadata": {
        "id": "lBrrf4YrWH0I"
      }
    },
    {
      "cell_type": "code",
      "source": [
        "arr = [1,1,3,2,1]\n",
        "sorted=[0]*100"
      ],
      "metadata": {
        "id": "oMPpMS1pzIja"
      },
      "execution_count": 29,
      "outputs": []
    },
    {
      "cell_type": "code",
      "source": [
        "print(sorted)"
      ],
      "metadata": {
        "colab": {
          "base_uri": "https://localhost:8080/"
        },
        "id": "VVdu7o3jQfMt",
        "outputId": "2dbc1edc-82cd-461b-bad2-4bb74afcd915"
      },
      "execution_count": 30,
      "outputs": [
        {
          "output_type": "stream",
          "name": "stdout",
          "text": [
            "[0, 0, 0, 0, 0, 0, 0, 0, 0, 0, 0, 0, 0, 0, 0, 0, 0, 0, 0, 0, 0, 0, 0, 0, 0, 0, 0, 0, 0, 0, 0, 0, 0, 0, 0, 0, 0, 0, 0, 0, 0, 0, 0, 0, 0, 0, 0, 0, 0, 0, 0, 0, 0, 0, 0, 0, 0, 0, 0, 0, 0, 0, 0, 0, 0, 0, 0, 0, 0, 0, 0, 0, 0, 0, 0, 0, 0, 0, 0, 0, 0, 0, 0, 0, 0, 0, 0, 0, 0, 0, 0, 0, 0, 0, 0, 0, 0, 0, 0, 0]\n"
          ]
        }
      ]
    },
    {
      "cell_type": "code",
      "source": [
        "for valor in arr:\n",
        "  if 0 <= valor < len(sorted):\n",
        "    sorted[valor] += 1\n",
        "\n",
        "print(sorted)\n"
      ],
      "metadata": {
        "colab": {
          "base_uri": "https://localhost:8080/"
        },
        "id": "EZps5h4mRSqj",
        "outputId": "262fd418-51a3-4038-f59e-79e7e226bf5d"
      },
      "execution_count": 31,
      "outputs": [
        {
          "output_type": "stream",
          "name": "stdout",
          "text": [
            "[0, 3, 1, 1, 0, 0, 0, 0, 0, 0, 0, 0, 0, 0, 0, 0, 0, 0, 0, 0, 0, 0, 0, 0, 0, 0, 0, 0, 0, 0, 0, 0, 0, 0, 0, 0, 0, 0, 0, 0, 0, 0, 0, 0, 0, 0, 0, 0, 0, 0, 0, 0, 0, 0, 0, 0, 0, 0, 0, 0, 0, 0, 0, 0, 0, 0, 0, 0, 0, 0, 0, 0, 0, 0, 0, 0, 0, 0, 0, 0, 0, 0, 0, 0, 0, 0, 0, 0, 0, 0, 0, 0, 0, 0, 0, 0, 0, 0, 0, 0]\n"
          ]
        }
      ]
    },
    {
      "cell_type": "code",
      "source": [
        "#import o random\n",
        "import random\n",
        "#crie um array randomizado com 100 elementos\n",
        "#se o array deve conter menores que 100, peça ao randint\n",
        "#que o array tenha numeros ate 99 mas que o tamanho do array seja 100\n",
        "arr = [random.randint(0,99) for _ in range(100)]\n",
        "print(arr)\n",
        "print(len(arr))"
      ],
      "metadata": {
        "colab": {
          "base_uri": "https://localhost:8080/"
        },
        "id": "Uvg37pvjWqPd",
        "outputId": "7c6b553f-2700-4e72-a5e1-117aa6b4f1cd"
      },
      "execution_count": 35,
      "outputs": [
        {
          "output_type": "stream",
          "name": "stdout",
          "text": [
            "[35, 13, 79, 73, 80, 37, 60, 58, 92, 65, 26, 41, 83, 60, 34, 20, 88, 25, 18, 22, 79, 12, 41, 59, 49, 89, 81, 32, 14, 15, 86, 33, 23, 51, 34, 21, 12, 18, 97, 6, 81, 80, 21, 50, 58, 23, 89, 75, 56, 69, 87, 90, 19, 58, 24, 65, 28, 13, 1, 77, 22, 45, 41, 31, 52, 16, 91, 17, 24, 7, 42, 20, 89, 27, 84, 10, 97, 46, 78, 16, 3, 38, 95, 74, 36, 59, 37, 21, 98, 39, 11, 8, 7, 39, 77, 45, 81, 20, 34, 36]\n",
            "100\n"
          ]
        }
      ]
    },
    {
      "cell_type": "code",
      "source": [
        "for valor in arr:\n",
        "  if 0 <= valor < len(sorted):\n",
        "    sorted[valor] += 1\n",
        "\n",
        "print(sorted)\n"
      ],
      "metadata": {
        "colab": {
          "base_uri": "https://localhost:8080/"
        },
        "id": "36VOrs1oQBW_",
        "outputId": "8dbe00eb-96cf-44e8-df8e-8e5c04b9a579"
      },
      "execution_count": 36,
      "outputs": [
        {
          "output_type": "stream",
          "name": "stdout",
          "text": [
            "[0, 4, 1, 2, 0, 0, 1, 2, 1, 0, 1, 1, 2, 2, 1, 1, 2, 1, 2, 1, 3, 3, 2, 2, 2, 1, 1, 1, 1, 0, 0, 1, 1, 1, 3, 1, 2, 2, 1, 2, 0, 3, 1, 0, 0, 2, 1, 0, 0, 1, 1, 1, 1, 0, 0, 0, 1, 0, 3, 2, 2, 0, 0, 0, 0, 2, 0, 0, 0, 1, 0, 0, 0, 1, 1, 1, 0, 2, 1, 2, 2, 3, 0, 1, 1, 0, 1, 1, 1, 3, 1, 1, 1, 0, 0, 1, 0, 2, 1, 0]\n"
          ]
        }
      ]
    }
  ]
}