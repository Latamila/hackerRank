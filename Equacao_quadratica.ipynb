{
  "nbformat": 4,
  "nbformat_minor": 0,
  "metadata": {
    "colab": {
      "provenance": [],
      "authorship_tag": "ABX9TyOlxgdaqNe4ugTQYOWjirsv",
      "include_colab_link": true
    },
    "kernelspec": {
      "name": "python3",
      "display_name": "Python 3"
    },
    "language_info": {
      "name": "python"
    }
  },
  "cells": [
    {
      "cell_type": "markdown",
      "metadata": {
        "id": "view-in-github",
        "colab_type": "text"
      },
      "source": [
        "<a href=\"https://colab.research.google.com/github/Latamila/hackerRank/blob/main/equacao_quadratica.ipynb\" target=\"_parent\"><img src=\"https://colab.research.google.com/assets/colab-badge.svg\" alt=\"Open In Colab\"/></a>"
      ]
    },
    {
      "cell_type": "code",
      "source": [
        "import math"
      ],
      "metadata": {
        "id": "EXIM4PEDJoYa"
      },
      "execution_count": 105,
      "outputs": []
    },
    {
      "cell_type": "code",
      "source": [
        "def equacao_quadratica(a,b,c):\n",
        "  delta = b ** 2 - 4 * a * c\n",
        "  if delta < 0:\n",
        "    print('não possui raiz real')\n",
        "  elif delta == 0:\n",
        "    raiz1 = (-b + math.sqrt(delta)) / (2 * a)\n",
        "    print(f'A única raiz é: {raiz1}')\n",
        "  else:\n",
        "    raiz1 = (-b + math.sqrt(delta)) / (2 * a)\n",
        "    raiz2 = (-b - math.sqrt(delta)) / (2 * a)\n",
        "    print(f'A primeira raiz é: {raiz1}')\n",
        "    print(f'A primeira raiz é: {raiz2}')\n"
      ],
      "metadata": {
        "id": "l2HwbmzwICdi"
      },
      "execution_count": 106,
      "outputs": []
    },
    {
      "cell_type": "code",
      "source": [
        "equacao_quadratica(10,10,10)"
      ],
      "metadata": {
        "colab": {
          "base_uri": "https://localhost:8080/"
        },
        "id": "C9pKfa31HhyN",
        "outputId": "1cb18b8d-bb23-4400-b82f-55e2e2566d8e"
      },
      "execution_count": 107,
      "outputs": [
        {
          "output_type": "stream",
          "name": "stdout",
          "text": [
            "não possui raiz real\n"
          ]
        }
      ]
    },
    {
      "cell_type": "code",
      "source": [
        "equacao_quadratica(10,20,10)"
      ],
      "metadata": {
        "colab": {
          "base_uri": "https://localhost:8080/"
        },
        "id": "ct86Q093JPMn",
        "outputId": "bef6d7c6-5128-49eb-bf6d-df03ee3a9b2e"
      },
      "execution_count": 108,
      "outputs": [
        {
          "output_type": "stream",
          "name": "stdout",
          "text": [
            "A única raiz é: -1.0\n"
          ]
        }
      ]
    },
    {
      "cell_type": "code",
      "source": [
        "equacao_quadratica(10,25,10)\n"
      ],
      "metadata": {
        "colab": {
          "base_uri": "https://localhost:8080/"
        },
        "id": "4jn8xc2kJVeZ",
        "outputId": "af9deccf-8dac-4df0-95e2-cae29f0557d6"
      },
      "execution_count": 109,
      "outputs": [
        {
          "output_type": "stream",
          "name": "stdout",
          "text": [
            "A primeira raiz é: -0.5\n",
            "A primeira raiz é: -2.0\n"
          ]
        }
      ]
    },
    {
      "cell_type": "code",
      "source": [],
      "metadata": {
        "id": "c9CG1OOdJYR9"
      },
      "execution_count": null,
      "outputs": []
    }
  ]
}
