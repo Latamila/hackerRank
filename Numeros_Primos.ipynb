{
  "nbformat": 4,
  "nbformat_minor": 0,
  "metadata": {
    "colab": {
      "provenance": [],
      "authorship_tag": "ABX9TyOez9HPQHFpk3Jx3mFjZ625",
      "include_colab_link": true
    },
    "kernelspec": {
      "name": "python3",
      "display_name": "Python 3"
    },
    "language_info": {
      "name": "python"
    }
  },
  "cells": [
    {
      "cell_type": "markdown",
      "metadata": {
        "id": "view-in-github",
        "colab_type": "text"
      },
      "source": [
        "<a href=\"https://colab.research.google.com/github/Latamila/hackerRank/blob/main/Numeros_Primos.ipynb\" target=\"_parent\"><img src=\"https://colab.research.google.com/assets/colab-badge.svg\" alt=\"Open In Colab\"/></a>"
      ]
    },
    {
      "cell_type": "code",
      "source": [
        "n = int(input('digite um numero: '))\n",
        "\n",
        "fator=2\n",
        "multiplicidade = 0\n",
        "\n",
        "while n > 1:\n",
        "  while n % fator == 0:\n",
        "    multiplicidade = multiplicidade + 1\n",
        "    n = n / fator\n",
        "  if multiplicidade > 1:\n",
        "    print(f'fator {fator} multiplicidade = {multiplicidade}')\n",
        "  fator = fator + 1\n",
        "  multiplicidade = 0 #zera sempre que iniciar o laço mais externo\n",
        "  #para iterar com fator +1\n",
        ""
      ],
      "metadata": {
        "colab": {
          "base_uri": "https://localhost:8080/"
        },
        "id": "3BEQAJxCZAel",
        "outputId": "02a4dfc9-5fa0-490b-ef8c-46488ea951a6"
      },
      "execution_count": 29,
      "outputs": [
        {
          "name": "stdout",
          "output_type": "stream",
          "text": [
            "digite um numero: 11\n"
          ]
        }
      ]
    },
    {
      "cell_type": "code",
      "source": [
        "fator\n"
      ],
      "metadata": {
        "colab": {
          "base_uri": "https://localhost:8080/"
        },
        "id": "fp9R-reQd3HN",
        "outputId": "f4ced42d-2cf8-44c1-cb34-e1cf64ef45e8"
      },
      "execution_count": 30,
      "outputs": [
        {
          "output_type": "execute_result",
          "data": {
            "text/plain": [
              "12"
            ]
          },
          "metadata": {},
          "execution_count": 30
        }
      ]
    },
    {
      "cell_type": "code",
      "source": [
        "n = int(input('digite um numero: '))\n",
        "numero_inicial = n\n",
        "fator=2\n",
        "multiplicidade = 0\n",
        "\n",
        "while fator <= n:\n",
        "  while n % fator == 0:\n",
        "    multiplicidade = multiplicidade + 1\n",
        "    n = n / fator\n",
        "  if multiplicidade > 0:\n",
        "    print(f'fator {fator} multiplicidade = {multiplicidade}')\n",
        "  fator = fator + 1\n",
        "  multiplicidade = 0 #zera sempre que iniciar o laço mais externo\n",
        "  #para iterar com fator +1\n",
        "print(fator)\n",
        "if numero_inicial == (fator-1):\n",
        "  print('Este é um numero primo')"
      ],
      "metadata": {
        "colab": {
          "base_uri": "https://localhost:8080/"
        },
        "id": "VNcKg64raB-0",
        "outputId": "bfcb43e3-de2f-4995-a08a-81cda8781fea"
      },
      "execution_count": 39,
      "outputs": [
        {
          "output_type": "stream",
          "name": "stdout",
          "text": [
            "digite um numero: 31\n",
            "fator 31 multiplicidade = 1\n",
            "32\n",
            "Este é um numero primo\n"
          ]
        }
      ]
    },
    {
      "cell_type": "code",
      "source": [
        "def primo():\n",
        "  n= int(input('Digite um numero: '))\n",
        "  numero_inicial = n\n",
        "  fator=2\n",
        "  multiplicidade = 0\n",
        "\n",
        "  while fator <= n:\n",
        "    while n % fator == 0:\n",
        "      multiplicidade = multiplicidade + 1\n",
        "      n = n / fator\n",
        "    if multiplicidade > 0:\n",
        "      print(f'fator {fator} multiplicidade = {multiplicidade}')\n",
        "    fator = fator + 1\n",
        "    multiplicidade = 0 #zera sempre que iniciar o laço mais externo\n",
        "    #para iterar com fator +1\n",
        "  if numero_inicial == (fator-1):\n",
        "    print('Este é um numero primo!')\n",
        "  else:\n",
        "    print('Este não é um numero primo!')\n",
        "  return numero_inicial\n",
        "  n= int(input('Digite um numero: '))"
      ],
      "metadata": {
        "id": "hmx3QkjMh2Yw"
      },
      "execution_count": 59,
      "outputs": []
    },
    {
      "cell_type": "code",
      "source": [
        "primo()"
      ],
      "metadata": {
        "colab": {
          "base_uri": "https://localhost:8080/"
        },
        "id": "6f_gGnaLh355",
        "outputId": "b772c789-9bc4-4c45-87b8-8257439f9599"
      },
      "execution_count": 61,
      "outputs": [
        {
          "output_type": "stream",
          "name": "stdout",
          "text": [
            "Digite um numero: 15246879\n",
            "fator 3 multiplicidade = 1\n",
            "fator 5082293 multiplicidade = 1\n",
            "Este não é um numero primo!\n"
          ]
        },
        {
          "output_type": "execute_result",
          "data": {
            "text/plain": [
              "15246879"
            ]
          },
          "metadata": {},
          "execution_count": 61
        }
      ]
    },
    {
      "cell_type": "code",
      "source": [],
      "metadata": {
        "id": "uYEfdsYth7nL"
      },
      "execution_count": null,
      "outputs": []
    }
  ]
}