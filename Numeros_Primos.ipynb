{
  "nbformat": 4,
  "nbformat_minor": 0,
  "metadata": {
    "colab": {
      "provenance": [],
      "authorship_tag": "ABX9TyOW2LZJp6UrLnOfNcBUQJnq",
      "include_colab_link": true
    },
    "kernelspec": {
      "name": "python3",
      "display_name": "Python 3"
    },
    "language_info": {
      "name": "python"
    }
  },
  "cells": [
    {
      "cell_type": "markdown",
      "metadata": {
        "id": "view-in-github",
        "colab_type": "text"
      },
      "source": [
        "<a href=\"https://colab.research.google.com/github/Latamila/hackerRank/blob/main/Numeros_Primos.ipynb\" target=\"_parent\"><img src=\"https://colab.research.google.com/assets/colab-badge.svg\" alt=\"Open In Colab\"/></a>"
      ]
    },
    {
      "cell_type": "code",
      "source": [
        "n = int(input('digite um numero: '))\n",
        "\n",
        "fator=2\n",
        "multiplicidade = 0\n",
        "\n",
        "while n > 1:\n",
        "  while n % fator == 0:\n",
        "    multiplicidade = multiplicidade + 1\n",
        "    n = n / fator\n",
        "  if multiplicidade > 1:\n",
        "    print(f'fator {fator} multiplicidade = {multiplicidade}')\n",
        "  fator = fator + 1\n",
        "  multiplicidade = 0 #zera sempre que iniciar o laço mais externo\n",
        "  #para iterar com fator +1\n",
        ""
      ],
      "metadata": {
        "colab": {
          "base_uri": "https://localhost:8080/"
        },
        "id": "3BEQAJxCZAel",
        "outputId": "d7bb19a1-a393-4462-d2f1-fdeb8d035445"
      },
      "execution_count": 1,
      "outputs": [
        {
          "name": "stdout",
          "output_type": "stream",
          "text": [
            "digite um numero: 11\n"
          ]
        }
      ]
    },
    {
      "cell_type": "code",
      "source": [
        "fator#percebi que o fator vai até n+1 mas não do n inicial\n",
        "#tenho que copiar o numero inicial em outra variavel"
      ],
      "metadata": {
        "colab": {
          "base_uri": "https://localhost:8080/"
        },
        "id": "fp9R-reQd3HN",
        "outputId": "244349ff-e9e2-4b83-8f4d-5fa9479950da"
      },
      "execution_count": 3,
      "outputs": [
        {
          "output_type": "execute_result",
          "data": {
            "text/plain": [
              "12"
            ]
          },
          "metadata": {},
          "execution_count": 3
        }
      ]
    },
    {
      "cell_type": "code",
      "source": [
        "n = int(input('digite um numero: '))\n",
        "numero_inicial = #copia numero inicial para comparação no final\n",
        "fator=2\n",
        "multiplicidade = 0\n",
        "\n",
        "while fator <= n:\n",
        "  while n % fator == 0:\n",
        "    multiplicidade = multiplicidade + 1\n",
        "    n = n / fator\n",
        "  if multiplicidade > 0:\n",
        "    print(f'fator {fator} multiplicidade = {multiplicidade}')\n",
        "  fator = fator + 1\n",
        "  multiplicidade = 0 #zera sempre que iniciar o laço mais externo\n",
        "  #para iterar com fator +1\n",
        "print(fator)\n",
        "if numero_inicial == (fator-1):\n",
        "  print('Este é um numero primo')\n",
        "else:\n",
        "  print('Este não é um número primo.')"
      ],
      "metadata": {
        "colab": {
          "base_uri": "https://localhost:8080/"
        },
        "id": "VNcKg64raB-0",
        "outputId": "bc5c2627-03ef-40f2-b3a2-1facad8c8a3d"
      },
      "execution_count": 5,
      "outputs": [
        {
          "output_type": "stream",
          "name": "stdout",
          "text": [
            "digite um numero: 10\n",
            "fator 2 multiplicidade = 1\n",
            "fator 5 multiplicidade = 1\n",
            "6\n",
            "Este não é um número primo.\n"
          ]
        }
      ]
    },
    {
      "cell_type": "code",
      "source": [
        "def primo(n):\n",
        "  numero_inicial = n\n",
        "  fator=2\n",
        "  multiplicidade = 0\n",
        "  while fator <= n:\n",
        "    while n % fator == 0:\n",
        "      multiplicidade = multiplicidade + 1\n",
        "      n = n / fator\n",
        "    if multiplicidade > 0:\n",
        "      print(f'fator {fator} multiplicidade = {multiplicidade}')\n",
        "    fator = fator + 1\n",
        "    multiplicidade = 0 #zera sempre que iniciar o laço mais externo\n",
        "    #para iterar com fator +1\n",
        "  if numero_inicial == (fator-1):\n",
        "    print('Este é um numero primo!')\n",
        "  else:\n",
        "    print('Este não é um numero primo!')\n",
        "  return numero_inicial\n",
        "\n",
        "\n",
        ""
      ],
      "metadata": {
        "id": "hmx3QkjMh2Yw"
      },
      "execution_count": 6,
      "outputs": []
    },
    {
      "cell_type": "code",
      "source": [
        "while n > 0:\n",
        "    n = int(input('digite um numero: '))\n",
        "    primo(n)\n",
        "\n",
        "\n"
      ],
      "metadata": {
        "colab": {
          "base_uri": "https://localhost:8080/"
        },
        "id": "6f_gGnaLh355",
        "outputId": "9b2ed85e-b6f7-41d5-ea04-c8dbb0344f9f"
      },
      "execution_count": 8,
      "outputs": [
        {
          "output_type": "stream",
          "name": "stdout",
          "text": [
            "digite um numero: 101\n",
            "fator 101 multiplicidade = 1\n",
            "Este é um numero primo!\n",
            "digite um numero: 31\n",
            "fator 31 multiplicidade = 1\n",
            "Este é um numero primo!\n",
            "digite um numero: 57\n",
            "fator 3 multiplicidade = 1\n",
            "fator 19 multiplicidade = 1\n",
            "Este não é um numero primo!\n",
            "digite um numero: 7\n",
            "fator 7 multiplicidade = 1\n",
            "Este é um numero primo!\n",
            "digite um numero: 0\n",
            "Este não é um numero primo!\n"
          ]
        }
      ]
    },
    {
      "cell_type": "markdown",
      "source": [
        "##OUTRA ALTERNATIVA"
      ],
      "metadata": {
        "id": "h7XeFpa3j1Rq"
      }
    },
    {
      "cell_type": "code",
      "source": [
        "def eprimo(x):\n",
        "  fator = 2\n",
        "  while x % fator != 0 and fator < (x/2):#nao preciso ir\n",
        "  #até x. até a metade basta para encontrar um divisor\n",
        "    fator = fator + 1\n",
        "  if x % fator == 0:\n",
        "    return False\n",
        "  else:\n",
        "    return True\n",
        "\n"
      ],
      "metadata": {
        "id": "U4pKJXQJkaD6"
      },
      "execution_count": 9,
      "outputs": []
    },
    {
      "cell_type": "code",
      "source": [
        "n = int(input('digite um numero inteiro: '))\n",
        "while n > 0:\n",
        "  if n == 2:\n",
        "    print(n, 'é primo!')\n",
        "  elif eprimo(n):\n",
        "    print(n, 'é primo!')\n",
        "  else:\n",
        "    print(n, 'não é primo!')\n",
        "  n = int(input('digite um numero inteiro: '))\n",
        "\n"
      ],
      "metadata": {
        "colab": {
          "base_uri": "https://localhost:8080/"
        },
        "id": "uYEfdsYth7nL",
        "outputId": "84bc8da1-164b-4f4b-8c09-12813122422f"
      },
      "execution_count": 10,
      "outputs": [
        {
          "name": "stdout",
          "output_type": "stream",
          "text": [
            "digite um numero inteiro: 10\n",
            "10 não é primo!\n",
            "digite um numero inteiro: 2\n",
            "2 é primo!\n",
            "digite um numero inteiro: 1\n",
            "1 é primo!\n",
            "digite um numero inteiro: 0\n"
          ]
        }
      ]
    }
  ]
}