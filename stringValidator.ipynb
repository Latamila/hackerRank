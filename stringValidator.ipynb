{
  "nbformat": 4,
  "nbformat_minor": 0,
  "metadata": {
    "colab": {
      "provenance": [],
      "authorship_tag": "ABX9TyORpcStzA03/vHE00D/VZeb",
      "include_colab_link": true
    },
    "kernelspec": {
      "name": "python3",
      "display_name": "Python 3"
    },
    "language_info": {
      "name": "python"
    }
  },
  "cells": [
    {
      "cell_type": "markdown",
      "metadata": {
        "id": "view-in-github",
        "colab_type": "text"
      },
      "source": [
        "<a href=\"https://colab.research.google.com/github/Latamila/hackerRank/blob/main/stringValidator.ipynb\" target=\"_parent\"><img src=\"https://colab.research.google.com/assets/colab-badge.svg\" alt=\"Open In Colab\"/></a>"
      ]
    },
    {
      "cell_type": "code",
      "execution_count": 4,
      "metadata": {
        "colab": {
          "base_uri": "https://localhost:8080/"
        },
        "id": "wGanMGZDTcf1",
        "outputId": "deb63b1b-1f1b-4c54-b1bc-3fe3ccbfdc13"
      },
      "outputs": [
        {
          "output_type": "stream",
          "name": "stdout",
          "text": [
            "qA2\n",
            "True\n",
            "True\n",
            "True\n",
            "True\n",
            "True\n"
          ]
        }
      ],
      "source": [
        "if __name__ == '__main__':\n",
        "    s = input()\n",
        "    print(any(map(str.isalnum, s)))\n",
        "    print(any(map(str.isalpha, s)))\n",
        "    print(any(map(str.isdigit, s)))\n",
        "    print(any(map(str.islower, s)))\n",
        "    print(any(map(str.isupper, s)))\n",
        "\n"
      ]
    },
    {
      "cell_type": "markdown",
      "source": [
        "Este código em Python verifica diferentes propriedades de uma string s e imprime True se a condição correspondente for atendida em pelo menos um caractere da string. Aqui está uma explicação linha por linha:\n",
        "\n",
        "if __name__ == '__main__':\n",
        "\n",
        "Este bloco verifica se o script está sendo executado como o programa principal. Se for o caso, o código dentro deste bloco será executado.\n",
        "\n",
        "##s = input()\n",
        "\n",
        "Solicita ao usuário que insira uma string e armazena essa string na variável s.\n",
        "\n",
        "\n",
        "##print(any(map(str.isalnum, s)))\n",
        "\n",
        "#map(str.isalnum, s)#: Aplica a função str.isalnum a cada caractere da string s. str.isalnum retorna True se o caractere for alfanumérico (letra ou número), e False caso contrário.\n",
        "\n",
        "#any(...)#: Retorna True se pelo menos um dos elementos for True. Portanto, este trecho imprime True se pelo menos um caractere em s for alfanumérico.\n",
        "\n",
        "#print(any(map(str.isalpha, s)))\n",
        "\n",
        "Similar ao ponto anterior, mas verifica se pelo menos um caractere é uma letra.\n",
        "\n",
        "#print(any(map(str.isdigit, s)))\n",
        "\n",
        "Similar aos anteriores, mas verifica se pelo menos um caractere é um dígito.\n",
        "\n",
        "#print(any(map(str.islower, s)))\n",
        "\n",
        "Verifica se pelo menos um caractere é uma letra minúscula.\n",
        "\n",
        "#print(any(map(str.isupper, s)))\n",
        "\n",
        "Verifica se pelo menos um caractere é uma letra maiúscula.\n",
        "Em resumo, este código solicita uma string do usuário e, em seguida, imprime True ou False para várias condições relacionadas aos caracteres dessa string, incluindo se há pelo menos um caractere alfanumérico, uma letra, um dígito, uma letra minúscula e uma letra maiúscula."
      ],
      "metadata": {
        "id": "3t_SqgoUV4TM"
      }
    },
    {
      "cell_type": "code",
      "source": [],
      "metadata": {
        "id": "NkCN4nOjTeHC"
      },
      "execution_count": null,
      "outputs": []
    }
  ]
}