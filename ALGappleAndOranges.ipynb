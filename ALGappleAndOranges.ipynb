{
  "nbformat": 4,
  "nbformat_minor": 0,
  "metadata": {
    "colab": {
      "provenance": [],
      "authorship_tag": "ABX9TyP9DtQhCpIRr/CAcnEY0lzF",
      "include_colab_link": true
    },
    "kernelspec": {
      "name": "python3",
      "display_name": "Python 3"
    },
    "language_info": {
      "name": "python"
    }
  },
  "cells": [
    {
      "cell_type": "markdown",
      "metadata": {
        "id": "view-in-github",
        "colab_type": "text"
      },
      "source": [
        "<a href=\"https://colab.research.google.com/github/Latamila/hackerRank/blob/main/ALGappleAndOranges.ipynb\" target=\"_parent\"><img src=\"https://colab.research.google.com/assets/colab-badge.svg\" alt=\"Open In Colab\"/></a>"
      ]
    },
    {
      "cell_type": "code",
      "execution_count": 64,
      "metadata": {
        "id": "meWoJormyKnG"
      },
      "outputs": [],
      "source": [
        "s= 7 #comeco da casa\n",
        "t= 11 #final da casa\n",
        "a= 5 #posição da macieira\n",
        "b = 15 #posição da laranjeira\n",
        "m=3\n",
        "n=2\n",
        "macas = [-2,2,1] #posição das maças\n",
        "laranjas=[5,-6] #posição das laranjas\n",
        "location_macas = []\n",
        "location_laranjas = []\n",
        "count_a = 0\n",
        "count_l = 0"
      ]
    },
    {
      "cell_type": "code",
      "source": [
        "for i in range(m):\n",
        "  location_macas.append(a + apples[i])\n",
        "  print(location_macas)\n",
        "for i in range(len(location_macas)):\n",
        "  if location_macas[i] >= s and location_macas[i] <= t:\n",
        "      count_a +=1\n",
        "  else:\n",
        "      count_a +=0\n",
        "\n",
        "  print(count_a)\n",
        "\n",
        "for i in range(n):\n",
        "  location_laranjas.append(b + laranjas[i])\n",
        "  print(location_laranjas)\n",
        "for i in range(len(location_laranjas)):\n",
        "  if location_laranjas[i] >= s and location_laranjas[i] <= t:\n",
        "    count_l +=1\n",
        "  else:\n",
        "    count_l +=0\n",
        "\n",
        "  print(count_l)"
      ],
      "metadata": {
        "colab": {
          "base_uri": "https://localhost:8080/"
        },
        "id": "suUsBsMH0tdl",
        "outputId": "43cfc5f7-5a9f-4f6e-d9ae-e9a40187a6bc"
      },
      "execution_count": 60,
      "outputs": [
        {
          "output_type": "stream",
          "name": "stdout",
          "text": [
            "[3]\n",
            "[3, 7]\n",
            "[3, 7, 6]\n",
            "0\n",
            "1\n",
            "1\n",
            "[20]\n",
            "[20, 9]\n",
            "0\n",
            "1\n"
          ]
        }
      ]
    },
    {
      "cell_type": "markdown",
      "source": [
        "#Melhorar o codigo, eliminando variavel e rodando o calculo direto no loop for."
      ],
      "metadata": {
        "id": "yWGwnZDtCwU1"
      }
    },
    {
      "cell_type": "code",
      "source": [
        "for i in range(len(macas)):\n",
        "  if a + macas[i] >= s and a + macas[i] <= t:\n",
        "    count_a += 1\n",
        "\n",
        "for i in range(len(laranjas)):\n",
        "  if b + laranjas[i] >= s and b + laranjas[i] <= t:\n",
        "    count_l += 1\n",
        "\n",
        "print(count_a)\n",
        "print(count_l)"
      ],
      "metadata": {
        "colab": {
          "base_uri": "https://localhost:8080/"
        },
        "id": "ub2X3c2A6vX7",
        "outputId": "75a819a5-d0e6-4ed9-9827-2da49f791353"
      },
      "execution_count": 65,
      "outputs": [
        {
          "output_type": "stream",
          "name": "stdout",
          "text": [
            "1\n",
            "1\n"
          ]
        }
      ]
    },
    {
      "cell_type": "markdown",
      "source": [
        "#Código final\n",
        "\n"
      ],
      "metadata": {
        "id": "-coKioVsDsug"
      }
    },
    {
      "cell_type": "code",
      "source": [
        "def countApplesAndOranges(s, t, a, b, apples, oranges):\n",
        "    count_apples = 0\n",
        "    count_oranges = 0\n",
        "\n",
        "    for i in range(len(apples)):\n",
        "        if a+apples[i] >= s and a+apples[i] <= t:\n",
        "            count_apples +=1\n",
        "\n",
        "    for i in range(len(oranges)):\n",
        "        if b+oranges[i] >= s and b+oranges[i] <= t:\n",
        "            count_oranges +=1\n",
        "\n",
        "    print(count_apples)\n",
        "    print(count_oranges)\n",
        "\n",
        "    # Write your code here\n",
        "\n",
        "if __name__ == '__main__':\n",
        "    first_multiple_input = input().rstrip().split()\n",
        "\n",
        "    s = int(first_multiple_input[0])\n",
        "\n",
        "    t = int(first_multiple_input[1])\n",
        "\n",
        "    second_multiple_input = input().rstrip().split()\n",
        "\n",
        "    a = int(second_multiple_input[0])\n",
        "\n",
        "    b = int(second_multiple_input[1])\n",
        "\n",
        "    third_multiple_input = input().rstrip().split()\n",
        "\n",
        "    m = int(third_multiple_input[0])\n",
        "\n",
        "    n = int(third_multiple_input[1])\n",
        "\n",
        "    apples = list(map(int, input().rstrip().split()))\n",
        "\n",
        "    oranges = list(map(int, input().rstrip().split()))\n",
        "\n",
        "    countApplesAndOranges(s, t, a, b, apples, oranges)\n"
      ],
      "metadata": {
        "colab": {
          "base_uri": "https://localhost:8080/"
        },
        "id": "qz49LZkvDcZE",
        "outputId": "41a588db-5030-4262-c464-b8a60f0378fd"
      },
      "execution_count": 66,
      "outputs": [
        {
          "output_type": "stream",
          "name": "stdout",
          "text": [
            "7 10 \n",
            "4 12\n",
            "3 3 \n",
            "2 3 -4\n",
            "3 -2 -4\n",
            "1\n",
            "2\n"
          ]
        }
      ]
    },
    {
      "cell_type": "markdown",
      "source": [
        "##FIM"
      ],
      "metadata": {
        "id": "pKzPiN0xEGac"
      }
    },
    {
      "cell_type": "code",
      "source": [],
      "metadata": {
        "id": "6c0ev55nEHTT"
      },
      "execution_count": null,
      "outputs": []
    }
  ]
}