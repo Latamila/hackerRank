{
  "nbformat": 4,
  "nbformat_minor": 0,
  "metadata": {
    "colab": {
      "provenance": [],
      "authorship_tag": "ABX9TyO00jGJNLp1nf6mbMReFo9c",
      "include_colab_link": true
    },
    "kernelspec": {
      "name": "python3",
      "display_name": "Python 3"
    },
    "language_info": {
      "name": "python"
    }
  },
  "cells": [
    {
      "cell_type": "markdown",
      "metadata": {
        "id": "view-in-github",
        "colab_type": "text"
      },
      "source": [
        "<a href=\"https://colab.research.google.com/github/Latamila/hackerRank/blob/main/Find_the_torsional_angle.ipynb\" target=\"_parent\"><img src=\"https://colab.research.google.com/assets/colab-badge.svg\" alt=\"Open In Colab\"/></a>"
      ]
    },
    {
      "cell_type": "markdown",
      "source": [
        "Voce recebe quatro pontos a,b,c e d em um sistema de coordenadas cartesianas tridimensional.\n",
        "\n",
        "voce é obrigado a imprimir o angulo entre o plano formado pelos pontos a,b,c e b,c,d em graus(radianos).\n",
        "```\n",
        "seja o angulo PHI = cos(PHI) = (x.y)/|x||y| onde x = ab x bc e y = bc x cd.\n",
        "```\n",
        "\n",
        "aqui x, y significa o produto escalar de x e y e ab x bc significa o produto vetorial de vetores ab e bc. Tambem, ab = b-a .\n",
        "\n",
        "formato da entrada\n",
        "\n",
        "- uma linha de entrada contendo os valores numericos flutuantes separados por espaço x,y,z coordenada de um ponto\n",
        "\n",
        "formato de saida\n",
        "\n",
        "- produza o angulo correto em ate duas casas decimais.\n",
        "\n"
      ],
      "metadata": {
        "id": "vvXljM9lh9-Z"
      }
    },
    {
      "cell_type": "code",
      "source": [
        "import math\n",
        "\n",
        "class Points(object):\n",
        "    def __init__(self, x, y, z):\n",
        "        self.x = x\n",
        "        self.y = y\n",
        "        self.z = z\n",
        "\n",
        "    def __sub__(self, no):\n",
        "        return Points((self.x-no.x),(self.y-no.y), (self.z-no.z))\n",
        "\n",
        "    def dot(self, no):\n",
        "        return (self.x*no.x)+(self.y*no.y)+(self.z*no.z)\n",
        "\n",
        "    def cross(self, no):\n",
        "        return Points((self.y*no.z-self.z*no.y), (self.z*no.x-self.x*no.z), (self.x*no.y-self.y*no.x))\n",
        "\n",
        "    def absolute(self):\n",
        "        return pow((self.x ** 2 + self.y ** 2 + self.z ** 2), 0.5)"
      ],
      "metadata": {
        "id": "qwAmfl-ejIvF"
      },
      "execution_count": null,
      "outputs": []
    }
  ]
}