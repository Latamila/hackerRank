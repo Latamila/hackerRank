{
  "nbformat": 4,
  "nbformat_minor": 0,
  "metadata": {
    "colab": {
      "provenance": [],
      "authorship_tag": "ABX9TyOF6uucrE+eRtfcf4vAVbKQ",
      "include_colab_link": true
    },
    "kernelspec": {
      "name": "python3",
      "display_name": "Python 3"
    },
    "language_info": {
      "name": "python"
    }
  },
  "cells": [
    {
      "cell_type": "markdown",
      "metadata": {
        "id": "view-in-github",
        "colab_type": "text"
      },
      "source": [
        "<a href=\"https://colab.research.google.com/github/Latamila/hackerRank/blob/main/ALGminMaxSum.ipynb\" target=\"_parent\"><img src=\"https://colab.research.google.com/assets/colab-badge.svg\" alt=\"Open In Colab\"/></a>"
      ]
    },
    {
      "cell_type": "code",
      "execution_count": 20,
      "metadata": {
        "id": "XCGoyx6GuV4t"
      },
      "outputs": [],
      "source": [
        "arr = [7,69,2,221,8974]"
      ]
    },
    {
      "cell_type": "code",
      "source": [
        "ar = sorted(arr)\n",
        "print(ar)"
      ],
      "metadata": {
        "colab": {
          "base_uri": "https://localhost:8080/"
        },
        "id": "gidTmP26ulqg",
        "outputId": "9ab4a217-043e-40f0-e12e-1c6b4f059550"
      },
      "execution_count": 21,
      "outputs": [
        {
          "output_type": "stream",
          "name": "stdout",
          "text": [
            "[2, 7, 69, 221, 8974]\n"
          ]
        }
      ]
    },
    {
      "cell_type": "code",
      "source": [
        "min = 0\n",
        "max = 0"
      ],
      "metadata": {
        "id": "6tOm6dpUu3V0"
      },
      "execution_count": 22,
      "outputs": []
    },
    {
      "cell_type": "code",
      "source": [
        "for i in range(len(ar)-1):\n",
        "  min += int(ar[i])\n",
        "  print(min)"
      ],
      "metadata": {
        "colab": {
          "base_uri": "https://localhost:8080/"
        },
        "id": "YHBMQtI7upvQ",
        "outputId": "ca506930-4063-412a-8052-d7567207b0b3"
      },
      "execution_count": 23,
      "outputs": [
        {
          "output_type": "stream",
          "name": "stdout",
          "text": [
            "2\n",
            "9\n",
            "78\n",
            "299\n"
          ]
        }
      ]
    },
    {
      "cell_type": "code",
      "source": [
        "for i in range(1,len(ar)):\n",
        "  max += int(ar[i])\n",
        "  print(max)"
      ],
      "metadata": {
        "colab": {
          "base_uri": "https://localhost:8080/"
        },
        "id": "XfBRyI9Bu-6b",
        "outputId": "3a754f93-dc55-4902-f5e5-587ade4fd9a3"
      },
      "execution_count": 24,
      "outputs": [
        {
          "output_type": "stream",
          "name": "stdout",
          "text": [
            "7\n",
            "76\n",
            "297\n",
            "9271\n"
          ]
        }
      ]
    },
    {
      "cell_type": "code",
      "source": [
        "res = (int(min), int(max))\n",
        "print(res)"
      ],
      "metadata": {
        "colab": {
          "base_uri": "https://localhost:8080/"
        },
        "id": "FKP0m0oTyH5e",
        "outputId": "63568bc6-41fb-428f-b078-81f192a0c789"
      },
      "execution_count": 25,
      "outputs": [
        {
          "output_type": "stream",
          "name": "stdout",
          "text": [
            "(299, 9271)\n"
          ]
        }
      ]
    },
    {
      "cell_type": "code",
      "source": [
        "arr = sorted(arr)\n",
        "print(arr)"
      ],
      "metadata": {
        "colab": {
          "base_uri": "https://localhost:8080/"
        },
        "id": "9e1xgwFbvhnn",
        "outputId": "5f8c11ee-292c-4075-e520-a5b66ea8428a"
      },
      "execution_count": 26,
      "outputs": [
        {
          "output_type": "stream",
          "name": "stdout",
          "text": [
            "[2, 7, 69, 221, 8974]\n"
          ]
        }
      ]
    },
    {
      "cell_type": "code",
      "source": [
        "print(sum(arr[:-1]), sum(arr[1:]))"
      ],
      "metadata": {
        "colab": {
          "base_uri": "https://localhost:8080/"
        },
        "id": "8icQAcgpzLbR",
        "outputId": "e382943f-9676-4a21-a169-b8d82c11ee72"
      },
      "execution_count": 27,
      "outputs": [
        {
          "output_type": "stream",
          "name": "stdout",
          "text": [
            "299 9271\n"
          ]
        }
      ]
    },
    {
      "cell_type": "markdown",
      "source": [
        "#RESOLUÇÃO DOS PROBLEMAS"
      ],
      "metadata": {
        "id": "-lRM45ee2S4u"
      }
    },
    {
      "cell_type": "code",
      "source": [
        "#!/bin/python3\n",
        "\n",
        "import math\n",
        "import os\n",
        "import random\n",
        "import re\n",
        "import sys\n",
        "\n",
        "#\n",
        "# Complete the 'miniMaxSum' function below.\n",
        "#\n",
        "# The function accepts INTEGER_ARRAY arr as parameter.\n",
        "#\n",
        "\n",
        "def miniMaxSum(arr):\n",
        "    arr = sorted(arr)\n",
        "    min=sum(arr[:-1])\n",
        "    max=sum(arr[1:])\n",
        "    print(min, max)\n",
        "\n",
        "    # Write your code here\n",
        "\n",
        "if __name__ == '__main__':\n",
        "\n",
        "    arr = list(map(int, input().rstrip().split()))\n",
        "\n",
        "    miniMaxSum(arr)"
      ],
      "metadata": {
        "colab": {
          "base_uri": "https://localhost:8080/"
        },
        "id": "CfmiIwyRzV9B",
        "outputId": "ba9a2584-de88-4bc3-f004-98de28b12f09"
      },
      "execution_count": 28,
      "outputs": [
        {
          "output_type": "stream",
          "name": "stdout",
          "text": [
            "1 5 2 4 3 \n",
            "10 14\n"
          ]
        }
      ]
    },
    {
      "cell_type": "markdown",
      "source": [
        "#OU PODE SER ASSIM TAMBÉM"
      ],
      "metadata": {
        "id": "7WiJHRYq2ht0"
      }
    },
    {
      "cell_type": "code",
      "source": [
        "#!/bin/python3\n",
        "\n",
        "import math\n",
        "import os\n",
        "import random\n",
        "import re\n",
        "import sys\n",
        "\n",
        "#\n",
        "# Complete the 'miniMaxSum' function below.\n",
        "#\n",
        "# The function accepts INTEGER_ARRAY arr as parameter.\n",
        "#\n",
        "\n",
        "def miniMaxSum(arr):\n",
        "    arr = sorted(arr)\n",
        "    print(sum(arr[:-1]), sum(arr[1:]))\n",
        "\n",
        "    # Write your code here\n",
        "\n",
        "if __name__ == '__main__':\n",
        "\n",
        "    arr = list(map(int, input().rstrip().split()))\n",
        "\n",
        "    miniMaxSum(arr)"
      ],
      "metadata": {
        "colab": {
          "base_uri": "https://localhost:8080/"
        },
        "id": "A3JobSnF2X5g",
        "outputId": "3f2bf66d-ae93-44d8-d517-06a4343b2092"
      },
      "execution_count": 29,
      "outputs": [
        {
          "output_type": "stream",
          "name": "stdout",
          "text": [
            "1 5 2 4 3\n",
            "10 14\n"
          ]
        }
      ]
    },
    {
      "cell_type": "code",
      "source": [],
      "metadata": {
        "id": "0wL5lEAr2xbH"
      },
      "execution_count": null,
      "outputs": []
    }
  ]
}
