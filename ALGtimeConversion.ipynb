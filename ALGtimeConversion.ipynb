{
  "nbformat": 4,
  "nbformat_minor": 0,
  "metadata": {
    "colab": {
      "provenance": [],
      "authorship_tag": "ABX9TyM8a1UtbmV2UzWuMUMNA393",
      "include_colab_link": true
    },
    "kernelspec": {
      "name": "python3",
      "display_name": "Python 3"
    },
    "language_info": {
      "name": "python"
    }
  },
  "cells": [
    {
      "cell_type": "markdown",
      "metadata": {
        "id": "view-in-github",
        "colab_type": "text"
      },
      "source": [
        "<a href=\"https://colab.research.google.com/github/Latamila/hackerRank/blob/main/ALGtimeConversion.ipynb\" target=\"_parent\"><img src=\"https://colab.research.google.com/assets/colab-badge.svg\" alt=\"Open In Colab\"/></a>"
      ]
    },
    {
      "cell_type": "code",
      "execution_count": 4,
      "metadata": {
        "colab": {
          "base_uri": "https://localhost:8080/"
        },
        "id": "WEB_IxNGG0sT",
        "outputId": "64d30f03-f7bc-445d-fa88-545ae5e57467"
      },
      "outputs": [
        {
          "output_type": "stream",
          "name": "stdout",
          "text": [
            "15:01:56\n"
          ]
        }
      ],
      "source": [
        "s = \"03:01:56PM\"\n",
        "\n",
        "if s[-2:] == \"AM\" and s[:2] == \"12\": #pegando do penultimo e ultimo caraccter\n",
        "#pegando o primeiro e segundo caracter, respectivamente.\n",
        "  print(\"00\" + s[2:-2])#concatenaçao da conversao com o terceiro até\n",
        "#o antepenultimo caracter\n",
        "\n",
        "elif s[-2:] ==\"AM\":#pegando o penultimo e ultimo caracter\n",
        "    print(s[:-2])#imprimindo até o penultimo caracter sem o AM ou PM\n",
        "\n",
        "elif s[-2:] ==\"PM\" and s[:2] == \"12\":#pegando do penultimo e ultimo caraccter\n",
        "#pegando o primeiro e segundo caracter, respectivamente.\n",
        "    print(s[:-2])\n",
        "\n",
        "else:\n",
        "  print(str(int(s[:2]) + 12) + s[2:8])"
      ]
    },
    {
      "cell_type": "markdown",
      "source": [
        "##ESTE É O CÓDIGO QUE VAI RODAR NO HACKER RANK"
      ],
      "metadata": {
        "id": "v_IfFowxJhiz"
      }
    },
    {
      "cell_type": "code",
      "source": [
        "import math\n",
        "import os\n",
        "import random\n",
        "import re\n",
        "import sys\n",
        "\n",
        "#\n",
        "# Complete the 'timeConversion' function below.\n",
        "#\n",
        "# The function is expected to return a STRING.\n",
        "# The function accepts STRING s as parameter.\n",
        "#\n",
        "\n",
        "def timeConversion(s):\n",
        "    if s[-2:] == \"AM\" and s[:2] == \"12\":\n",
        "        return \"00\" + s[2:-2]\n",
        "\n",
        "    elif s[-2:] ==\"AM\":\n",
        "        return s[:-2]\n",
        "\n",
        "    elif s[-2:] ==\"PM\" and s[:2] == \"12\":\n",
        "        return s[:-2]\n",
        "\n",
        "    else:\n",
        "        return str(int(s[:2]) + 12) + s[2:8]\n",
        "\n",
        "    # Write your code here\n",
        "\n",
        "if __name__ == '__main__':\n",
        "    fptr = open(os.environ['OUTPUT_PATH'], 'w')\n",
        "\n",
        "    s = input()\n",
        "\n",
        "    result = timeConversion(s)\n",
        "\n",
        "    fptr.write(result + '\\n')\n",
        "\n",
        "    fptr.close()"
      ],
      "metadata": {
        "id": "ZvtpyX1OHkNw"
      },
      "execution_count": null,
      "outputs": []
    }
  ]
}