{
  "nbformat": 4,
  "nbformat_minor": 0,
  "metadata": {
    "colab": {
      "provenance": [],
      "authorship_tag": "ABX9TyNEuAVGT+pHcyGQSkUX8pUo",
      "include_colab_link": true
    },
    "kernelspec": {
      "name": "python3",
      "display_name": "Python 3"
    },
    "language_info": {
      "name": "python"
    }
  },
  "cells": [
    {
      "cell_type": "markdown",
      "metadata": {
        "id": "view-in-github",
        "colab_type": "text"
      },
      "source": [
        "<a href=\"https://colab.research.google.com/github/Latamila/hackerRank/blob/main/Fatorial.ipynb\" target=\"_parent\"><img src=\"https://colab.research.google.com/assets/colab-badge.svg\" alt=\"Open In Colab\"/></a>"
      ]
    },
    {
      "cell_type": "code",
      "execution_count": 1,
      "metadata": {
        "colab": {
          "base_uri": "https://localhost:8080/"
        },
        "id": "iMDu1Ssm1-lE",
        "outputId": "fcd864fe-8874-456b-d37e-c3e57e5a3ce1"
      },
      "outputs": [
        {
          "output_type": "stream",
          "name": "stdout",
          "text": [
            "Requirement already satisfied: pytest in /usr/local/lib/python3.10/dist-packages (7.4.3)\n",
            "Requirement already satisfied: iniconfig in /usr/local/lib/python3.10/dist-packages (from pytest) (2.0.0)\n",
            "Requirement already satisfied: packaging in /usr/local/lib/python3.10/dist-packages (from pytest) (23.2)\n",
            "Requirement already satisfied: pluggy<2.0,>=0.12 in /usr/local/lib/python3.10/dist-packages (from pytest) (1.3.0)\n",
            "Requirement already satisfied: exceptiongroup>=1.0.0rc8 in /usr/local/lib/python3.10/dist-packages (from pytest) (1.2.0)\n",
            "Requirement already satisfied: tomli>=1.0.0 in /usr/local/lib/python3.10/dist-packages (from pytest) (2.0.1)\n"
          ]
        }
      ],
      "source": [
        "!pip install pytest"
      ]
    },
    {
      "cell_type": "code",
      "source": [
        "def func(x):\n",
        "  return x + 1\n",
        "\n",
        ""
      ],
      "metadata": {
        "id": "ZUcIFc_g5woB"
      },
      "execution_count": 2,
      "outputs": []
    },
    {
      "cell_type": "code",
      "source": [
        "def test_answer():\n",
        "  assert func(3) == 4"
      ],
      "metadata": {
        "id": "LLPJMXdY57ts"
      },
      "execution_count": 5,
      "outputs": []
    },
    {
      "cell_type": "code",
      "source": [
        "test_answer()"
      ],
      "metadata": {
        "id": "6KqH4OUi6F07"
      },
      "execution_count": 6,
      "outputs": []
    },
    {
      "cell_type": "code",
      "source": [
        "def fatorial(n):\n",
        "  if n < 0:\n",
        "    return 0\n",
        "  i = fat = 1\n",
        "  while i <= n:\n",
        "    fat = fat * i\n",
        "    i = i + 1\n",
        "  return fat\n"
      ],
      "metadata": {
        "id": "dBdyxVI36LOj"
      },
      "execution_count": 12,
      "outputs": []
    },
    {
      "cell_type": "code",
      "source": [
        "fatorial(0)"
      ],
      "metadata": {
        "colab": {
          "base_uri": "https://localhost:8080/"
        },
        "id": "ouFE5v6l7aMT",
        "outputId": "a4489a52-89b8-4356-a130-de7335bb96b8"
      },
      "execution_count": 19,
      "outputs": [
        {
          "output_type": "execute_result",
          "data": {
            "text/plain": [
              "1"
            ]
          },
          "metadata": {},
          "execution_count": 19
        }
      ]
    },
    {
      "cell_type": "code",
      "source": [
        "fatorial(-10)"
      ],
      "metadata": {
        "colab": {
          "base_uri": "https://localhost:8080/"
        },
        "id": "HL-I1G9Y7bb6",
        "outputId": "89998335-f008-4dce-bc27-8c1030fdae32"
      },
      "execution_count": 20,
      "outputs": [
        {
          "output_type": "execute_result",
          "data": {
            "text/plain": [
              "0"
            ]
          },
          "metadata": {},
          "execution_count": 20
        }
      ]
    },
    {
      "cell_type": "code",
      "source": [
        "def test_fatorial0():\n",
        "  assert fatorial(0) == 1"
      ],
      "metadata": {
        "id": "v0MK7dtf8Aey"
      },
      "execution_count": 23,
      "outputs": []
    },
    {
      "cell_type": "code",
      "source": [
        "test_fatorial0()"
      ],
      "metadata": {
        "id": "HjnXUZfw8gv7"
      },
      "execution_count": 26,
      "outputs": []
    },
    {
      "cell_type": "code",
      "source": [
        "def test_fatorial1():\n",
        "  assert fatorial(1) == 1\n",
        "\n",
        "def test_fatorial_negativo():\n",
        "  assert fatorial(-10) == 0\n",
        "\n",
        "def test_fatorial4():\n",
        "  assert fatorial(4) == 24\n",
        "\n",
        "def test_fatorial5():\n",
        "  assert fatorial(5) == 120"
      ],
      "metadata": {
        "id": "Ei5iH6Qu8ytZ"
      },
      "execution_count": 27,
      "outputs": []
    },
    {
      "cell_type": "code",
      "source": [
        "test_fatorial0()\n",
        "test_fatorial1()\n",
        "test_fatorial_negativo()\n",
        "test_fatorial4()\n",
        "test_fatorial5()"
      ],
      "metadata": {
        "id": "-0lrm-KT9CMA"
      },
      "execution_count": 28,
      "outputs": []
    },
    {
      "cell_type": "code",
      "source": [],
      "metadata": {
        "id": "-guEnb0v9Lhw"
      },
      "execution_count": null,
      "outputs": []
    }
  ]
}