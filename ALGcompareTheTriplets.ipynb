{
  "nbformat": 4,
  "nbformat_minor": 0,
  "metadata": {
    "colab": {
      "provenance": [],
      "authorship_tag": "ABX9TyOH3WB886sPlZqs3Jf/imI+",
      "include_colab_link": true
    },
    "kernelspec": {
      "name": "python3",
      "display_name": "Python 3"
    },
    "language_info": {
      "name": "python"
    }
  },
  "cells": [
    {
      "cell_type": "markdown",
      "metadata": {
        "id": "view-in-github",
        "colab_type": "text"
      },
      "source": [
        "<a href=\"https://colab.research.google.com/github/Latamila/hackerRank/blob/main/ALGcompareTheTriplets.ipynb\" target=\"_parent\"><img src=\"https://colab.research.google.com/assets/colab-badge.svg\" alt=\"Open In Colab\"/></a>"
      ]
    },
    {
      "cell_type": "code",
      "source": [
        "import math\n",
        "import os\n",
        "import random\n",
        "import re\n",
        "import sys\n",
        "# Complete the compareTriplets function below.\n",
        "def compareTriplets(a, b):\n",
        "    pointa=0\n",
        "    pointb=0\n",
        "    ar = []\n",
        "    for i in range(3):\n",
        "        if a[i]>b[i]:\n",
        "            pointa+=1\n",
        "\n",
        "        if a[i]<b[i]:\n",
        "            pointb+=1\n",
        "    ar.insert(0,pointa)\n",
        "    ar.insert(1,pointb)\n",
        "    return(ar)\n",
        "if __name__ == '__main__':\n",
        "    fptr = open(os.environ['OUTPUT_PATH'], 'w')\n",
        "    a = list(map(int, input().rstrip().split()))\n",
        "    b = list(map(int, input().rstrip().split()))\n",
        "    result = compareTriplets(a, b)\n",
        "    fptr.write(' '.join(map(str, result)))\n",
        "    fptr.write('\\n')\n",
        "    fptr.close()"
      ],
      "metadata": {
        "id": "ej-y7oNf-FMi"
      },
      "execution_count": null,
      "outputs": []
    },
    {
      "cell_type": "markdown",
      "source": [
        "Este código em Python compara duas listas de três elementos, a e b, e conta quantas vezes o elemento correspondente em a é maior que o elemento correspondente em b e vice-versa. Os resultados são armazenados em uma lista e impressos no formato de string.\n",
        "\n"
      ],
      "metadata": {
        "id": "DIFFZB1g-6i_"
      }
    },
    {
      "cell_type": "markdown",
      "source": [
        "#Função compareTriplets:\n",
        "\n",
        "Define uma função chamada compareTriplets que recebe duas listas a e b como entrada.\n",
        "\n",
        "Inicializa variáveis pointa e pointb para contar os pontos de cada lista.\n",
        "\n",
        "Usa um loop for para percorrer os elementos correspondentes em ambas as listas.\n",
        "\n",
        "Compara os elementos e incrementa pointa se o elemento em a for maior, pointb se o elemento em b for maior.\n",
        "\n",
        "Os pontos são armazenados em uma lista ar.\n",
        "Bloco Main (`if name == 'main':):\n",
        "\n",
        "Abre um arquivo para gravação usando o caminho especificado em os.environ['OUTPUT_PATH'].\n",
        "\n",
        "Lê duas listas de inteiros, a e b, do usuário.\n",
        "\n",
        "Chama a função compareTriplets para obter o resultado.\n",
        "\n",
        "Converte os resultados em strings e escreve no arquivo de saída.\n",
        "\n",
        "Fecha o arquivo."
      ],
      "metadata": {
        "id": "eSUy28sE-6f_"
      }
    }
  ]
}